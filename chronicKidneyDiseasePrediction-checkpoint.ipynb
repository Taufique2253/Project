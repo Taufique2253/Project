{
 "cells": [
  {
   "cell_type": "code",
   "execution_count": 183,
   "id": "e05c1dbe",
   "metadata": {},
   "outputs": [],
   "source": [
    "import pandas as pd\n",
    "import numpy as np\n",
    "import matplotlib.pyplot as plt\n",
    "import seaborn as sns"
   ]
  },
  {
   "cell_type": "code",
   "execution_count": 184,
   "id": "989593e0",
   "metadata": {},
   "outputs": [],
   "source": [
    "df = pd.read_csv(\"C:/Users/KIIT/Desktop/kidney_disease.csv\")"
   ]
  },
  {
   "cell_type": "code",
   "execution_count": 185,
   "id": "48073f00",
   "metadata": {},
   "outputs": [
    {
     "data": {
      "text/html": [
       "<div>\n",
       "<style scoped>\n",
       "    .dataframe tbody tr th:only-of-type {\n",
       "        vertical-align: middle;\n",
       "    }\n",
       "\n",
       "    .dataframe tbody tr th {\n",
       "        vertical-align: top;\n",
       "    }\n",
       "\n",
       "    .dataframe thead th {\n",
       "        text-align: right;\n",
       "    }\n",
       "</style>\n",
       "<table border=\"1\" class=\"dataframe\">\n",
       "  <thead>\n",
       "    <tr style=\"text-align: right;\">\n",
       "      <th></th>\n",
       "      <th>id</th>\n",
       "      <th>age</th>\n",
       "      <th>bp</th>\n",
       "      <th>sg</th>\n",
       "      <th>al</th>\n",
       "      <th>su</th>\n",
       "      <th>rbc</th>\n",
       "      <th>pc</th>\n",
       "      <th>pcc</th>\n",
       "      <th>ba</th>\n",
       "      <th>...</th>\n",
       "      <th>pcv</th>\n",
       "      <th>wc</th>\n",
       "      <th>rc</th>\n",
       "      <th>htn</th>\n",
       "      <th>dm</th>\n",
       "      <th>cad</th>\n",
       "      <th>appet</th>\n",
       "      <th>pe</th>\n",
       "      <th>ane</th>\n",
       "      <th>classification</th>\n",
       "    </tr>\n",
       "  </thead>\n",
       "  <tbody>\n",
       "    <tr>\n",
       "      <th>0</th>\n",
       "      <td>0</td>\n",
       "      <td>48.0</td>\n",
       "      <td>80.0</td>\n",
       "      <td>1.020</td>\n",
       "      <td>1.0</td>\n",
       "      <td>0.0</td>\n",
       "      <td>NaN</td>\n",
       "      <td>normal</td>\n",
       "      <td>notpresent</td>\n",
       "      <td>notpresent</td>\n",
       "      <td>...</td>\n",
       "      <td>44</td>\n",
       "      <td>7800</td>\n",
       "      <td>5.2</td>\n",
       "      <td>yes</td>\n",
       "      <td>yes</td>\n",
       "      <td>no</td>\n",
       "      <td>good</td>\n",
       "      <td>no</td>\n",
       "      <td>no</td>\n",
       "      <td>ckd</td>\n",
       "    </tr>\n",
       "    <tr>\n",
       "      <th>1</th>\n",
       "      <td>1</td>\n",
       "      <td>7.0</td>\n",
       "      <td>50.0</td>\n",
       "      <td>1.020</td>\n",
       "      <td>4.0</td>\n",
       "      <td>0.0</td>\n",
       "      <td>NaN</td>\n",
       "      <td>normal</td>\n",
       "      <td>notpresent</td>\n",
       "      <td>notpresent</td>\n",
       "      <td>...</td>\n",
       "      <td>38</td>\n",
       "      <td>6000</td>\n",
       "      <td>NaN</td>\n",
       "      <td>no</td>\n",
       "      <td>no</td>\n",
       "      <td>no</td>\n",
       "      <td>good</td>\n",
       "      <td>no</td>\n",
       "      <td>no</td>\n",
       "      <td>ckd</td>\n",
       "    </tr>\n",
       "    <tr>\n",
       "      <th>2</th>\n",
       "      <td>2</td>\n",
       "      <td>62.0</td>\n",
       "      <td>80.0</td>\n",
       "      <td>1.010</td>\n",
       "      <td>2.0</td>\n",
       "      <td>3.0</td>\n",
       "      <td>normal</td>\n",
       "      <td>normal</td>\n",
       "      <td>notpresent</td>\n",
       "      <td>notpresent</td>\n",
       "      <td>...</td>\n",
       "      <td>31</td>\n",
       "      <td>7500</td>\n",
       "      <td>NaN</td>\n",
       "      <td>no</td>\n",
       "      <td>yes</td>\n",
       "      <td>no</td>\n",
       "      <td>poor</td>\n",
       "      <td>no</td>\n",
       "      <td>yes</td>\n",
       "      <td>ckd</td>\n",
       "    </tr>\n",
       "    <tr>\n",
       "      <th>3</th>\n",
       "      <td>3</td>\n",
       "      <td>48.0</td>\n",
       "      <td>70.0</td>\n",
       "      <td>1.005</td>\n",
       "      <td>4.0</td>\n",
       "      <td>0.0</td>\n",
       "      <td>normal</td>\n",
       "      <td>abnormal</td>\n",
       "      <td>present</td>\n",
       "      <td>notpresent</td>\n",
       "      <td>...</td>\n",
       "      <td>32</td>\n",
       "      <td>6700</td>\n",
       "      <td>3.9</td>\n",
       "      <td>yes</td>\n",
       "      <td>no</td>\n",
       "      <td>no</td>\n",
       "      <td>poor</td>\n",
       "      <td>yes</td>\n",
       "      <td>yes</td>\n",
       "      <td>ckd</td>\n",
       "    </tr>\n",
       "    <tr>\n",
       "      <th>4</th>\n",
       "      <td>4</td>\n",
       "      <td>51.0</td>\n",
       "      <td>80.0</td>\n",
       "      <td>1.010</td>\n",
       "      <td>2.0</td>\n",
       "      <td>0.0</td>\n",
       "      <td>normal</td>\n",
       "      <td>normal</td>\n",
       "      <td>notpresent</td>\n",
       "      <td>notpresent</td>\n",
       "      <td>...</td>\n",
       "      <td>35</td>\n",
       "      <td>7300</td>\n",
       "      <td>4.6</td>\n",
       "      <td>no</td>\n",
       "      <td>no</td>\n",
       "      <td>no</td>\n",
       "      <td>good</td>\n",
       "      <td>no</td>\n",
       "      <td>no</td>\n",
       "      <td>ckd</td>\n",
       "    </tr>\n",
       "  </tbody>\n",
       "</table>\n",
       "<p>5 rows × 26 columns</p>\n",
       "</div>"
      ],
      "text/plain": [
       "   id   age    bp     sg   al   su     rbc        pc         pcc          ba  \\\n",
       "0   0  48.0  80.0  1.020  1.0  0.0     NaN    normal  notpresent  notpresent   \n",
       "1   1   7.0  50.0  1.020  4.0  0.0     NaN    normal  notpresent  notpresent   \n",
       "2   2  62.0  80.0  1.010  2.0  3.0  normal    normal  notpresent  notpresent   \n",
       "3   3  48.0  70.0  1.005  4.0  0.0  normal  abnormal     present  notpresent   \n",
       "4   4  51.0  80.0  1.010  2.0  0.0  normal    normal  notpresent  notpresent   \n",
       "\n",
       "   ...  pcv    wc   rc  htn   dm  cad appet   pe  ane classification  \n",
       "0  ...   44  7800  5.2  yes  yes   no  good   no   no            ckd  \n",
       "1  ...   38  6000  NaN   no   no   no  good   no   no            ckd  \n",
       "2  ...   31  7500  NaN   no  yes   no  poor   no  yes            ckd  \n",
       "3  ...   32  6700  3.9  yes   no   no  poor  yes  yes            ckd  \n",
       "4  ...   35  7300  4.6   no   no   no  good   no   no            ckd  \n",
       "\n",
       "[5 rows x 26 columns]"
      ]
     },
     "execution_count": 185,
     "metadata": {},
     "output_type": "execute_result"
    }
   ],
   "source": [
    "df.head()"
   ]
  },
  {
   "cell_type": "code",
   "execution_count": 186,
   "id": "4d402b76",
   "metadata": {},
   "outputs": [],
   "source": [
    "columns =  pd.read_csv(\"C:/Users/KIIT/Desktop/data_description.txt\", sep='-')\n",
    "columns = columns.reset_index()"
   ]
  },
  {
   "cell_type": "code",
   "execution_count": 187,
   "id": "d881dcb8",
   "metadata": {},
   "outputs": [],
   "source": [
    "columns.columns=['cols', 'col_names']"
   ]
  },
  {
   "cell_type": "code",
   "execution_count": 188,
   "id": "49063676",
   "metadata": {},
   "outputs": [],
   "source": [
    "df.columns = columns['col_names'].values   #Converting to a user-friendly format"
   ]
  },
  {
   "cell_type": "code",
   "execution_count": 189,
   "id": "8134f40d",
   "metadata": {},
   "outputs": [
    {
     "data": {
      "text/html": [
       "<div>\n",
       "<style scoped>\n",
       "    .dataframe tbody tr th:only-of-type {\n",
       "        vertical-align: middle;\n",
       "    }\n",
       "\n",
       "    .dataframe tbody tr th {\n",
       "        vertical-align: top;\n",
       "    }\n",
       "\n",
       "    .dataframe thead th {\n",
       "        text-align: right;\n",
       "    }\n",
       "</style>\n",
       "<table border=\"1\" class=\"dataframe\">\n",
       "  <thead>\n",
       "    <tr style=\"text-align: right;\">\n",
       "      <th></th>\n",
       "      <th>id</th>\n",
       "      <th>age</th>\n",
       "      <th>blood pressure</th>\n",
       "      <th>specific gravity</th>\n",
       "      <th>albumin</th>\n",
       "      <th>sugar</th>\n",
       "      <th>red blood cells</th>\n",
       "      <th>pus cell</th>\n",
       "      <th>pus cell clumps</th>\n",
       "      <th>bacteria</th>\n",
       "      <th>...</th>\n",
       "      <th>packed cell volume</th>\n",
       "      <th>white blood cell count</th>\n",
       "      <th>red blood cell count</th>\n",
       "      <th>ypertension</th>\n",
       "      <th>diabetes mellitus</th>\n",
       "      <th>coronary artery disease</th>\n",
       "      <th>appetite</th>\n",
       "      <th>pedal edema</th>\n",
       "      <th>anemia</th>\n",
       "      <th>class</th>\n",
       "    </tr>\n",
       "  </thead>\n",
       "  <tbody>\n",
       "    <tr>\n",
       "      <th>0</th>\n",
       "      <td>0</td>\n",
       "      <td>48.0</td>\n",
       "      <td>80.0</td>\n",
       "      <td>1.020</td>\n",
       "      <td>1.0</td>\n",
       "      <td>0.0</td>\n",
       "      <td>NaN</td>\n",
       "      <td>normal</td>\n",
       "      <td>notpresent</td>\n",
       "      <td>notpresent</td>\n",
       "      <td>...</td>\n",
       "      <td>44</td>\n",
       "      <td>7800</td>\n",
       "      <td>5.2</td>\n",
       "      <td>yes</td>\n",
       "      <td>yes</td>\n",
       "      <td>no</td>\n",
       "      <td>good</td>\n",
       "      <td>no</td>\n",
       "      <td>no</td>\n",
       "      <td>ckd</td>\n",
       "    </tr>\n",
       "    <tr>\n",
       "      <th>1</th>\n",
       "      <td>1</td>\n",
       "      <td>7.0</td>\n",
       "      <td>50.0</td>\n",
       "      <td>1.020</td>\n",
       "      <td>4.0</td>\n",
       "      <td>0.0</td>\n",
       "      <td>NaN</td>\n",
       "      <td>normal</td>\n",
       "      <td>notpresent</td>\n",
       "      <td>notpresent</td>\n",
       "      <td>...</td>\n",
       "      <td>38</td>\n",
       "      <td>6000</td>\n",
       "      <td>NaN</td>\n",
       "      <td>no</td>\n",
       "      <td>no</td>\n",
       "      <td>no</td>\n",
       "      <td>good</td>\n",
       "      <td>no</td>\n",
       "      <td>no</td>\n",
       "      <td>ckd</td>\n",
       "    </tr>\n",
       "    <tr>\n",
       "      <th>2</th>\n",
       "      <td>2</td>\n",
       "      <td>62.0</td>\n",
       "      <td>80.0</td>\n",
       "      <td>1.010</td>\n",
       "      <td>2.0</td>\n",
       "      <td>3.0</td>\n",
       "      <td>normal</td>\n",
       "      <td>normal</td>\n",
       "      <td>notpresent</td>\n",
       "      <td>notpresent</td>\n",
       "      <td>...</td>\n",
       "      <td>31</td>\n",
       "      <td>7500</td>\n",
       "      <td>NaN</td>\n",
       "      <td>no</td>\n",
       "      <td>yes</td>\n",
       "      <td>no</td>\n",
       "      <td>poor</td>\n",
       "      <td>no</td>\n",
       "      <td>yes</td>\n",
       "      <td>ckd</td>\n",
       "    </tr>\n",
       "    <tr>\n",
       "      <th>3</th>\n",
       "      <td>3</td>\n",
       "      <td>48.0</td>\n",
       "      <td>70.0</td>\n",
       "      <td>1.005</td>\n",
       "      <td>4.0</td>\n",
       "      <td>0.0</td>\n",
       "      <td>normal</td>\n",
       "      <td>abnormal</td>\n",
       "      <td>present</td>\n",
       "      <td>notpresent</td>\n",
       "      <td>...</td>\n",
       "      <td>32</td>\n",
       "      <td>6700</td>\n",
       "      <td>3.9</td>\n",
       "      <td>yes</td>\n",
       "      <td>no</td>\n",
       "      <td>no</td>\n",
       "      <td>poor</td>\n",
       "      <td>yes</td>\n",
       "      <td>yes</td>\n",
       "      <td>ckd</td>\n",
       "    </tr>\n",
       "    <tr>\n",
       "      <th>4</th>\n",
       "      <td>4</td>\n",
       "      <td>51.0</td>\n",
       "      <td>80.0</td>\n",
       "      <td>1.010</td>\n",
       "      <td>2.0</td>\n",
       "      <td>0.0</td>\n",
       "      <td>normal</td>\n",
       "      <td>normal</td>\n",
       "      <td>notpresent</td>\n",
       "      <td>notpresent</td>\n",
       "      <td>...</td>\n",
       "      <td>35</td>\n",
       "      <td>7300</td>\n",
       "      <td>4.6</td>\n",
       "      <td>no</td>\n",
       "      <td>no</td>\n",
       "      <td>no</td>\n",
       "      <td>good</td>\n",
       "      <td>no</td>\n",
       "      <td>no</td>\n",
       "      <td>ckd</td>\n",
       "    </tr>\n",
       "    <tr>\n",
       "      <th>...</th>\n",
       "      <td>...</td>\n",
       "      <td>...</td>\n",
       "      <td>...</td>\n",
       "      <td>...</td>\n",
       "      <td>...</td>\n",
       "      <td>...</td>\n",
       "      <td>...</td>\n",
       "      <td>...</td>\n",
       "      <td>...</td>\n",
       "      <td>...</td>\n",
       "      <td>...</td>\n",
       "      <td>...</td>\n",
       "      <td>...</td>\n",
       "      <td>...</td>\n",
       "      <td>...</td>\n",
       "      <td>...</td>\n",
       "      <td>...</td>\n",
       "      <td>...</td>\n",
       "      <td>...</td>\n",
       "      <td>...</td>\n",
       "      <td>...</td>\n",
       "    </tr>\n",
       "    <tr>\n",
       "      <th>395</th>\n",
       "      <td>395</td>\n",
       "      <td>55.0</td>\n",
       "      <td>80.0</td>\n",
       "      <td>1.020</td>\n",
       "      <td>0.0</td>\n",
       "      <td>0.0</td>\n",
       "      <td>normal</td>\n",
       "      <td>normal</td>\n",
       "      <td>notpresent</td>\n",
       "      <td>notpresent</td>\n",
       "      <td>...</td>\n",
       "      <td>47</td>\n",
       "      <td>6700</td>\n",
       "      <td>4.9</td>\n",
       "      <td>no</td>\n",
       "      <td>no</td>\n",
       "      <td>no</td>\n",
       "      <td>good</td>\n",
       "      <td>no</td>\n",
       "      <td>no</td>\n",
       "      <td>notckd</td>\n",
       "    </tr>\n",
       "    <tr>\n",
       "      <th>396</th>\n",
       "      <td>396</td>\n",
       "      <td>42.0</td>\n",
       "      <td>70.0</td>\n",
       "      <td>1.025</td>\n",
       "      <td>0.0</td>\n",
       "      <td>0.0</td>\n",
       "      <td>normal</td>\n",
       "      <td>normal</td>\n",
       "      <td>notpresent</td>\n",
       "      <td>notpresent</td>\n",
       "      <td>...</td>\n",
       "      <td>54</td>\n",
       "      <td>7800</td>\n",
       "      <td>6.2</td>\n",
       "      <td>no</td>\n",
       "      <td>no</td>\n",
       "      <td>no</td>\n",
       "      <td>good</td>\n",
       "      <td>no</td>\n",
       "      <td>no</td>\n",
       "      <td>notckd</td>\n",
       "    </tr>\n",
       "    <tr>\n",
       "      <th>397</th>\n",
       "      <td>397</td>\n",
       "      <td>12.0</td>\n",
       "      <td>80.0</td>\n",
       "      <td>1.020</td>\n",
       "      <td>0.0</td>\n",
       "      <td>0.0</td>\n",
       "      <td>normal</td>\n",
       "      <td>normal</td>\n",
       "      <td>notpresent</td>\n",
       "      <td>notpresent</td>\n",
       "      <td>...</td>\n",
       "      <td>49</td>\n",
       "      <td>6600</td>\n",
       "      <td>5.4</td>\n",
       "      <td>no</td>\n",
       "      <td>no</td>\n",
       "      <td>no</td>\n",
       "      <td>good</td>\n",
       "      <td>no</td>\n",
       "      <td>no</td>\n",
       "      <td>notckd</td>\n",
       "    </tr>\n",
       "    <tr>\n",
       "      <th>398</th>\n",
       "      <td>398</td>\n",
       "      <td>17.0</td>\n",
       "      <td>60.0</td>\n",
       "      <td>1.025</td>\n",
       "      <td>0.0</td>\n",
       "      <td>0.0</td>\n",
       "      <td>normal</td>\n",
       "      <td>normal</td>\n",
       "      <td>notpresent</td>\n",
       "      <td>notpresent</td>\n",
       "      <td>...</td>\n",
       "      <td>51</td>\n",
       "      <td>7200</td>\n",
       "      <td>5.9</td>\n",
       "      <td>no</td>\n",
       "      <td>no</td>\n",
       "      <td>no</td>\n",
       "      <td>good</td>\n",
       "      <td>no</td>\n",
       "      <td>no</td>\n",
       "      <td>notckd</td>\n",
       "    </tr>\n",
       "    <tr>\n",
       "      <th>399</th>\n",
       "      <td>399</td>\n",
       "      <td>58.0</td>\n",
       "      <td>80.0</td>\n",
       "      <td>1.025</td>\n",
       "      <td>0.0</td>\n",
       "      <td>0.0</td>\n",
       "      <td>normal</td>\n",
       "      <td>normal</td>\n",
       "      <td>notpresent</td>\n",
       "      <td>notpresent</td>\n",
       "      <td>...</td>\n",
       "      <td>53</td>\n",
       "      <td>6800</td>\n",
       "      <td>6.1</td>\n",
       "      <td>no</td>\n",
       "      <td>no</td>\n",
       "      <td>no</td>\n",
       "      <td>good</td>\n",
       "      <td>no</td>\n",
       "      <td>no</td>\n",
       "      <td>notckd</td>\n",
       "    </tr>\n",
       "  </tbody>\n",
       "</table>\n",
       "<p>400 rows × 26 columns</p>\n",
       "</div>"
      ],
      "text/plain": [
       "      id   age  blood pressure  specific gravity  albumin  sugar  \\\n",
       "0      0  48.0            80.0             1.020      1.0    0.0   \n",
       "1      1   7.0            50.0             1.020      4.0    0.0   \n",
       "2      2  62.0            80.0             1.010      2.0    3.0   \n",
       "3      3  48.0            70.0             1.005      4.0    0.0   \n",
       "4      4  51.0            80.0             1.010      2.0    0.0   \n",
       "..   ...   ...             ...               ...      ...    ...   \n",
       "395  395  55.0            80.0             1.020      0.0    0.0   \n",
       "396  396  42.0            70.0             1.025      0.0    0.0   \n",
       "397  397  12.0            80.0             1.020      0.0    0.0   \n",
       "398  398  17.0            60.0             1.025      0.0    0.0   \n",
       "399  399  58.0            80.0             1.025      0.0    0.0   \n",
       "\n",
       "    red blood cells  pus cell pus cell clumps    bacteria  ...  \\\n",
       "0               NaN    normal      notpresent  notpresent  ...   \n",
       "1               NaN    normal      notpresent  notpresent  ...   \n",
       "2            normal    normal      notpresent  notpresent  ...   \n",
       "3            normal  abnormal         present  notpresent  ...   \n",
       "4            normal    normal      notpresent  notpresent  ...   \n",
       "..              ...       ...             ...         ...  ...   \n",
       "395          normal    normal      notpresent  notpresent  ...   \n",
       "396          normal    normal      notpresent  notpresent  ...   \n",
       "397          normal    normal      notpresent  notpresent  ...   \n",
       "398          normal    normal      notpresent  notpresent  ...   \n",
       "399          normal    normal      notpresent  notpresent  ...   \n",
       "\n",
       "     packed cell volume  white blood cell count  red blood cell count  \\\n",
       "0                    44                    7800                   5.2   \n",
       "1                    38                    6000                   NaN   \n",
       "2                    31                    7500                   NaN   \n",
       "3                    32                    6700                   3.9   \n",
       "4                    35                    7300                   4.6   \n",
       "..                  ...                     ...                   ...   \n",
       "395                  47                    6700                   4.9   \n",
       "396                  54                    7800                   6.2   \n",
       "397                  49                    6600                   5.4   \n",
       "398                  51                    7200                   5.9   \n",
       "399                  53                    6800                   6.1   \n",
       "\n",
       "     ypertension  diabetes mellitus  coronary artery disease appetite  \\\n",
       "0            yes                yes                       no     good   \n",
       "1             no                 no                       no     good   \n",
       "2             no                yes                       no     poor   \n",
       "3            yes                 no                       no     poor   \n",
       "4             no                 no                       no     good   \n",
       "..           ...                ...                      ...      ...   \n",
       "395           no                 no                       no     good   \n",
       "396           no                 no                       no     good   \n",
       "397           no                 no                       no     good   \n",
       "398           no                 no                       no     good   \n",
       "399           no                 no                       no     good   \n",
       "\n",
       "    pedal edema anemia   class  \n",
       "0            no     no     ckd  \n",
       "1            no     no     ckd  \n",
       "2            no    yes     ckd  \n",
       "3           yes    yes     ckd  \n",
       "4            no     no     ckd  \n",
       "..          ...    ...     ...  \n",
       "395          no     no  notckd  \n",
       "396          no     no  notckd  \n",
       "397          no     no  notckd  \n",
       "398          no     no  notckd  \n",
       "399          no     no  notckd  \n",
       "\n",
       "[400 rows x 26 columns]"
      ]
     },
     "execution_count": 189,
     "metadata": {},
     "output_type": "execute_result"
    }
   ],
   "source": [
    "df"
   ]
  },
  {
   "cell_type": "code",
   "execution_count": 190,
   "id": "1b6fb4b1",
   "metadata": {},
   "outputs": [
    {
     "name": "stdout",
     "output_type": "stream",
     "text": [
      "<class 'pandas.core.frame.DataFrame'>\n",
      "RangeIndex: 400 entries, 0 to 399\n",
      "Data columns (total 26 columns):\n",
      " #   Column                   Non-Null Count  Dtype  \n",
      "---  ------                   --------------  -----  \n",
      " 0   id                       400 non-null    int64  \n",
      " 1   age                      391 non-null    float64\n",
      " 2   blood pressure           388 non-null    float64\n",
      " 3   specific gravity         353 non-null    float64\n",
      " 4   albumin                  354 non-null    float64\n",
      " 5   sugar                    351 non-null    float64\n",
      " 6   red blood cells          248 non-null    object \n",
      " 7    pus cell                335 non-null    object \n",
      " 8   pus cell clumps          396 non-null    object \n",
      " 9   bacteria                 396 non-null    object \n",
      " 10  blood glucose random     356 non-null    float64\n",
      " 11  blood urea               381 non-null    float64\n",
      " 12  serum creatinine         383 non-null    float64\n",
      " 13  sodium                   313 non-null    float64\n",
      " 14  potassium                312 non-null    float64\n",
      " 15  haemoglobin              348 non-null    float64\n",
      " 16  packed cell volume       330 non-null    object \n",
      " 17  white blood cell count   295 non-null    object \n",
      " 18  red blood cell count     270 non-null    object \n",
      " 19  ypertension              398 non-null    object \n",
      " 20  diabetes mellitus        398 non-null    object \n",
      " 21  coronary artery disease  398 non-null    object \n",
      " 22  appetite                 399 non-null    object \n",
      " 23  pedal edema              399 non-null    object \n",
      " 24  anemia                   399 non-null    object \n",
      " 25  class                    400 non-null    object \n",
      "dtypes: float64(11), int64(1), object(14)\n",
      "memory usage: 81.4+ KB\n"
     ]
    }
   ],
   "source": [
    "df.info()"
   ]
  },
  {
   "cell_type": "code",
   "execution_count": 191,
   "id": "1bbcae1a",
   "metadata": {},
   "outputs": [],
   "source": [
    "def convert_dtype(df,feature):     #Converting data type from 'object' to 'float64'   #Data Cleaning\n",
    "    df[feature] = pd.to_numeric(df[feature], errors = 'coerce')"
   ]
  },
  {
   "cell_type": "code",
   "execution_count": 192,
   "id": "a2c66e33",
   "metadata": {},
   "outputs": [],
   "source": [
    "features = ['packed cell volume', 'white blood cell count', 'red blood cell count']  #Features to convert object -> float64\n",
    "for f in features:\n",
    "    convert_dtype(df,f)        #convert_dtype function call"
   ]
  },
  {
   "cell_type": "code",
   "execution_count": 193,
   "id": "2ad731e9",
   "metadata": {},
   "outputs": [
    {
     "name": "stdout",
     "output_type": "stream",
     "text": [
      "<class 'pandas.core.frame.DataFrame'>\n",
      "RangeIndex: 400 entries, 0 to 399\n",
      "Data columns (total 26 columns):\n",
      " #   Column                   Non-Null Count  Dtype  \n",
      "---  ------                   --------------  -----  \n",
      " 0   id                       400 non-null    int64  \n",
      " 1   age                      391 non-null    float64\n",
      " 2   blood pressure           388 non-null    float64\n",
      " 3   specific gravity         353 non-null    float64\n",
      " 4   albumin                  354 non-null    float64\n",
      " 5   sugar                    351 non-null    float64\n",
      " 6   red blood cells          248 non-null    object \n",
      " 7    pus cell                335 non-null    object \n",
      " 8   pus cell clumps          396 non-null    object \n",
      " 9   bacteria                 396 non-null    object \n",
      " 10  blood glucose random     356 non-null    float64\n",
      " 11  blood urea               381 non-null    float64\n",
      " 12  serum creatinine         383 non-null    float64\n",
      " 13  sodium                   313 non-null    float64\n",
      " 14  potassium                312 non-null    float64\n",
      " 15  haemoglobin              348 non-null    float64\n",
      " 16  packed cell volume       329 non-null    float64\n",
      " 17  white blood cell count   294 non-null    float64\n",
      " 18  red blood cell count     269 non-null    float64\n",
      " 19  ypertension              398 non-null    object \n",
      " 20  diabetes mellitus        398 non-null    object \n",
      " 21  coronary artery disease  398 non-null    object \n",
      " 22  appetite                 399 non-null    object \n",
      " 23  pedal edema              399 non-null    object \n",
      " 24  anemia                   399 non-null    object \n",
      " 25  class                    400 non-null    object \n",
      "dtypes: float64(14), int64(1), object(11)\n",
      "memory usage: 81.4+ KB\n"
     ]
    }
   ],
   "source": [
    "df.info()"
   ]
  },
  {
   "cell_type": "code",
   "execution_count": 194,
   "id": "4887bb34",
   "metadata": {},
   "outputs": [],
   "source": [
    "df.drop('id', inplace = True, axis = 1)   #Removing index id"
   ]
  },
  {
   "cell_type": "code",
   "execution_count": 195,
   "id": "24fbee92",
   "metadata": {},
   "outputs": [],
   "source": [
    "def extract(df):\n",
    "    cat_col = [col for col in df.columns if df[col].dtype == 'object']\n",
    "    num_col = [col for col in df.columns if df[col].dtype != 'object']\n",
    "    return cat_col,num_col    "
   ]
  },
  {
   "cell_type": "code",
   "execution_count": 196,
   "id": "acdb087a",
   "metadata": {},
   "outputs": [],
   "source": [
    "cat_col,num_col = extract(df)"
   ]
  },
  {
   "cell_type": "code",
   "execution_count": 197,
   "id": "286795c5",
   "metadata": {},
   "outputs": [
    {
     "data": {
      "text/plain": [
       "['red blood cells',\n",
       " ' pus cell',\n",
       " 'pus cell clumps',\n",
       " 'bacteria',\n",
       " 'ypertension',\n",
       " 'diabetes mellitus',\n",
       " 'coronary artery disease',\n",
       " 'appetite',\n",
       " 'pedal edema',\n",
       " 'anemia',\n",
       " 'class']"
      ]
     },
     "execution_count": 197,
     "metadata": {},
     "output_type": "execute_result"
    }
   ],
   "source": [
    "cat_col"
   ]
  },
  {
   "cell_type": "code",
   "execution_count": 198,
   "id": "b885a073",
   "metadata": {},
   "outputs": [
    {
     "data": {
      "text/plain": [
       "['age',\n",
       " 'blood pressure',\n",
       " 'specific gravity',\n",
       " 'albumin',\n",
       " 'sugar',\n",
       " 'blood glucose random',\n",
       " 'blood urea',\n",
       " 'serum creatinine',\n",
       " 'sodium',\n",
       " 'potassium',\n",
       " 'haemoglobin',\n",
       " 'packed cell volume',\n",
       " 'white blood cell count',\n",
       " 'red blood cell count']"
      ]
     },
     "execution_count": 198,
     "metadata": {},
     "output_type": "execute_result"
    }
   ],
   "source": [
    "num_col"
   ]
  },
  {
   "cell_type": "code",
   "execution_count": 220,
   "id": "a44505a1",
   "metadata": {},
   "outputs": [
    {
     "name": "stdout",
     "output_type": "stream",
     "text": [
      "red blood cells has [nan 'normal' 'abnormal'] values\n",
      "\n",
      "\n",
      " pus cell has ['normal' 'abnormal' nan] values\n",
      "\n",
      "\n",
      "pus cell clumps has ['notpresent' 'present' nan] values\n",
      "\n",
      "\n",
      "bacteria has ['notpresent' 'present' nan] values\n",
      "\n",
      "\n",
      "ypertension has ['yes' 'no' nan] values\n",
      "\n",
      "\n",
      "diabetes mellitus has ['yes' 'no' ' yes' nan] values\n",
      "\n",
      "\n",
      "coronary artery disease has ['no' 'yes' nan] values\n",
      "\n",
      "\n",
      "appetite has ['good' 'poor' nan] values\n",
      "\n",
      "\n",
      "pedal edema has ['no' 'yes' nan] values\n",
      "\n",
      "\n",
      "anemia has ['no' 'yes' nan] values\n",
      "\n",
      "\n",
      "class has ['ckd' 'notckd'] values\n",
      "\n",
      "\n"
     ]
    }
   ],
   "source": [
    "for col in cat_col:           \n",
    "    print(\"{} has {} values\".format(col,df[col].unique()))\n",
    "    print(\"\\n\")"
   ]
  },
  {
   "cell_type": "code",
   "execution_count": 200,
   "id": "07657687",
   "metadata": {},
   "outputs": [],
   "source": [
    "df['diabetes mellitus'].replace(to_replace={'\\tno':'no','\\tyes':'yes'}, inplace=True)   #Data Cleaning\n",
    "df['coronary artery disease'].replace(to_replace={'\\tno':'no'}, inplace=True)\n",
    "df['class'].replace(to_replace={'ckd\\t':'ckd'}, inplace=True)"
   ]
  },
  {
   "cell_type": "code",
   "execution_count": 201,
   "id": "bac084e1",
   "metadata": {},
   "outputs": [
    {
     "data": {
      "text/plain": [
       "14"
      ]
     },
     "execution_count": 201,
     "metadata": {},
     "output_type": "execute_result"
    }
   ],
   "source": [
    "len(num_col)"
   ]
  },
  {
   "cell_type": "code",
   "execution_count": 202,
   "id": "5dead5bd",
   "metadata": {},
   "outputs": [
    {
     "data": {
      "image/png": "[encoded data removed]",
      "text/plain": [
       "<Figure size 3000x2000 with 14 Axes>"
      ]
     },
     "metadata": {},
     "output_type": "display_data"
    }
   ],
   "source": [
    "plt.figure(figsize=(30,20))     #Finding characteristics of each Individual features\n",
    "\n",
    "for i,feature in enumerate(num_col):\n",
    "    plt.subplot(5,3,i+1)\n",
    "    df[feature].hist()\n",
    "    plt.title(feature)\n"
   ]
  },
  {
   "cell_type": "code",
   "execution_count": 203,
   "id": "3656601c",
   "metadata": {},
   "outputs": [
    {
     "data": {
      "text/plain": [
       "11"
      ]
     },
     "execution_count": 203,
     "metadata": {},
     "output_type": "execute_result"
    }
   ],
   "source": [
    "len(cat_col)"
   ]
  },
  {
   "cell_type": "code",
   "execution_count": 204,
   "id": "79b68139",
   "metadata": {},
   "outputs": [
    {
     "data": {
      "image/png": "[encoded data removed]",
      "text/plain": [
       "<Figure size 2000x2000 with 11 Axes>"
      ]
     },
     "metadata": {},
     "output_type": "display_data"
    }
   ],
   "source": [
    "plt.figure(figsize=(20,20))\n",
    "\n",
    "for i,feature in enumerate(cat_col):\n",
    "    plt.subplot(5,3,i+1)\n",
    "    sns.countplot(x= df[feature])"
   ]
  },
  {
   "cell_type": "code",
   "execution_count": 205,
   "id": "eec6e49f",
   "metadata": {},
   "outputs": [
    {
     "data": {
      "text/plain": [
       "<AxesSubplot:>"
      ]
     },
     "execution_count": 205,
     "metadata": {},
     "output_type": "execute_result"
    },
    {
     "data": {
      "image/png": "[encoded data removed]",
      "text/plain": [
       "<Figure size 3000x3000 with 2 Axes>"
      ]
     },
     "metadata": {},
     "output_type": "display_data"
    }
   ],
   "source": [
    "plt.figure(figsize=(30,30))        #Finding correlations between features (To find strenth and direction)\n",
    "cor = df.corr()\n",
    "sns.heatmap(data=cor, annot=True)"
   ]
  },
  {
   "cell_type": "code",
   "execution_count": 206,
   "id": "4be1adcb",
   "metadata": {},
   "outputs": [],
   "source": [
    "import plotly.express as px"
   ]
  },
  {
   "cell_type": "code",
   "execution_count": 207,
   "id": "6ce22e4a",
   "metadata": {},
   "outputs": [],
   "source": [
    "def violen(col):      #Violen plot\n",
    "    fig = px.violin(df,x='class', y=col, color='class')\n",
    "    return fig.show() "
   ]
  },
  {
   "cell_type": "code",
   "execution_count": 208,
   "id": "cb88dfdd",
   "metadata": {},
   "outputs": [],
   "source": [
    "def scatter(x_1,y_1):  #Scatter plot\n",
    "    fig = px.scatter(df,x=x_1, y = y_1, color='class')\n",
    "    return fig.show() "
   ]
  },
  {
   "cell_type": "code",
   "execution_count": 209,
   "id": "2fd66f5d",
   "metadata": {},
   "outputs": [],
   "source": [
    "def scatter_3d(x_1,y_1,z_1):  #Scatter 3D plot\n",
    "    fig = px.scatter_3d(df, x=x_1, y =y_1, z = z_1, color='class')\n",
    "    return fig.show()"
   ]
  },
  {
   "cell_type": "code",
   "execution_count": 210,
   "id": "e3b188dd",
   "metadata": {},
   "outputs": [],
   "source": [
    "def kde_plot(feature):       #Plot K-distribution\n",
    "    grid = sns.FacetGrid(df, hue='class')\n",
    "    grid.map(sns.kdeplot, feature)\n",
    "    grid.add_legend()"
   ]
  },
  {
   "cell_type": "code",
   "execution_count": 211,
   "id": "fac40499",
   "metadata": {},
   "outputs": [
    {
     "data": {
      "application/vnd.plotly.v1+json": {
       "config": {
        "plotlyServerURL": "https://plot.ly"
       },
       "data": [
        {
         "alignmentgroup": "True",
         "box": {
          "visible": false
         },
         "hovertemplate": "class=%{x}<br>sugar=%{y}<extra></extra>",
         "legendgroup": "ckd",
         "marker": {
          "color": "#636efa"
         },
         "name": "ckd",
         "offsetgroup": "ckd",
         "orientation": "v",
         "scalegroup": "True",
         "showlegend": true,
         "type": "violin",
         "x": [
          "ckd",
          "ckd",
          "ckd",
          "ckd",
          "ckd",
          "ckd",
          "ckd",
          "ckd",
          "ckd",
          "ckd",
          "ckd",
          "ckd",
          "ckd",
          "ckd",
          "ckd",
          "ckd",
          "ckd",
          "ckd",
          "ckd",
          "ckd",
          "ckd",
          "ckd",
          "ckd",
          "ckd",
          "ckd",
          "ckd",
          "ckd",
          "ckd",
          "ckd",
          "ckd",
          "ckd",
          "ckd",
          "ckd",
          "ckd",
          "ckd",
          "ckd",
          "ckd",
          "ckd",
          "ckd",
          "ckd",
          "ckd",
          "ckd",
          "ckd",
          "ckd",
          "ckd",
          "ckd",
          "ckd",
          "ckd",
          "ckd",
          "ckd",
          "ckd",
          "ckd",
          "ckd",
          "ckd",
          "ckd",
          "ckd",
          "ckd",
          "ckd",
          "ckd",
          "ckd",
          "ckd",
          "ckd",
          "ckd",
          "ckd",
          "ckd",
          "ckd",
          "ckd",
          "ckd",
          "ckd",
          "ckd",
          "ckd",
          "ckd",
          "ckd",
          "ckd",
          "ckd",
          "ckd",
          "ckd",
          "ckd",
          "ckd",
          "ckd",
          "ckd",
          "ckd",
          "ckd",
          "ckd",
          "ckd",
          "ckd",
          "ckd",
          "ckd",
          "ckd",
          "ckd",
          "ckd",
          "ckd",
          "ckd",
          "ckd",
          "ckd",
          "ckd",
          "ckd",
          "ckd",
          "ckd",
          "ckd",
          "ckd",
          "ckd",
          "ckd",
          "ckd",
          "ckd",
          "ckd",
          "ckd",
          "ckd",
          "ckd",
          "ckd",
          "ckd",
          "ckd",
          "ckd",
          "ckd",
          "ckd",
          "ckd",
          "ckd",
          "ckd",
          "ckd",
          "ckd",
          "ckd",
          "ckd",
          "ckd",
          "ckd",
          "ckd",
          "ckd",
          "ckd",
          "ckd",
          "ckd",
          "ckd",
          "ckd",
          "ckd",
          "ckd",
          "ckd",
          "ckd",
          "ckd",
          "ckd",
          "ckd",
          "ckd",
          "ckd",
          "ckd",
          "ckd",
          "ckd",
          "ckd",
          "ckd",
          "ckd",
          "ckd",
          "ckd",
          "ckd",
          "ckd",
          "ckd",
          "ckd",
          "ckd",
          "ckd",
          "ckd",
          "ckd",
          "ckd",
          "ckd",
          "ckd",
          "ckd",
          "ckd",
          "ckd",
          "ckd",
          "ckd",
          "ckd",
          "ckd",
          "ckd",
          "ckd",
          "ckd",
          "ckd",
          "ckd",
          "ckd",
          "ckd",
          "ckd",
          "ckd",
          "ckd",
          "ckd",
          "ckd",
          "ckd",
          "ckd",
          "ckd",
          "ckd",
          "ckd",
          "ckd",
          "ckd",
          "ckd",
          "ckd",
          "ckd",
          "ckd",
          "ckd",
          "ckd",
          "ckd",
          "ckd",
          "ckd",
          "ckd",
          "ckd",
          "ckd",
          "ckd",
          "ckd",
          "ckd",
          "ckd",
          "ckd",
          "ckd",
          "ckd",
          "ckd",
          "ckd",
          "ckd",
          "ckd",
          "ckd",
          "ckd",
          "ckd",
          "ckd",
          "ckd",
          "ckd",
          "ckd",
          "ckd",
          "ckd",
          "ckd",
          "ckd",
          "ckd",
          "ckd",
          "ckd",
          "ckd",
          "ckd",
          "ckd",
          "ckd",
          "ckd",
          "ckd",
          "ckd",
          "ckd",
          "ckd",
          "ckd",
          "ckd",
          "ckd",
          "ckd",
          "ckd",
          "ckd",
          "ckd",
          "ckd",
          "ckd",
          "ckd",
          "ckd",
          "ckd",
          "ckd",
          "ckd",
          "ckd",
          "ckd",
          "ckd",
          "ckd",
          "ckd"
         ],
         "x0": " ",
         "xaxis": "x",
         "y": [
          0,
          0,
          3,
          0,
          0,
          0,
          0,
          4,
          0,
          0,
          4,
          0,
          1,
          null,
          2,
          0,
          0,
          null,
          3,
          0,
          0,
          null,
          0,
          0,
          0,
          0,
          0,
          4,
          3,
          0,
          null,
          0,
          1,
          0,
          0,
          1,
          0,
          null,
          0,
          2,
          0,
          0,
          0,
          0,
          0,
          0,
          0,
          0,
          0,
          0,
          null,
          0,
          0,
          5,
          2,
          0,
          4,
          null,
          0,
          null,
          0,
          3,
          0,
          0,
          0,
          0,
          0,
          0,
          0,
          4,
          4,
          0,
          3,
          0,
          0,
          0,
          0,
          0,
          null,
          0,
          0,
          null,
          null,
          0,
          0,
          null,
          null,
          0,
          0,
          0,
          2,
          1,
          0,
          2,
          0,
          0,
          1,
          0,
          null,
          4,
          0,
          0,
          0,
          0,
          null,
          0,
          null,
          4,
          0,
          null,
          0,
          3,
          0,
          2,
          0,
          0,
          0,
          0,
          0,
          0,
          3,
          null,
          null,
          3,
          0,
          null,
          0,
          0,
          3,
          0,
          0,
          0,
          null,
          0,
          null,
          2,
          null,
          0,
          0,
          0,
          4,
          0,
          null,
          4,
          0,
          0,
          3,
          1,
          null,
          0,
          0,
          null,
          0,
          1,
          3,
          0,
          0,
          0,
          2,
          0,
          null,
          0,
          null,
          0,
          0,
          2,
          null,
          0,
          4,
          2,
          5,
          0,
          2,
          0,
          null,
          0,
          0,
          1,
          0,
          0,
          4,
          0,
          0,
          0,
          2,
          0,
          0,
          0,
          null,
          1,
          0,
          0,
          0,
          0,
          null,
          1,
          0,
          null,
          2,
          0,
          0,
          null,
          null,
          null,
          2,
          null,
          0,
          0,
          null,
          0,
          2,
          0,
          4,
          1,
          0,
          0,
          0,
          0,
          0,
          0,
          0,
          0,
          null,
          3,
          0,
          5,
          2,
          0,
          null,
          0,
          0,
          null,
          0,
          0,
          0,
          0,
          null,
          2,
          null,
          0,
          0,
          0,
          3,
          1,
          2,
          null,
          0,
          0,
          3,
          1
         ],
         "y0": " ",
         "yaxis": "y"
        },
        {
         "alignmentgroup": "True",
         "box": {
          "visible": false
         },
         "hovertemplate": "class=%{x}<br>sugar=%{y}<extra></extra>",
         "legendgroup": "notckd",
         "marker": {
          "color": "#EF553B"
         },
         "name": "notckd",
         "offsetgroup": "notckd",
         "orientation": "v",
         "scalegroup": "True",
         "showlegend": true,
         "type": "violin",
         "x": [
          "notckd",
          "notckd",
          "notckd",
          "notckd",
          "notckd",
          "notckd",
          "notckd",
          "notckd",
          "notckd",
          "notckd",
          "notckd",
          "notckd",
          "notckd",
          "notckd",
          "notckd",
          "notckd",
          "notckd",
          "notckd",
          "notckd",
          "notckd",
          "notckd",
          "notckd",
          "notckd",
          "notckd",
          "notckd",
          "notckd",
          "notckd",
          "notckd",
          "notckd",
          "notckd",
          "notckd",
          "notckd",
          "notckd",
          "notckd",
          "notckd",
          "notckd",
          "notckd",
          "notckd",
          "notckd",
          "notckd",
          "notckd",
          "notckd",
          "notckd",
          "notckd",
          "notckd",
          "notckd",
          "notckd",
          "notckd",
          "notckd",
          "notckd",
          "notckd",
          "notckd",
          "notckd",
          "notckd",
          "notckd",
          "notckd",
          "notckd",
          "notckd",
          "notckd",
          "notckd",
          "notckd",
          "notckd",
          "notckd",
          "notckd",
          "notckd",
          "notckd",
          "notckd",
          "notckd",
          "notckd",
          "notckd",
          "notckd",
          "notckd",
          "notckd",
          "notckd",
          "notckd",
          "notckd",
          "notckd",
          "notckd",
          "notckd",
          "notckd",
          "notckd",
          "notckd",
          "notckd",
          "notckd",
          "notckd",
          "notckd",
          "notckd",
          "notckd",
          "notckd",
          "notckd",
          "notckd",
          "notckd",
          "notckd",
          "notckd",
          "notckd",
          "notckd",
          "notckd",
          "notckd",
          "notckd",
          "notckd",
          "notckd",
          "notckd",
          "notckd",
          "notckd",
          "notckd",
          "notckd",
          "notckd",
          "notckd",
          "notckd",
          "notckd",
          "notckd",
          "notckd",
          "notckd",
          "notckd",
          "notckd",
          "notckd",
          "notckd",
          "notckd",
          "notckd",
          "notckd",
          "notckd",
          "notckd",
          "notckd",
          "notckd",
          "notckd",
          "notckd",
          "notckd",
          "notckd",
          "notckd",
          "notckd",
          "notckd",
          "notckd",
          "notckd",
          "notckd",
          "notckd",
          "notckd",
          "notckd",
          "notckd",
          "notckd",
          "notckd",
          "notckd",
          "notckd",
          "notckd",
          "notckd",
          "notckd",
          "notckd",
          "notckd",
          "notckd",
          "notckd",
          "notckd"
         ],
         "x0": " ",
         "xaxis": "x",
         "y": [
          0,
          0,
          0,
          0,
          0,
          0,
          0,
          0,
          0,
          0,
          0,
          0,
          0,
          0,
          0,
          0,
          0,
          0,
          null,
          0,
          0,
          0,
          0,
          0,
          0,
          0,
          0,
          0,
          0,
          0,
          null,
          0,
          0,
          0,
          0,
          0,
          0,
          0,
          0,
          0,
          0,
          0,
          0,
          0,
          0,
          null,
          0,
          0,
          0,
          0,
          0,
          0,
          0,
          0,
          0,
          0,
          0,
          0,
          0,
          0,
          0,
          0,
          0,
          0,
          0,
          0,
          0,
          0,
          0,
          0,
          0,
          0,
          null,
          0,
          0,
          0,
          0,
          0,
          0,
          0,
          0,
          0,
          0,
          0,
          0,
          0,
          0,
          0,
          0,
          0,
          0,
          0,
          0,
          0,
          0,
          0,
          null,
          0,
          0,
          0,
          0,
          0,
          0,
          0,
          0,
          0,
          0,
          0,
          0,
          0,
          0,
          0,
          0,
          0,
          0,
          0,
          0,
          0,
          0,
          0,
          0,
          0,
          0,
          0,
          0,
          0,
          0,
          0,
          0,
          0,
          0,
          0,
          0,
          0,
          0,
          0,
          0,
          0,
          0,
          0,
          0,
          0,
          0,
          0,
          0,
          0,
          0,
          0,
          0,
          0
         ],
         "y0": " ",
         "yaxis": "y"
        }
       ],
       "layout": {
        "legend": {
         "title": {
          "text": "class"
         },
         "tracegroupgap": 0
        },
        "margin": {
         "t": 60
        },
        "template": {
         "data": {
          "bar": [
           {
            "error_x": {
             "color": "#2a3f5f"
            },
            "error_y": {
             "color": "#2a3f5f"
            },
            "marker": {
             "line": {
              "color": "#E5ECF6",
              "width": 0.5
             },
             "pattern": {
              "fillmode": "overlay",
              "size": 10,
              "solidity": 0.2
             }
            },
            "type": "bar"
           }
          ],
          "barpolar": [
           {
            "marker": {
             "line": {
              "color": "#E5ECF6",
              "width": 0.5
             },
             "pattern": {
              "fillmode": "overlay",
              "size": 10,
              "solidity": 0.2
             }
            },
            "type": "barpolar"
           }
          ],
          "carpet": [
           {
            "aaxis": {
             "endlinecolor": "#2a3f5f",
             "gridcolor": "white",
             "linecolor": "white",
             "minorgridcolor": "white",
             "startlinecolor": "#2a3f5f"
            },
            "baxis": {
             "endlinecolor": "#2a3f5f",
             "gridcolor": "white",
             "linecolor": "white",
             "minorgridcolor": "white",
             "startlinecolor": "#2a3f5f"
            },
            "type": "carpet"
           }
          ],
          "choropleth": [
           {
            "colorbar": {
             "outlinewidth": 0,
             "ticks": ""
            },
            "type": "choropleth"
           }
          ],
          "contour": [
           {
            "colorbar": {
             "outlinewidth": 0,
             "ticks": ""
            },
            "colorscale": [
             [
              0,
              "#0d0887"
             ],
             [
              0.1111111111111111,
              "#46039f"
             ],
             [
              0.2222222222222222,
              "#7201a8"
             ],
             [
              0.3333333333333333,
              "#9c179e"
             ],
             [
              0.4444444444444444,
              "#bd3786"
             ],
             [
              0.5555555555555556,
              "#d8576b"
             ],
             [
              0.6666666666666666,
              "#ed7953"
             ],
             [
              0.7777777777777778,
              "#fb9f3a"
             ],
             [
              0.8888888888888888,
              "#fdca26"
             ],
             [
              1,
              "#f0f921"
             ]
            ],
            "type": "contour"
           }
          ],
          "contourcarpet": [
           {
            "colorbar": {
             "outlinewidth": 0,
             "ticks": ""
            },
            "type": "contourcarpet"
           }
          ],
          "heatmap": [
           {
            "colorbar": {
             "outlinewidth": 0,
             "ticks": ""
            },
            "colorscale": [
             [
              0,
              "#0d0887"
             ],
             [
              0.1111111111111111,
              "#46039f"
             ],
             [
              0.2222222222222222,
              "#7201a8"
             ],
             [
              0.3333333333333333,
              "#9c179e"
             ],
             [
              0.4444444444444444,
              "#bd3786"
             ],
             [
              0.5555555555555556,
              "#d8576b"
             ],
             [
              0.6666666666666666,
              "#ed7953"
             ],
             [
              0.7777777777777778,
              "#fb9f3a"
             ],
             [
              0.8888888888888888,
              "#fdca26"
             ],
             [
              1,
              "#f0f921"
             ]
            ],
            "type": "heatmap"
           }
          ],
          "heatmapgl": [
           {
            "colorbar": {
             "outlinewidth": 0,
             "ticks": ""
            },
            "colorscale": [
             [
              0,
              "#0d0887"
             ],
             [
              0.1111111111111111,
              "#46039f"
             ],
             [
              0.2222222222222222,
              "#7201a8"
             ],
             [
              0.3333333333333333,
              "#9c179e"
             ],
             [
              0.4444444444444444,
              "#bd3786"
             ],
             [
              0.5555555555555556,
              "#d8576b"
             ],
             [
              0.6666666666666666,
              "#ed7953"
             ],
             [
              0.7777777777777778,
              "#fb9f3a"
             ],
             [
              0.8888888888888888,
              "#fdca26"
             ],
             [
              1,
              "#f0f921"
             ]
            ],
            "type": "heatmapgl"
           }
          ],
          "histogram": [
           {
            "marker": {
             "pattern": {
              "fillmode": "overlay",
              "size": 10,
              "solidity": 0.2
             }
            },
            "type": "histogram"
           }
          ],
          "histogram2d": [
           {
            "colorbar": {
             "outlinewidth": 0,
             "ticks": ""
            },
            "colorscale": [
             [
              0,
              "#0d0887"
             ],
             [
              0.1111111111111111,
              "#46039f"
             ],
             [
              0.2222222222222222,
              "#7201a8"
             ],
             [
              0.3333333333333333,
              "#9c179e"
             ],
             [
              0.4444444444444444,
              "#bd3786"
             ],
             [
              0.5555555555555556,
              "#d8576b"
             ],
             [
              0.6666666666666666,
              "#ed7953"
             ],
             [
              0.7777777777777778,
              "#fb9f3a"
             ],
             [
              0.8888888888888888,
              "#fdca26"
             ],
             [
              1,
              "#f0f921"
             ]
            ],
            "type": "histogram2d"
           }
          ],
          "histogram2dcontour": [
           {
            "colorbar": {
             "outlinewidth": 0,
             "ticks": ""
            },
            "colorscale": [
             [
              0,
              "#0d0887"
             ],
             [
              0.1111111111111111,
              "#46039f"
             ],
             [
              0.2222222222222222,
              "#7201a8"
             ],
             [
              0.3333333333333333,
              "#9c179e"
             ],
             [
              0.4444444444444444,
              "#bd3786"
             ],
             [
              0.5555555555555556,
              "#d8576b"
             ],
             [
              0.6666666666666666,
              "#ed7953"
             ],
             [
              0.7777777777777778,
              "#fb9f3a"
             ],
             [
              0.8888888888888888,
              "#fdca26"
             ],
             [
              1,
              "#f0f921"
             ]
            ],
            "type": "histogram2dcontour"
           }
          ],
          "mesh3d": [
           {
            "colorbar": {
             "outlinewidth": 0,
             "ticks": ""
            },
            "type": "mesh3d"
           }
          ],
          "parcoords": [
           {
            "line": {
             "colorbar": {
              "outlinewidth": 0,
              "ticks": ""
             }
            },
            "type": "parcoords"
           }
          ],
          "pie": [
           {
            "automargin": true,
            "type": "pie"
           }
          ],
          "scatter": [
           {
            "fillpattern": {
             "fillmode": "overlay",
             "size": 10,
             "solidity": 0.2
            },
            "type": "scatter"
           }
          ],
          "scatter3d": [
           {
            "line": {
             "colorbar": {
              "outlinewidth": 0,
              "ticks": ""
             }
            },
            "marker": {
             "colorbar": {
              "outlinewidth": 0,
              "ticks": ""
             }
            },
            "type": "scatter3d"
           }
          ],
          "scattercarpet": [
           {
            "marker": {
             "colorbar": {
              "outlinewidth": 0,
              "ticks": ""
             }
            },
            "type": "scattercarpet"
           }
          ],
          "scattergeo": [
           {
            "marker": {
             "colorbar": {
              "outlinewidth": 0,
              "ticks": ""
             }
            },
            "type": "scattergeo"
           }
          ],
          "scattergl": [
           {
            "marker": {
             "colorbar": {
              "outlinewidth": 0,
              "ticks": ""
             }
            },
            "type": "scattergl"
           }
          ],
          "scattermapbox": [
           {
            "marker": {
             "colorbar": {
              "outlinewidth": 0,
              "ticks": ""
             }
            },
            "type": "scattermapbox"
           }
          ],
          "scatterpolar": [
           {
            "marker": {
             "colorbar": {
              "outlinewidth": 0,
              "ticks": ""
             }
            },
            "type": "scatterpolar"
           }
          ],
          "scatterpolargl": [
           {
            "marker": {
             "colorbar": {
              "outlinewidth": 0,
              "ticks": ""
             }
            },
            "type": "scatterpolargl"
           }
          ],
          "scatterternary": [
           {
            "marker": {
             "colorbar": {
              "outlinewidth": 0,
              "ticks": ""
             }
            },
            "type": "scatterternary"
           }
          ],
          "surface": [
           {
            "colorbar": {
             "outlinewidth": 0,
             "ticks": ""
            },
            "colorscale": [
             [
              0,
              "#0d0887"
             ],
             [
              0.1111111111111111,
              "#46039f"
             ],
             [
              0.2222222222222222,
              "#7201a8"
             ],
             [
              0.3333333333333333,
              "#9c179e"
             ],
             [
              0.4444444444444444,
              "#bd3786"
             ],
             [
              0.5555555555555556,
              "#d8576b"
             ],
             [
              0.6666666666666666,
              "#ed7953"
             ],
             [
              0.7777777777777778,
              "#fb9f3a"
             ],
             [
              0.8888888888888888,
              "#fdca26"
             ],
             [
              1,
              "#f0f921"
             ]
            ],
            "type": "surface"
           }
          ],
          "table": [
           {
            "cells": {
             "fill": {
              "color": "#EBF0F8"
             },
             "line": {
              "color": "white"
             }
            },
            "header": {
             "fill": {
              "color": "#C8D4E3"
             },
             "line": {
              "color": "white"
             }
            },
            "type": "table"
           }
          ]
         },
         "layout": {
          "annotationdefaults": {
           "arrowcolor": "#2a3f5f",
           "arrowhead": 0,
           "arrowwidth": 1
          },
          "autotypenumbers": "strict",
          "coloraxis": {
           "colorbar": {
            "outlinewidth": 0,
            "ticks": ""
           }
          },
          "colorscale": {
           "diverging": [
            [
             0,
             "#8e0152"
            ],
            [
             0.1,
             "#c51b7d"
            ],
            [
             0.2,
             "#de77ae"
            ],
            [
             0.3,
             "#f1b6da"
            ],
            [
             0.4,
             "#fde0ef"
            ],
            [
             0.5,
             "#f7f7f7"
            ],
            [
             0.6,
             "#e6f5d0"
            ],
            [
             0.7,
             "#b8e186"
            ],
            [
             0.8,
             "#7fbc41"
            ],
            [
             0.9,
             "#4d9221"
            ],
            [
             1,
             "#276419"
            ]
           ],
           "sequential": [
            [
             0,
             "#0d0887"
            ],
            [
             0.1111111111111111,
             "#46039f"
            ],
            [
             0.2222222222222222,
             "#7201a8"
            ],
            [
             0.3333333333333333,
             "#9c179e"
            ],
            [
             0.4444444444444444,
             "#bd3786"
            ],
            [
             0.5555555555555556,
             "#d8576b"
            ],
            [
             0.6666666666666666,
             "#ed7953"
            ],
            [
             0.7777777777777778,
             "#fb9f3a"
            ],
            [
             0.8888888888888888,
             "#fdca26"
            ],
            [
             1,
             "#f0f921"
            ]
           ],
           "sequentialminus": [
            [
             0,
             "#0d0887"
            ],
            [
             0.1111111111111111,
             "#46039f"
            ],
            [
             0.2222222222222222,
             "#7201a8"
            ],
            [
             0.3333333333333333,
             "#9c179e"
            ],
            [
             0.4444444444444444,
             "#bd3786"
            ],
            [
             0.5555555555555556,
             "#d8576b"
            ],
            [
             0.6666666666666666,
             "#ed7953"
            ],
            [
             0.7777777777777778,
             "#fb9f3a"
            ],
            [
             0.8888888888888888,
             "#fdca26"
            ],
            [
             1,
             "#f0f921"
            ]
           ]
          },
          "colorway": [
           "#636efa",
           "#EF553B",
           "#00cc96",
           "#ab63fa",
           "#FFA15A",
           "#19d3f3",
           "#FF6692",
           "#B6E880",
           "#FF97FF",
           "#FECB52"
          ],
          "font": {
           "color": "#2a3f5f"
          },
          "geo": {
           "bgcolor": "white",
           "lakecolor": "white",
           "landcolor": "#E5ECF6",
           "showlakes": true,
           "showland": true,
           "subunitcolor": "white"
          },
          "hoverlabel": {
           "align": "left"
          },
          "hovermode": "closest",
          "mapbox": {
           "style": "light"
          },
          "paper_bgcolor": "white",
          "plot_bgcolor": "#E5ECF6",
          "polar": {
           "angularaxis": {
            "gridcolor": "white",
            "linecolor": "white",
            "ticks": ""
           },
           "bgcolor": "#E5ECF6",
           "radialaxis": {
            "gridcolor": "white",
            "linecolor": "white",
            "ticks": ""
           }
          },
          "scene": {
           "xaxis": {
            "backgroundcolor": "#E5ECF6",
            "gridcolor": "white",
            "gridwidth": 2,
            "linecolor": "white",
            "showbackground": true,
            "ticks": "",
            "zerolinecolor": "white"
           },
           "yaxis": {
            "backgroundcolor": "#E5ECF6",
            "gridcolor": "white",
            "gridwidth": 2,
            "linecolor": "white",
            "showbackground": true,
            "ticks": "",
            "zerolinecolor": "white"
           },
           "zaxis": {
            "backgroundcolor": "#E5ECF6",
            "gridcolor": "white",
            "gridwidth": 2,
            "linecolor": "white",
            "showbackground": true,
            "ticks": "",
            "zerolinecolor": "white"
           }
          },
          "shapedefaults": {
           "line": {
            "color": "#2a3f5f"
           }
          },
          "ternary": {
           "aaxis": {
            "gridcolor": "white",
            "linecolor": "white",
            "ticks": ""
           },
           "baxis": {
            "gridcolor": "white",
            "linecolor": "white",
            "ticks": ""
           },
           "bgcolor": "#E5ECF6",
           "caxis": {
            "gridcolor": "white",
            "linecolor": "white",
            "ticks": ""
           }
          },
          "title": {
           "x": 0.05
          },
          "xaxis": {
           "automargin": true,
           "gridcolor": "white",
           "linecolor": "white",
           "ticks": "",
           "title": {
            "standoff": 15
           },
           "zerolinecolor": "white",
           "zerolinewidth": 2
          },
          "yaxis": {
           "automargin": true,
           "gridcolor": "white",
           "linecolor": "white",
           "ticks": "",
           "title": {
            "standoff": 15
           },
           "zerolinecolor": "white",
           "zerolinewidth": 2
          }
         }
        },
        "violinmode": "overlay",
        "xaxis": {
         "anchor": "y",
         "categoryarray": [
          "ckd",
          "notckd"
         ],
         "categoryorder": "array",
         "domain": [
          0,
          1
         ],
         "title": {
          "text": "class"
         }
        },
        "yaxis": {
         "anchor": "x",
         "domain": [
          0,
          1
         ],
         "title": {
          "text": "sugar"
         }
        }
       }
      },
      "text/html": [
       "<div>                            <div id=\"8d0dee1b-d3fb-403a-9766-f906c954a32e\" class=\"plotly-graph-div\" style=\"height:525px; width:100%;\"></div>            <script type=\"text/javascript\">                require([\"plotly\"], function(Plotly) {                    window.PLOTLYENV=window.PLOTLYENV || {};                                    if (document.getElementById(\"8d0dee1b-d3fb-403a-9766-f906c954a32e\")) {                    Plotly.newPlot(                        \"8d0dee1b-d3fb-403a-9766-f906c954a32e\",                        [{\"alignmentgroup\":\"True\",\"box\":{\"visible\":false},\"hovertemplate\":\"class=%{x}<br>sugar=%{y}<extra></extra>\",\"legendgroup\":\"ckd\",\"marker\":{\"color\":\"#636efa\"},\"name\":\"ckd\",\"offsetgroup\":\"ckd\",\"orientation\":\"v\",\"scalegroup\":\"True\",\"showlegend\":true,\"x\":[\"ckd\",\"ckd\",\"ckd\",\"ckd\",\"ckd\",\"ckd\",\"ckd\",\"ckd\",\"ckd\",\"ckd\",\"ckd\",\"ckd\",\"ckd\",\"ckd\",\"ckd\",\"ckd\",\"ckd\",\"ckd\",\"ckd\",\"ckd\",\"ckd\",\"ckd\",\"ckd\",\"ckd\",\"ckd\",\"ckd\",\"ckd\",\"ckd\",\"ckd\",\"ckd\",\"ckd\",\"ckd\",\"ckd\",\"ckd\",\"ckd\",\"ckd\",\"ckd\",\"ckd\",\"ckd\",\"ckd\",\"ckd\",\"ckd\",\"ckd\",\"ckd\",\"ckd\",\"ckd\",\"ckd\",\"ckd\",\"ckd\",\"ckd\",\"ckd\",\"ckd\",\"ckd\",\"ckd\",\"ckd\",\"ckd\",\"ckd\",\"ckd\",\"ckd\",\"ckd\",\"ckd\",\"ckd\",\"ckd\",\"ckd\",\"ckd\",\"ckd\",\"ckd\",\"ckd\",\"ckd\",\"ckd\",\"ckd\",\"ckd\",\"ckd\",\"ckd\",\"ckd\",\"ckd\",\"ckd\",\"ckd\",\"ckd\",\"ckd\",\"ckd\",\"ckd\",\"ckd\",\"ckd\",\"ckd\",\"ckd\",\"ckd\",\"ckd\",\"ckd\",\"ckd\",\"ckd\",\"ckd\",\"ckd\",\"ckd\",\"ckd\",\"ckd\",\"ckd\",\"ckd\",\"ckd\",\"ckd\",\"ckd\",\"ckd\",\"ckd\",\"ckd\",\"ckd\",\"ckd\",\"ckd\",\"ckd\",\"ckd\",\"ckd\",\"ckd\",\"ckd\",\"ckd\",\"ckd\",\"ckd\",\"ckd\",\"ckd\",\"ckd\",\"ckd\",\"ckd\",\"ckd\",\"ckd\",\"ckd\",\"ckd\",\"ckd\",\"ckd\",\"ckd\",\"ckd\",\"ckd\",\"ckd\",\"ckd\",\"ckd\",\"ckd\",\"ckd\",\"ckd\",\"ckd\",\"ckd\",\"ckd\",\"ckd\",\"ckd\",\"ckd\",\"ckd\",\"ckd\",\"ckd\",\"ckd\",\"ckd\",\"ckd\",\"ckd\",\"ckd\",\"ckd\",\"ckd\",\"ckd\",\"ckd\",\"ckd\",\"ckd\",\"ckd\",\"ckd\",\"ckd\",\"ckd\",\"ckd\",\"ckd\",\"ckd\",\"ckd\",\"ckd\",\"ckd\",\"ckd\",\"ckd\",\"ckd\",\"ckd\",\"ckd\",\"ckd\",\"ckd\",\"ckd\",\"ckd\",\"ckd\",\"ckd\",\"ckd\",\"ckd\",\"ckd\",\"ckd\",\"ckd\",\"ckd\",\"ckd\",\"ckd\",\"ckd\",\"ckd\",\"ckd\",\"ckd\",\"ckd\",\"ckd\",\"ckd\",\"ckd\",\"ckd\",\"ckd\",\"ckd\",\"ckd\",\"ckd\",\"ckd\",\"ckd\",\"ckd\",\"ckd\",\"ckd\",\"ckd\",\"ckd\",\"ckd\",\"ckd\",\"ckd\",\"ckd\",\"ckd\",\"ckd\",\"ckd\",\"ckd\",\"ckd\",\"ckd\",\"ckd\",\"ckd\",\"ckd\",\"ckd\",\"ckd\",\"ckd\",\"ckd\",\"ckd\",\"ckd\",\"ckd\",\"ckd\",\"ckd\",\"ckd\",\"ckd\",\"ckd\",\"ckd\",\"ckd\",\"ckd\",\"ckd\",\"ckd\",\"ckd\",\"ckd\",\"ckd\",\"ckd\",\"ckd\",\"ckd\",\"ckd\",\"ckd\",\"ckd\",\"ckd\",\"ckd\",\"ckd\",\"ckd\",\"ckd\",\"ckd\",\"ckd\"],\"x0\":\" \",\"xaxis\":\"x\",\"y\":[0.0,0.0,3.0,0.0,0.0,0.0,0.0,4.0,0.0,0.0,4.0,0.0,1.0,null,2.0,0.0,0.0,null,3.0,0.0,0.0,null,0.0,0.0,0.0,0.0,0.0,4.0,3.0,0.0,null,0.0,1.0,0.0,0.0,1.0,0.0,null,0.0,2.0,0.0,0.0,0.0,0.0,0.0,0.0,0.0,0.0,0.0,0.0,null,0.0,0.0,5.0,2.0,0.0,4.0,null,0.0,null,0.0,3.0,0.0,0.0,0.0,0.0,0.0,0.0,0.0,4.0,4.0,0.0,3.0,0.0,0.0,0.0,0.0,0.0,null,0.0,0.0,null,null,0.0,0.0,null,null,0.0,0.0,0.0,2.0,1.0,0.0,2.0,0.0,0.0,1.0,0.0,null,4.0,0.0,0.0,0.0,0.0,null,0.0,null,4.0,0.0,null,0.0,3.0,0.0,2.0,0.0,0.0,0.0,0.0,0.0,0.0,3.0,null,null,3.0,0.0,null,0.0,0.0,3.0,0.0,0.0,0.0,null,0.0,null,2.0,null,0.0,0.0,0.0,4.0,0.0,null,4.0,0.0,0.0,3.0,1.0,null,0.0,0.0,null,0.0,1.0,3.0,0.0,0.0,0.0,2.0,0.0,null,0.0,null,0.0,0.0,2.0,null,0.0,4.0,2.0,5.0,0.0,2.0,0.0,null,0.0,0.0,1.0,0.0,0.0,4.0,0.0,0.0,0.0,2.0,0.0,0.0,0.0,null,1.0,0.0,0.0,0.0,0.0,null,1.0,0.0,null,2.0,0.0,0.0,null,null,null,2.0,null,0.0,0.0,null,0.0,2.0,0.0,4.0,1.0,0.0,0.0,0.0,0.0,0.0,0.0,0.0,0.0,null,3.0,0.0,5.0,2.0,0.0,null,0.0,0.0,null,0.0,0.0,0.0,0.0,null,2.0,null,0.0,0.0,0.0,3.0,1.0,2.0,null,0.0,0.0,3.0,1.0],\"y0\":\" \",\"yaxis\":\"y\",\"type\":\"violin\"},{\"alignmentgroup\":\"True\",\"box\":{\"visible\":false},\"hovertemplate\":\"class=%{x}<br>sugar=%{y}<extra></extra>\",\"legendgroup\":\"notckd\",\"marker\":{\"color\":\"#EF553B\"},\"name\":\"notckd\",\"offsetgroup\":\"notckd\",\"orientation\":\"v\",\"scalegroup\":\"True\",\"showlegend\":true,\"x\":[\"notckd\",\"notckd\",\"notckd\",\"notckd\",\"notckd\",\"notckd\",\"notckd\",\"notckd\",\"notckd\",\"notckd\",\"notckd\",\"notckd\",\"notckd\",\"notckd\",\"notckd\",\"notckd\",\"notckd\",\"notckd\",\"notckd\",\"notckd\",\"notckd\",\"notckd\",\"notckd\",\"notckd\",\"notckd\",\"notckd\",\"notckd\",\"notckd\",\"notckd\",\"notckd\",\"notckd\",\"notckd\",\"notckd\",\"notckd\",\"notckd\",\"notckd\",\"notckd\",\"notckd\",\"notckd\",\"notckd\",\"notckd\",\"notckd\",\"notckd\",\"notckd\",\"notckd\",\"notckd\",\"notckd\",\"notckd\",\"notckd\",\"notckd\",\"notckd\",\"notckd\",\"notckd\",\"notckd\",\"notckd\",\"notckd\",\"notckd\",\"notckd\",\"notckd\",\"notckd\",\"notckd\",\"notckd\",\"notckd\",\"notckd\",\"notckd\",\"notckd\",\"notckd\",\"notckd\",\"notckd\",\"notckd\",\"notckd\",\"notckd\",\"notckd\",\"notckd\",\"notckd\",\"notckd\",\"notckd\",\"notckd\",\"notckd\",\"notckd\",\"notckd\",\"notckd\",\"notckd\",\"notckd\",\"notckd\",\"notckd\",\"notckd\",\"notckd\",\"notckd\",\"notckd\",\"notckd\",\"notckd\",\"notckd\",\"notckd\",\"notckd\",\"notckd\",\"notckd\",\"notckd\",\"notckd\",\"notckd\",\"notckd\",\"notckd\",\"notckd\",\"notckd\",\"notckd\",\"notckd\",\"notckd\",\"notckd\",\"notckd\",\"notckd\",\"notckd\",\"notckd\",\"notckd\",\"notckd\",\"notckd\",\"notckd\",\"notckd\",\"notckd\",\"notckd\",\"notckd\",\"notckd\",\"notckd\",\"notckd\",\"notckd\",\"notckd\",\"notckd\",\"notckd\",\"notckd\",\"notckd\",\"notckd\",\"notckd\",\"notckd\",\"notckd\",\"notckd\",\"notckd\",\"notckd\",\"notckd\",\"notckd\",\"notckd\",\"notckd\",\"notckd\",\"notckd\",\"notckd\",\"notckd\",\"notckd\",\"notckd\",\"notckd\",\"notckd\",\"notckd\",\"notckd\"],\"x0\":\" \",\"xaxis\":\"x\",\"y\":[0.0,0.0,0.0,0.0,0.0,0.0,0.0,0.0,0.0,0.0,0.0,0.0,0.0,0.0,0.0,0.0,0.0,0.0,null,0.0,0.0,0.0,0.0,0.0,0.0,0.0,0.0,0.0,0.0,0.0,null,0.0,0.0,0.0,0.0,0.0,0.0,0.0,0.0,0.0,0.0,0.0,0.0,0.0,0.0,null,0.0,0.0,0.0,0.0,0.0,0.0,0.0,0.0,0.0,0.0,0.0,0.0,0.0,0.0,0.0,0.0,0.0,0.0,0.0,0.0,0.0,0.0,0.0,0.0,0.0,0.0,null,0.0,0.0,0.0,0.0,0.0,0.0,0.0,0.0,0.0,0.0,0.0,0.0,0.0,0.0,0.0,0.0,0.0,0.0,0.0,0.0,0.0,0.0,0.0,null,0.0,0.0,0.0,0.0,0.0,0.0,0.0,0.0,0.0,0.0,0.0,0.0,0.0,0.0,0.0,0.0,0.0,0.0,0.0,0.0,0.0,0.0,0.0,0.0,0.0,0.0,0.0,0.0,0.0,0.0,0.0,0.0,0.0,0.0,0.0,0.0,0.0,0.0,0.0,0.0,0.0,0.0,0.0,0.0,0.0,0.0,0.0,0.0,0.0,0.0,0.0,0.0,0.0],\"y0\":\" \",\"yaxis\":\"y\",\"type\":\"violin\"}],                        {\"template\":{\"data\":{\"histogram2dcontour\":[{\"type\":\"histogram2dcontour\",\"colorbar\":{\"outlinewidth\":0,\"ticks\":\"\"},\"colorscale\":[[0.0,\"#0d0887\"],[0.1111111111111111,\"#46039f\"],[0.2222222222222222,\"#7201a8\"],[0.3333333333333333,\"#9c179e\"],[0.4444444444444444,\"#bd3786\"],[0.5555555555555556,\"#d8576b\"],[0.6666666666666666,\"#ed7953\"],[0.7777777777777778,\"#fb9f3a\"],[0.8888888888888888,\"#fdca26\"],[1.0,\"#f0f921\"]]}],\"choropleth\":[{\"type\":\"choropleth\",\"colorbar\":{\"outlinewidth\":0,\"ticks\":\"\"}}],\"histogram2d\":[{\"type\":\"histogram2d\",\"colorbar\":{\"outlinewidth\":0,\"ticks\":\"\"},\"colorscale\":[[0.0,\"#0d0887\"],[0.1111111111111111,\"#46039f\"],[0.2222222222222222,\"#7201a8\"],[0.3333333333333333,\"#9c179e\"],[0.4444444444444444,\"#bd3786\"],[0.5555555555555556,\"#d8576b\"],[0.6666666666666666,\"#ed7953\"],[0.7777777777777778,\"#fb9f3a\"],[0.8888888888888888,\"#fdca26\"],[1.0,\"#f0f921\"]]}],\"heatmap\":[{\"type\":\"heatmap\",\"colorbar\":{\"outlinewidth\":0,\"ticks\":\"\"},\"colorscale\":[[0.0,\"#0d0887\"],[0.1111111111111111,\"#46039f\"],[0.2222222222222222,\"#7201a8\"],[0.3333333333333333,\"#9c179e\"],[0.4444444444444444,\"#bd3786\"],[0.5555555555555556,\"#d8576b\"],[0.6666666666666666,\"#ed7953\"],[0.7777777777777778,\"#fb9f3a\"],[0.8888888888888888,\"#fdca26\"],[1.0,\"#f0f921\"]]}],\"heatmapgl\":[{\"type\":\"heatmapgl\",\"colorbar\":{\"outlinewidth\":0,\"ticks\":\"\"},\"colorscale\":[[0.0,\"#0d0887\"],[0.1111111111111111,\"#46039f\"],[0.2222222222222222,\"#7201a8\"],[0.3333333333333333,\"#9c179e\"],[0.4444444444444444,\"#bd3786\"],[0.5555555555555556,\"#d8576b\"],[0.6666666666666666,\"#ed7953\"],[0.7777777777777778,\"#fb9f3a\"],[0.8888888888888888,\"#fdca26\"],[1.0,\"#f0f921\"]]}],\"contourcarpet\":[{\"type\":\"contourcarpet\",\"colorbar\":{\"outlinewidth\":0,\"ticks\":\"\"}}],\"contour\":[{\"type\":\"contour\",\"colorbar\":{\"outlinewidth\":0,\"ticks\":\"\"},\"colorscale\":[[0.0,\"#0d0887\"],[0.1111111111111111,\"#46039f\"],[0.2222222222222222,\"#7201a8\"],[0.3333333333333333,\"#9c179e\"],[0.4444444444444444,\"#bd3786\"],[0.5555555555555556,\"#d8576b\"],[0.6666666666666666,\"#ed7953\"],[0.7777777777777778,\"#fb9f3a\"],[0.8888888888888888,\"#fdca26\"],[1.0,\"#f0f921\"]]}],\"surface\":[{\"type\":\"surface\",\"colorbar\":{\"outlinewidth\":0,\"ticks\":\"\"},\"colorscale\":[[0.0,\"#0d0887\"],[0.1111111111111111,\"#46039f\"],[0.2222222222222222,\"#7201a8\"],[0.3333333333333333,\"#9c179e\"],[0.4444444444444444,\"#bd3786\"],[0.5555555555555556,\"#d8576b\"],[0.6666666666666666,\"#ed7953\"],[0.7777777777777778,\"#fb9f3a\"],[0.8888888888888888,\"#fdca26\"],[1.0,\"#f0f921\"]]}],\"mesh3d\":[{\"type\":\"mesh3d\",\"colorbar\":{\"outlinewidth\":0,\"ticks\":\"\"}}],\"scatter\":[{\"fillpattern\":{\"fillmode\":\"overlay\",\"size\":10,\"solidity\":0.2},\"type\":\"scatter\"}],\"parcoords\":[{\"type\":\"parcoords\",\"line\":{\"colorbar\":{\"outlinewidth\":0,\"ticks\":\"\"}}}],\"scatterpolargl\":[{\"type\":\"scatterpolargl\",\"marker\":{\"colorbar\":{\"outlinewidth\":0,\"ticks\":\"\"}}}],\"bar\":[{\"error_x\":{\"color\":\"#2a3f5f\"},\"error_y\":{\"color\":\"#2a3f5f\"},\"marker\":{\"line\":{\"color\":\"#E5ECF6\",\"width\":0.5},\"pattern\":{\"fillmode\":\"overlay\",\"size\":10,\"solidity\":0.2}},\"type\":\"bar\"}],\"scattergeo\":[{\"type\":\"scattergeo\",\"marker\":{\"colorbar\":{\"outlinewidth\":0,\"ticks\":\"\"}}}],\"scatterpolar\":[{\"type\":\"scatterpolar\",\"marker\":{\"colorbar\":{\"outlinewidth\":0,\"ticks\":\"\"}}}],\"histogram\":[{\"marker\":{\"pattern\":{\"fillmode\":\"overlay\",\"size\":10,\"solidity\":0.2}},\"type\":\"histogram\"}],\"scattergl\":[{\"type\":\"scattergl\",\"marker\":{\"colorbar\":{\"outlinewidth\":0,\"ticks\":\"\"}}}],\"scatter3d\":[{\"type\":\"scatter3d\",\"line\":{\"colorbar\":{\"outlinewidth\":0,\"ticks\":\"\"}},\"marker\":{\"colorbar\":{\"outlinewidth\":0,\"ticks\":\"\"}}}],\"scattermapbox\":[{\"type\":\"scattermapbox\",\"marker\":{\"colorbar\":{\"outlinewidth\":0,\"ticks\":\"\"}}}],\"scatterternary\":[{\"type\":\"scatterternary\",\"marker\":{\"colorbar\":{\"outlinewidth\":0,\"ticks\":\"\"}}}],\"scattercarpet\":[{\"type\":\"scattercarpet\",\"marker\":{\"colorbar\":{\"outlinewidth\":0,\"ticks\":\"\"}}}],\"carpet\":[{\"aaxis\":{\"endlinecolor\":\"#2a3f5f\",\"gridcolor\":\"white\",\"linecolor\":\"white\",\"minorgridcolor\":\"white\",\"startlinecolor\":\"#2a3f5f\"},\"baxis\":{\"endlinecolor\":\"#2a3f5f\",\"gridcolor\":\"white\",\"linecolor\":\"white\",\"minorgridcolor\":\"white\",\"startlinecolor\":\"#2a3f5f\"},\"type\":\"carpet\"}],\"table\":[{\"cells\":{\"fill\":{\"color\":\"#EBF0F8\"},\"line\":{\"color\":\"white\"}},\"header\":{\"fill\":{\"color\":\"#C8D4E3\"},\"line\":{\"color\":\"white\"}},\"type\":\"table\"}],\"barpolar\":[{\"marker\":{\"line\":{\"color\":\"#E5ECF6\",\"width\":0.5},\"pattern\":{\"fillmode\":\"overlay\",\"size\":10,\"solidity\":0.2}},\"type\":\"barpolar\"}],\"pie\":[{\"automargin\":true,\"type\":\"pie\"}]},\"layout\":{\"autotypenumbers\":\"strict\",\"colorway\":[\"#636efa\",\"#EF553B\",\"#00cc96\",\"#ab63fa\",\"#FFA15A\",\"#19d3f3\",\"#FF6692\",\"#B6E880\",\"#FF97FF\",\"#FECB52\"],\"font\":{\"color\":\"#2a3f5f\"},\"hovermode\":\"closest\",\"hoverlabel\":{\"align\":\"left\"},\"paper_bgcolor\":\"white\",\"plot_bgcolor\":\"#E5ECF6\",\"polar\":{\"bgcolor\":\"#E5ECF6\",\"angularaxis\":{\"gridcolor\":\"white\",\"linecolor\":\"white\",\"ticks\":\"\"},\"radialaxis\":{\"gridcolor\":\"white\",\"linecolor\":\"white\",\"ticks\":\"\"}},\"ternary\":{\"bgcolor\":\"#E5ECF6\",\"aaxis\":{\"gridcolor\":\"white\",\"linecolor\":\"white\",\"ticks\":\"\"},\"baxis\":{\"gridcolor\":\"white\",\"linecolor\":\"white\",\"ticks\":\"\"},\"caxis\":{\"gridcolor\":\"white\",\"linecolor\":\"white\",\"ticks\":\"\"}},\"coloraxis\":{\"colorbar\":{\"outlinewidth\":0,\"ticks\":\"\"}},\"colorscale\":{\"sequential\":[[0.0,\"#0d0887\"],[0.1111111111111111,\"#46039f\"],[0.2222222222222222,\"#7201a8\"],[0.3333333333333333,\"#9c179e\"],[0.4444444444444444,\"#bd3786\"],[0.5555555555555556,\"#d8576b\"],[0.6666666666666666,\"#ed7953\"],[0.7777777777777778,\"#fb9f3a\"],[0.8888888888888888,\"#fdca26\"],[1.0,\"#f0f921\"]],\"sequentialminus\":[[0.0,\"#0d0887\"],[0.1111111111111111,\"#46039f\"],[0.2222222222222222,\"#7201a8\"],[0.3333333333333333,\"#9c179e\"],[0.4444444444444444,\"#bd3786\"],[0.5555555555555556,\"#d8576b\"],[0.6666666666666666,\"#ed7953\"],[0.7777777777777778,\"#fb9f3a\"],[0.8888888888888888,\"#fdca26\"],[1.0,\"#f0f921\"]],\"diverging\":[[0,\"#8e0152\"],[0.1,\"#c51b7d\"],[0.2,\"#de77ae\"],[0.3,\"#f1b6da\"],[0.4,\"#fde0ef\"],[0.5,\"#f7f7f7\"],[0.6,\"#e6f5d0\"],[0.7,\"#b8e186\"],[0.8,\"#7fbc41\"],[0.9,\"#4d9221\"],[1,\"#276419\"]]},\"xaxis\":{\"gridcolor\":\"white\",\"linecolor\":\"white\",\"ticks\":\"\",\"title\":{\"standoff\":15},\"zerolinecolor\":\"white\",\"automargin\":true,\"zerolinewidth\":2},\"yaxis\":{\"gridcolor\":\"white\",\"linecolor\":\"white\",\"ticks\":\"\",\"title\":{\"standoff\":15},\"zerolinecolor\":\"white\",\"automargin\":true,\"zerolinewidth\":2},\"scene\":{\"xaxis\":{\"backgroundcolor\":\"#E5ECF6\",\"gridcolor\":\"white\",\"linecolor\":\"white\",\"showbackground\":true,\"ticks\":\"\",\"zerolinecolor\":\"white\",\"gridwidth\":2},\"yaxis\":{\"backgroundcolor\":\"#E5ECF6\",\"gridcolor\":\"white\",\"linecolor\":\"white\",\"showbackground\":true,\"ticks\":\"\",\"zerolinecolor\":\"white\",\"gridwidth\":2},\"zaxis\":{\"backgroundcolor\":\"#E5ECF6\",\"gridcolor\":\"white\",\"linecolor\":\"white\",\"showbackground\":true,\"ticks\":\"\",\"zerolinecolor\":\"white\",\"gridwidth\":2}},\"shapedefaults\":{\"line\":{\"color\":\"#2a3f5f\"}},\"annotationdefaults\":{\"arrowcolor\":\"#2a3f5f\",\"arrowhead\":0,\"arrowwidth\":1},\"geo\":{\"bgcolor\":\"white\",\"landcolor\":\"#E5ECF6\",\"subunitcolor\":\"white\",\"showland\":true,\"showlakes\":true,\"lakecolor\":\"white\"},\"title\":{\"x\":0.05},\"mapbox\":{\"style\":\"light\"}}},\"xaxis\":{\"anchor\":\"y\",\"domain\":[0.0,1.0],\"title\":{\"text\":\"class\"},\"categoryorder\":\"array\",\"categoryarray\":[\"ckd\",\"notckd\"]},\"yaxis\":{\"anchor\":\"x\",\"domain\":[0.0,1.0],\"title\":{\"text\":\"sugar\"}},\"legend\":{\"title\":{\"text\":\"class\"},\"tracegroupgap\":0},\"margin\":{\"t\":60},\"violinmode\":\"overlay\"},                        {\"responsive\": true}                    ).then(function(){\n",
       "                            \n",
       "var gd = document.getElementById('8d0dee1b-d3fb-403a-9766-f906c954a32e');\n",
       "var x = new MutationObserver(function (mutations, observer) {{\n",
       "        var display = window.getComputedStyle(gd).display;\n",
       "        if (!display || display === 'none') {{\n",
       "            console.log([gd, 'removed!']);\n",
       "            Plotly.purge(gd);\n",
       "            observer.disconnect();\n",
       "        }}\n",
       "}});\n",
       "\n",
       "// Listen for the removal of the full notebook cells\n",
       "var notebookContainer = gd.closest('#notebook-container');\n",
       "if (notebookContainer) {{\n",
       "    x.observe(notebookContainer, {childList: true});\n",
       "}}\n",
       "\n",
       "// Listen for the clearing of the current output cell\n",
       "var outputEl = gd.closest('.output');\n",
       "if (outputEl) {{\n",
       "    x.observe(outputEl, {childList: true});\n",
       "}}\n",
       "\n",
       "                        })                };                });            </script>        </div>"
      ]
     },
     "metadata": {},
     "output_type": "display_data"
    }
   ],
   "source": [
    "violen('sugar')"
   ]
  },
  {
   "cell_type": "code",
   "execution_count": 212,
   "id": "dcfe1057",
   "metadata": {},
   "outputs": [
    {
     "data": {
      "application/vnd.plotly.v1+json": {
       "config": {
        "plotlyServerURL": "https://plot.ly"
       },
       "data": [
        {
         "hovertemplate": "class=ckd<br>packed cell volume=%{x}<br>red blood cell count=%{y}<extra></extra>",
         "legendgroup": "ckd",
         "marker": {
          "color": "#636efa",
          "symbol": "circle"
         },
         "mode": "markers",
         "name": "ckd",
         "orientation": "v",
         "showlegend": true,
         "type": "scatter",
         "x": [
          44,
          38,
          31,
          32,
          35,
          39,
          36,
          44,
          33,
          29,
          28,
          32,
          28,
          null,
          16,
          24,
          null,
          null,
          37,
          30,
          24,
          32,
          32,
          null,
          39,
          29,
          35,
          37,
          null,
          38,
          null,
          30,
          34,
          29,
          null,
          36,
          32,
          28,
          null,
          40,
          32,
          null,
          33,
          24,
          28,
          null,
          37,
          45,
          29,
          29,
          28,
          33,
          34,
          40,
          40,
          28,
          30,
          null,
          33,
          null,
          null,
          null,
          33,
          27,
          null,
          48,
          null,
          null,
          37,
          52,
          44,
          28,
          null,
          14,
          29,
          null,
          36,
          34,
          30,
          40,
          31,
          29,
          null,
          null,
          22,
          null,
          null,
          32,
          null,
          null,
          40,
          52,
          33,
          30,
          36,
          null,
          36,
          32,
          18,
          32,
          null,
          33,
          52,
          36,
          null,
          42,
          17,
          34,
          37,
          null,
          34,
          32,
          33,
          null,
          null,
          44,
          null,
          37,
          null,
          null,
          null,
          46,
          null,
          42,
          28,
          null,
          37,
          35,
          23,
          null,
          22,
          36,
          24,
          37,
          33,
          39,
          null,
          29,
          null,
          33,
          null,
          19,
          null,
          null,
          33,
          24,
          null,
          25,
          null,
          32,
          41,
          30,
          32,
          22,
          26,
          36,
          null,
          39,
          31,
          35,
          35,
          42,
          37,
          27,
          40,
          null,
          null,
          42,
          39,
          27,
          33,
          26,
          34,
          41,
          35,
          null,
          23,
          41,
          34,
          39,
          28,
          30,
          35,
          null,
          31,
          34,
          null,
          34,
          38,
          29,
          30,
          26,
          null,
          15,
          null,
          null,
          24,
          null,
          30,
          25,
          37,
          21,
          24,
          null,
          31,
          43,
          41,
          41,
          41,
          null,
          20,
          null,
          31,
          34,
          43,
          null,
          38,
          36,
          34,
          28,
          36,
          null,
          null,
          38,
          null,
          35,
          26,
          36,
          null,
          31,
          null,
          35,
          null,
          null,
          44,
          26,
          25,
          40,
          28,
          39,
          36,
          31,
          28,
          47,
          40,
          19,
          26,
          null,
          37,
          9
         ],
         "xaxis": "x",
         "y": [
          5.2,
          null,
          null,
          3.9,
          4.6,
          4.4,
          null,
          5,
          4,
          3.7,
          null,
          3.8,
          3.4,
          null,
          2.6,
          2.8,
          null,
          null,
          4.3,
          3.7,
          3.2,
          3.6,
          3.4,
          null,
          4.6,
          3.7,
          4,
          4.1,
          null,
          null,
          null,
          4,
          4,
          null,
          null,
          4.9,
          null,
          2.5,
          null,
          4.2,
          4.1,
          null,
          4.5,
          3.1,
          null,
          null,
          4.7,
          null,
          3.5,
          3.5,
          3.8,
          null,
          3.7,
          4.7,
          4.2,
          null,
          3.4,
          null,
          4.3,
          null,
          null,
          null,
          3.8,
          null,
          null,
          null,
          null,
          null,
          null,
          6,
          5.2,
          3.2,
          null,
          null,
          3.4,
          null,
          4,
          3.7,
          null,
          5,
          3.8,
          3.7,
          null,
          null,
          2.1,
          null,
          null,
          5,
          4.7,
          null,
          4.2,
          5.6,
          3.6,
          3.2,
          3.9,
          null,
          null,
          4,
          2.3,
          4.2,
          null,
          3.9,
          null,
          4.2,
          null,
          5.2,
          null,
          4.4,
          4.2,
          null,
          4.7,
          3.9,
          null,
          null,
          null,
          4.3,
          null,
          4.4,
          null,
          null,
          null,
          null,
          null,
          null,
          3.6,
          null,
          4.5,
          4.3,
          2.9,
          null,
          2.7,
          null,
          2.7,
          8,
          3.8,
          null,
          null,
          null,
          null,
          null,
          null,
          null,
          null,
          null,
          4.1,
          3.3,
          null,
          3,
          null,
          null,
          null,
          null,
          null,
          2.9,
          3,
          null,
          null,
          3.9,
          null,
          4.3,
          2.4,
          4.8,
          null,
          3.2,
          5.4,
          null,
          null,
          null,
          null,
          null,
          4.4,
          3.1,
          4.9,
          null,
          4.6,
          3.4,
          3.9,
          null,
          null,
          null,
          null,
          3.7,
          null,
          null,
          3.6,
          null,
          null,
          null,
          null,
          3.4,
          4.8,
          3.4,
          null,
          2.8,
          null,
          null,
          3.5,
          3,
          3.9,
          3.2,
          3.9,
          null,
          null,
          null,
          null,
          null,
          null,
          4.6,
          4.9,
          null,
          3.9,
          null,
          3.4,
          3.7,
          5.2,
          null,
          null,
          4.3,
          null,
          3.3,
          null,
          null,
          null,
          4.6,
          null,
          4.5,
          3.4,
          3.8,
          null,
          3.8,
          null,
          null,
          null,
          null,
          5.2,
          null,
          null,
          null,
          null,
          null,
          4.1,
          3.9,
          3.3,
          6.1,
          4.6,
          2.6,
          2.5,
          null,
          4.1,
          2.1
         ],
         "yaxis": "y"
        },
        {
         "hovertemplate": "class=notckd<br>packed cell volume=%{x}<br>red blood cell count=%{y}<extra></extra>",
         "legendgroup": "notckd",
         "marker": {
          "color": "#EF553B",
          "symbol": "circle"
         },
         "mode": "markers",
         "name": "notckd",
         "orientation": "v",
         "showlegend": true,
         "type": "scatter",
         "x": [
          48,
          52,
          46,
          42,
          49,
          52,
          41,
          46,
          44,
          45,
          45,
          41,
          43,
          45,
          50,
          48,
          41,
          48,
          53,
          48,
          41,
          42,
          42,
          null,
          44,
          43,
          41,
          50,
          44,
          48,
          52,
          41,
          44,
          43,
          52,
          41,
          44,
          43,
          50,
          43,
          52,
          41,
          52,
          48,
          40,
          50,
          41,
          45,
          48,
          52,
          43,
          41,
          48,
          50,
          45,
          41,
          52,
          44,
          48,
          40,
          44,
          45,
          48,
          52,
          41,
          48,
          48,
          40,
          52,
          null,
          44,
          48,
          43,
          45,
          null,
          50,
          41,
          44,
          45,
          48,
          42,
          46,
          44,
          46,
          43,
          48,
          40,
          52,
          44,
          48,
          43,
          41,
          50,
          50,
          42,
          42,
          52,
          43,
          44,
          52,
          43,
          40,
          48,
          51,
          41,
          52,
          47,
          42,
          45,
          53,
          43,
          54,
          40,
          44,
          45,
          null,
          46,
          50,
          45,
          46,
          50,
          51,
          52,
          47,
          40,
          48,
          53,
          49,
          42,
          50,
          54,
          40,
          51,
          49,
          42,
          52,
          43,
          50,
          46,
          52,
          52,
          44,
          46,
          54,
          45,
          47,
          54,
          49,
          51,
          53
         ],
         "xaxis": "x",
         "y": [
          4.5,
          5,
          4.7,
          6.2,
          5.2,
          6.3,
          5.1,
          5.8,
          5.5,
          5.2,
          5.3,
          4.9,
          5.4,
          5.2,
          4.5,
          5,
          5.3,
          4.8,
          4.9,
          5.3,
          5,
          4.5,
          5.5,
          null,
          null,
          4.6,
          5.5,
          4.8,
          6.4,
          5.6,
          5.2,
          6,
          4.8,
          5.7,
          6,
          5.9,
          6,
          null,
          5.1,
          5.3,
          5.9,
          5.7,
          5,
          5.4,
          5.8,
          6.5,
          5.9,
          5.2,
          4.9,
          4.7,
          5.8,
          5,
          null,
          6.1,
          4.5,
          5.2,
          5.7,
          4.5,
          4.9,
          5.9,
          5.4,
          5.6,
          6.1,
          4.8,
          4.7,
          4.4,
          5.2,
          4.9,
          5.3,
          null,
          6.2,
          4.8,
          4.9,
          4.5,
          null,
          6.5,
          5.2,
          5.8,
          6.5,
          5.1,
          null,
          4.5,
          6.1,
          5.5,
          4.5,
          5.6,
          5.2,
          6.2,
          4.5,
          4.9,
          5.9,
          4.7,
          6.3,
          5.7,
          4.7,
          6.4,
          5.8,
          5.5,
          6.4,
          6.1,
          4.5,
          4.7,
          5.2,
          4.5,
          5.1,
          4.6,
          6.1,
          4.9,
          5.6,
          4.5,
          6.2,
          5.8,
          4.8,
          5.2,
          4.7,
          6.3,
          5.3,
          6.1,
          5.9,
          4.8,
          5.4,
          5,
          5.5,
          4.9,
          6.4,
          5.6,
          5.2,
          4.8,
          5.5,
          5.7,
          4.9,
          5.9,
          6.5,
          5,
          4.5,
          5.1,
          6.5,
          5.2,
          6.4,
          5.8,
          5.3,
          6.3,
          5.5,
          5.4,
          4.6,
          4.9,
          6.2,
          5.4,
          5.9,
          6.1
         ],
         "yaxis": "y"
        }
       ],
       "layout": {
        "legend": {
         "title": {
          "text": "class"
         },
         "tracegroupgap": 0
        },
        "margin": {
         "t": 60
        },
        "template": {
         "data": {
          "bar": [
           {
            "error_x": {
             "color": "#2a3f5f"
            },
            "error_y": {
             "color": "#2a3f5f"
            },
            "marker": {
             "line": {
              "color": "#E5ECF6",
              "width": 0.5
             },
             "pattern": {
              "fillmode": "overlay",
              "size": 10,
              "solidity": 0.2
             }
            },
            "type": "bar"
           }
          ],
          "barpolar": [
           {
            "marker": {
             "line": {
              "color": "#E5ECF6",
              "width": 0.5
             },
             "pattern": {
              "fillmode": "overlay",
              "size": 10,
              "solidity": 0.2
             }
            },
            "type": "barpolar"
           }
          ],
          "carpet": [
           {
            "aaxis": {
             "endlinecolor": "#2a3f5f",
             "gridcolor": "white",
             "linecolor": "white",
             "minorgridcolor": "white",
             "startlinecolor": "#2a3f5f"
            },
            "baxis": {
             "endlinecolor": "#2a3f5f",
             "gridcolor": "white",
             "linecolor": "white",
             "minorgridcolor": "white",
             "startlinecolor": "#2a3f5f"
            },
            "type": "carpet"
           }
          ],
          "choropleth": [
           {
            "colorbar": {
             "outlinewidth": 0,
             "ticks": ""
            },
            "type": "choropleth"
           }
          ],
          "contour": [
           {
            "colorbar": {
             "outlinewidth": 0,
             "ticks": ""
            },
            "colorscale": [
             [
              0,
              "#0d0887"
             ],
             [
              0.1111111111111111,
              "#46039f"
             ],
             [
              0.2222222222222222,
              "#7201a8"
             ],
             [
              0.3333333333333333,
              "#9c179e"
             ],
             [
              0.4444444444444444,
              "#bd3786"
             ],
             [
              0.5555555555555556,
              "#d8576b"
             ],
             [
              0.6666666666666666,
              "#ed7953"
             ],
             [
              0.7777777777777778,
              "#fb9f3a"
             ],
             [
              0.8888888888888888,
              "#fdca26"
             ],
             [
              1,
              "#f0f921"
             ]
            ],
            "type": "contour"
           }
          ],
          "contourcarpet": [
           {
            "colorbar": {
             "outlinewidth": 0,
             "ticks": ""
            },
            "type": "contourcarpet"
           }
          ],
          "heatmap": [
           {
            "colorbar": {
             "outlinewidth": 0,
             "ticks": ""
            },
            "colorscale": [
             [
              0,
              "#0d0887"
             ],
             [
              0.1111111111111111,
              "#46039f"
             ],
             [
              0.2222222222222222,
              "#7201a8"
             ],
             [
              0.3333333333333333,
              "#9c179e"
             ],
             [
              0.4444444444444444,
              "#bd3786"
             ],
             [
              0.5555555555555556,
              "#d8576b"
             ],
             [
              0.6666666666666666,
              "#ed7953"
             ],
             [
              0.7777777777777778,
              "#fb9f3a"
             ],
             [
              0.8888888888888888,
              "#fdca26"
             ],
             [
              1,
              "#f0f921"
             ]
            ],
            "type": "heatmap"
           }
          ],
          "heatmapgl": [
           {
            "colorbar": {
             "outlinewidth": 0,
             "ticks": ""
            },
            "colorscale": [
             [
              0,
              "#0d0887"
             ],
             [
              0.1111111111111111,
              "#46039f"
             ],
             [
              0.2222222222222222,
              "#7201a8"
             ],
             [
              0.3333333333333333,
              "#9c179e"
             ],
             [
              0.4444444444444444,
              "#bd3786"
             ],
             [
              0.5555555555555556,
              "#d8576b"
             ],
             [
              0.6666666666666666,
              "#ed7953"
             ],
             [
              0.7777777777777778,
              "#fb9f3a"
             ],
             [
              0.8888888888888888,
              "#fdca26"
             ],
             [
              1,
              "#f0f921"
             ]
            ],
            "type": "heatmapgl"
           }
          ],
          "histogram": [
           {
            "marker": {
             "pattern": {
              "fillmode": "overlay",
              "size": 10,
              "solidity": 0.2
             }
            },
            "type": "histogram"
           }
          ],
          "histogram2d": [
           {
            "colorbar": {
             "outlinewidth": 0,
             "ticks": ""
            },
            "colorscale": [
             [
              0,
              "#0d0887"
             ],
             [
              0.1111111111111111,
              "#46039f"
             ],
             [
              0.2222222222222222,
              "#7201a8"
             ],
             [
              0.3333333333333333,
              "#9c179e"
             ],
             [
              0.4444444444444444,
              "#bd3786"
             ],
             [
              0.5555555555555556,
              "#d8576b"
             ],
             [
              0.6666666666666666,
              "#ed7953"
             ],
             [
              0.7777777777777778,
              "#fb9f3a"
             ],
             [
              0.8888888888888888,
              "#fdca26"
             ],
             [
              1,
              "#f0f921"
             ]
            ],
            "type": "histogram2d"
           }
          ],
          "histogram2dcontour": [
           {
            "colorbar": {
             "outlinewidth": 0,
             "ticks": ""
            },
            "colorscale": [
             [
              0,
              "#0d0887"
             ],
             [
              0.1111111111111111,
              "#46039f"
             ],
             [
              0.2222222222222222,
              "#7201a8"
             ],
             [
              0.3333333333333333,
              "#9c179e"
             ],
             [
              0.4444444444444444,
              "#bd3786"
             ],
             [
              0.5555555555555556,
              "#d8576b"
             ],
             [
              0.6666666666666666,
              "#ed7953"
             ],
             [
              0.7777777777777778,
              "#fb9f3a"
             ],
             [
              0.8888888888888888,
              "#fdca26"
             ],
             [
              1,
              "#f0f921"
             ]
            ],
            "type": "histogram2dcontour"
           }
          ],
          "mesh3d": [
           {
            "colorbar": {
             "outlinewidth": 0,
             "ticks": ""
            },
            "type": "mesh3d"
           }
          ],
          "parcoords": [
           {
            "line": {
             "colorbar": {
              "outlinewidth": 0,
              "ticks": ""
             }
            },
            "type": "parcoords"
           }
          ],
          "pie": [
           {
            "automargin": true,
            "type": "pie"
           }
          ],
          "scatter": [
           {
            "fillpattern": {
             "fillmode": "overlay",
             "size": 10,
             "solidity": 0.2
            },
            "type": "scatter"
           }
          ],
          "scatter3d": [
           {
            "line": {
             "colorbar": {
              "outlinewidth": 0,
              "ticks": ""
             }
            },
            "marker": {
             "colorbar": {
              "outlinewidth": 0,
              "ticks": ""
             }
            },
            "type": "scatter3d"
           }
          ],
          "scattercarpet": [
           {
            "marker": {
             "colorbar": {
              "outlinewidth": 0,
              "ticks": ""
             }
            },
            "type": "scattercarpet"
           }
          ],
          "scattergeo": [
           {
            "marker": {
             "colorbar": {
              "outlinewidth": 0,
              "ticks": ""
             }
            },
            "type": "scattergeo"
           }
          ],
          "scattergl": [
           {
            "marker": {
             "colorbar": {
              "outlinewidth": 0,
              "ticks": ""
             }
            },
            "type": "scattergl"
           }
          ],
          "scattermapbox": [
           {
            "marker": {
             "colorbar": {
              "outlinewidth": 0,
              "ticks": ""
             }
            },
            "type": "scattermapbox"
           }
          ],
          "scatterpolar": [
           {
            "marker": {
             "colorbar": {
              "outlinewidth": 0,
              "ticks": ""
             }
            },
            "type": "scatterpolar"
           }
          ],
          "scatterpolargl": [
           {
            "marker": {
             "colorbar": {
              "outlinewidth": 0,
              "ticks": ""
             }
            },
            "type": "scatterpolargl"
           }
          ],
          "scatterternary": [
           {
            "marker": {
             "colorbar": {
              "outlinewidth": 0,
              "ticks": ""
             }
            },
            "type": "scatterternary"
           }
          ],
          "surface": [
           {
            "colorbar": {
             "outlinewidth": 0,
             "ticks": ""
            },
            "colorscale": [
             [
              0,
              "#0d0887"
             ],
             [
              0.1111111111111111,
              "#46039f"
             ],
             [
              0.2222222222222222,
              "#7201a8"
             ],
             [
              0.3333333333333333,
              "#9c179e"
             ],
             [
              0.4444444444444444,
              "#bd3786"
             ],
             [
              0.5555555555555556,
              "#d8576b"
             ],
             [
              0.6666666666666666,
              "#ed7953"
             ],
             [
              0.7777777777777778,
              "#fb9f3a"
             ],
             [
              0.8888888888888888,
              "#fdca26"
             ],
             [
              1,
              "#f0f921"
             ]
            ],
            "type": "surface"
           }
          ],
          "table": [
           {
            "cells": {
             "fill": {
              "color": "#EBF0F8"
             },
             "line": {
              "color": "white"
             }
            },
            "header": {
             "fill": {
              "color": "#C8D4E3"
             },
             "line": {
              "color": "white"
             }
            },
            "type": "table"
           }
          ]
         },
         "layout": {
          "annotationdefaults": {
           "arrowcolor": "#2a3f5f",
           "arrowhead": 0,
           "arrowwidth": 1
          },
          "autotypenumbers": "strict",
          "coloraxis": {
           "colorbar": {
            "outlinewidth": 0,
            "ticks": ""
           }
          },
          "colorscale": {
           "diverging": [
            [
             0,
             "#8e0152"
            ],
            [
             0.1,
             "#c51b7d"
            ],
            [
             0.2,
             "#de77ae"
            ],
            [
             0.3,
             "#f1b6da"
            ],
            [
             0.4,
             "#fde0ef"
            ],
            [
             0.5,
             "#f7f7f7"
            ],
            [
             0.6,
             "#e6f5d0"
            ],
            [
             0.7,
             "#b8e186"
            ],
            [
             0.8,
             "#7fbc41"
            ],
            [
             0.9,
             "#4d9221"
            ],
            [
             1,
             "#276419"
            ]
           ],
           "sequential": [
            [
             0,
             "#0d0887"
            ],
            [
             0.1111111111111111,
             "#46039f"
            ],
            [
             0.2222222222222222,
             "#7201a8"
            ],
            [
             0.3333333333333333,
             "#9c179e"
            ],
            [
             0.4444444444444444,
             "#bd3786"
            ],
            [
             0.5555555555555556,
             "#d8576b"
            ],
            [
             0.6666666666666666,
             "#ed7953"
            ],
            [
             0.7777777777777778,
             "#fb9f3a"
            ],
            [
             0.8888888888888888,
             "#fdca26"
            ],
            [
             1,
             "#f0f921"
            ]
           ],
           "sequentialminus": [
            [
             0,
             "#0d0887"
            ],
            [
             0.1111111111111111,
             "#46039f"
            ],
            [
             0.2222222222222222,
             "#7201a8"
            ],
            [
             0.3333333333333333,
             "#9c179e"
            ],
            [
             0.4444444444444444,
             "#bd3786"
            ],
            [
             0.5555555555555556,
             "#d8576b"
            ],
            [
             0.6666666666666666,
             "#ed7953"
            ],
            [
             0.7777777777777778,
             "#fb9f3a"
            ],
            [
             0.8888888888888888,
             "#fdca26"
            ],
            [
             1,
             "#f0f921"
            ]
           ]
          },
          "colorway": [
           "#636efa",
           "#EF553B",
           "#00cc96",
           "#ab63fa",
           "#FFA15A",
           "#19d3f3",
           "#FF6692",
           "#B6E880",
           "#FF97FF",
           "#FECB52"
          ],
          "font": {
           "color": "#2a3f5f"
          },
          "geo": {
           "bgcolor": "white",
           "lakecolor": "white",
           "landcolor": "#E5ECF6",
           "showlakes": true,
           "showland": true,
           "subunitcolor": "white"
          },
          "hoverlabel": {
           "align": "left"
          },
          "hovermode": "closest",
          "mapbox": {
           "style": "light"
          },
          "paper_bgcolor": "white",
          "plot_bgcolor": "#E5ECF6",
          "polar": {
           "angularaxis": {
            "gridcolor": "white",
            "linecolor": "white",
            "ticks": ""
           },
           "bgcolor": "#E5ECF6",
           "radialaxis": {
            "gridcolor": "white",
            "linecolor": "white",
            "ticks": ""
           }
          },
          "scene": {
           "xaxis": {
            "backgroundcolor": "#E5ECF6",
            "gridcolor": "white",
            "gridwidth": 2,
            "linecolor": "white",
            "showbackground": true,
            "ticks": "",
            "zerolinecolor": "white"
           },
           "yaxis": {
            "backgroundcolor": "#E5ECF6",
            "gridcolor": "white",
            "gridwidth": 2,
            "linecolor": "white",
            "showbackground": true,
            "ticks": "",
            "zerolinecolor": "white"
           },
           "zaxis": {
            "backgroundcolor": "#E5ECF6",
            "gridcolor": "white",
            "gridwidth": 2,
            "linecolor": "white",
            "showbackground": true,
            "ticks": "",
            "zerolinecolor": "white"
           }
          },
          "shapedefaults": {
           "line": {
            "color": "#2a3f5f"
           }
          },
          "ternary": {
           "aaxis": {
            "gridcolor": "white",
            "linecolor": "white",
            "ticks": ""
           },
           "baxis": {
            "gridcolor": "white",
            "linecolor": "white",
            "ticks": ""
           },
           "bgcolor": "#E5ECF6",
           "caxis": {
            "gridcolor": "white",
            "linecolor": "white",
            "ticks": ""
           }
          },
          "title": {
           "x": 0.05
          },
          "xaxis": {
           "automargin": true,
           "gridcolor": "white",
           "linecolor": "white",
           "ticks": "",
           "title": {
            "standoff": 15
           },
           "zerolinecolor": "white",
           "zerolinewidth": 2
          },
          "yaxis": {
           "automargin": true,
           "gridcolor": "white",
           "linecolor": "white",
           "ticks": "",
           "title": {
            "standoff": 15
           },
           "zerolinecolor": "white",
           "zerolinewidth": 2
          }
         }
        },
        "xaxis": {
         "anchor": "y",
         "domain": [
          0,
          1
         ],
         "title": {
          "text": "packed cell volume"
         }
        },
        "yaxis": {
         "anchor": "x",
         "domain": [
          0,
          1
         ],
         "title": {
          "text": "red blood cell count"
         }
        }
       }
      },
      "text/html": [
       "<div>                            <div id=\"28d1175f-9f55-4b20-aa41-9fe4ecf7ee83\" class=\"plotly-graph-div\" style=\"height:525px; width:100%;\"></div>            <script type=\"text/javascript\">                require([\"plotly\"], function(Plotly) {                    window.PLOTLYENV=window.PLOTLYENV || {};                                    if (document.getElementById(\"28d1175f-9f55-4b20-aa41-9fe4ecf7ee83\")) {                    Plotly.newPlot(                        \"28d1175f-9f55-4b20-aa41-9fe4ecf7ee83\",                        [{\"hovertemplate\":\"class=ckd<br>packed cell volume=%{x}<br>red blood cell count=%{y}<extra></extra>\",\"legendgroup\":\"ckd\",\"marker\":{\"color\":\"#636efa\",\"symbol\":\"circle\"},\"mode\":\"markers\",\"name\":\"ckd\",\"orientation\":\"v\",\"showlegend\":true,\"x\":[44.0,38.0,31.0,32.0,35.0,39.0,36.0,44.0,33.0,29.0,28.0,32.0,28.0,null,16.0,24.0,null,null,37.0,30.0,24.0,32.0,32.0,null,39.0,29.0,35.0,37.0,null,38.0,null,30.0,34.0,29.0,null,36.0,32.0,28.0,null,40.0,32.0,null,33.0,24.0,28.0,null,37.0,45.0,29.0,29.0,28.0,33.0,34.0,40.0,40.0,28.0,30.0,null,33.0,null,null,null,33.0,27.0,null,48.0,null,null,37.0,52.0,44.0,28.0,null,14.0,29.0,null,36.0,34.0,30.0,40.0,31.0,29.0,null,null,22.0,null,null,32.0,null,null,40.0,52.0,33.0,30.0,36.0,null,36.0,32.0,18.0,32.0,null,33.0,52.0,36.0,null,42.0,17.0,34.0,37.0,null,34.0,32.0,33.0,null,null,44.0,null,37.0,null,null,null,46.0,null,42.0,28.0,null,37.0,35.0,23.0,null,22.0,36.0,24.0,37.0,33.0,39.0,null,29.0,null,33.0,null,19.0,null,null,33.0,24.0,null,25.0,null,32.0,41.0,30.0,32.0,22.0,26.0,36.0,null,39.0,31.0,35.0,35.0,42.0,37.0,27.0,40.0,null,null,42.0,39.0,27.0,33.0,26.0,34.0,41.0,35.0,null,23.0,41.0,34.0,39.0,28.0,30.0,35.0,null,31.0,34.0,null,34.0,38.0,29.0,30.0,26.0,null,15.0,null,null,24.0,null,30.0,25.0,37.0,21.0,24.0,null,31.0,43.0,41.0,41.0,41.0,null,20.0,null,31.0,34.0,43.0,null,38.0,36.0,34.0,28.0,36.0,null,null,38.0,null,35.0,26.0,36.0,null,31.0,null,35.0,null,null,44.0,26.0,25.0,40.0,28.0,39.0,36.0,31.0,28.0,47.0,40.0,19.0,26.0,null,37.0,9.0],\"xaxis\":\"x\",\"y\":[5.2,null,null,3.9,4.6,4.4,null,5.0,4.0,3.7,null,3.8,3.4,null,2.6,2.8,null,null,4.3,3.7,3.2,3.6,3.4,null,4.6,3.7,4.0,4.1,null,null,null,4.0,4.0,null,null,4.9,null,2.5,null,4.2,4.1,null,4.5,3.1,null,null,4.7,null,3.5,3.5,3.8,null,3.7,4.7,4.2,null,3.4,null,4.3,null,null,null,3.8,null,null,null,null,null,null,6.0,5.2,3.2,null,null,3.4,null,4.0,3.7,null,5.0,3.8,3.7,null,null,2.1,null,null,5.0,4.7,null,4.2,5.6,3.6,3.2,3.9,null,null,4.0,2.3,4.2,null,3.9,null,4.2,null,5.2,null,4.4,4.2,null,4.7,3.9,null,null,null,4.3,null,4.4,null,null,null,null,null,null,3.6,null,4.5,4.3,2.9,null,2.7,null,2.7,8.0,3.8,null,null,null,null,null,null,null,null,null,4.1,3.3,null,3.0,null,null,null,null,null,2.9,3.0,null,null,3.9,null,4.3,2.4,4.8,null,3.2,5.4,null,null,null,null,null,4.4,3.1,4.9,null,4.6,3.4,3.9,null,null,null,null,3.7,null,null,3.6,null,null,null,null,3.4,4.8,3.4,null,2.8,null,null,3.5,3.0,3.9,3.2,3.9,null,null,null,null,null,null,4.6,4.9,null,3.9,null,3.4,3.7,5.2,null,null,4.3,null,3.3,null,null,null,4.6,null,4.5,3.4,3.8,null,3.8,null,null,null,null,5.2,null,null,null,null,null,4.1,3.9,3.3,6.1,4.6,2.6,2.5,null,4.1,2.1],\"yaxis\":\"y\",\"type\":\"scatter\"},{\"hovertemplate\":\"class=notckd<br>packed cell volume=%{x}<br>red blood cell count=%{y}<extra></extra>\",\"legendgroup\":\"notckd\",\"marker\":{\"color\":\"#EF553B\",\"symbol\":\"circle\"},\"mode\":\"markers\",\"name\":\"notckd\",\"orientation\":\"v\",\"showlegend\":true,\"x\":[48.0,52.0,46.0,42.0,49.0,52.0,41.0,46.0,44.0,45.0,45.0,41.0,43.0,45.0,50.0,48.0,41.0,48.0,53.0,48.0,41.0,42.0,42.0,null,44.0,43.0,41.0,50.0,44.0,48.0,52.0,41.0,44.0,43.0,52.0,41.0,44.0,43.0,50.0,43.0,52.0,41.0,52.0,48.0,40.0,50.0,41.0,45.0,48.0,52.0,43.0,41.0,48.0,50.0,45.0,41.0,52.0,44.0,48.0,40.0,44.0,45.0,48.0,52.0,41.0,48.0,48.0,40.0,52.0,null,44.0,48.0,43.0,45.0,null,50.0,41.0,44.0,45.0,48.0,42.0,46.0,44.0,46.0,43.0,48.0,40.0,52.0,44.0,48.0,43.0,41.0,50.0,50.0,42.0,42.0,52.0,43.0,44.0,52.0,43.0,40.0,48.0,51.0,41.0,52.0,47.0,42.0,45.0,53.0,43.0,54.0,40.0,44.0,45.0,null,46.0,50.0,45.0,46.0,50.0,51.0,52.0,47.0,40.0,48.0,53.0,49.0,42.0,50.0,54.0,40.0,51.0,49.0,42.0,52.0,43.0,50.0,46.0,52.0,52.0,44.0,46.0,54.0,45.0,47.0,54.0,49.0,51.0,53.0],\"xaxis\":\"x\",\"y\":[4.5,5.0,4.7,6.2,5.2,6.3,5.1,5.8,5.5,5.2,5.3,4.9,5.4,5.2,4.5,5.0,5.3,4.8,4.9,5.3,5.0,4.5,5.5,null,null,4.6,5.5,4.8,6.4,5.6,5.2,6.0,4.8,5.7,6.0,5.9,6.0,null,5.1,5.3,5.9,5.7,5.0,5.4,5.8,6.5,5.9,5.2,4.9,4.7,5.8,5.0,null,6.1,4.5,5.2,5.7,4.5,4.9,5.9,5.4,5.6,6.1,4.8,4.7,4.4,5.2,4.9,5.3,null,6.2,4.8,4.9,4.5,null,6.5,5.2,5.8,6.5,5.1,null,4.5,6.1,5.5,4.5,5.6,5.2,6.2,4.5,4.9,5.9,4.7,6.3,5.7,4.7,6.4,5.8,5.5,6.4,6.1,4.5,4.7,5.2,4.5,5.1,4.6,6.1,4.9,5.6,4.5,6.2,5.8,4.8,5.2,4.7,6.3,5.3,6.1,5.9,4.8,5.4,5.0,5.5,4.9,6.4,5.6,5.2,4.8,5.5,5.7,4.9,5.9,6.5,5.0,4.5,5.1,6.5,5.2,6.4,5.8,5.3,6.3,5.5,5.4,4.6,4.9,6.2,5.4,5.9,6.1],\"yaxis\":\"y\",\"type\":\"scatter\"}],                        {\"template\":{\"data\":{\"histogram2dcontour\":[{\"type\":\"histogram2dcontour\",\"colorbar\":{\"outlinewidth\":0,\"ticks\":\"\"},\"colorscale\":[[0.0,\"#0d0887\"],[0.1111111111111111,\"#46039f\"],[0.2222222222222222,\"#7201a8\"],[0.3333333333333333,\"#9c179e\"],[0.4444444444444444,\"#bd3786\"],[0.5555555555555556,\"#d8576b\"],[0.6666666666666666,\"#ed7953\"],[0.7777777777777778,\"#fb9f3a\"],[0.8888888888888888,\"#fdca26\"],[1.0,\"#f0f921\"]]}],\"choropleth\":[{\"type\":\"choropleth\",\"colorbar\":{\"outlinewidth\":0,\"ticks\":\"\"}}],\"histogram2d\":[{\"type\":\"histogram2d\",\"colorbar\":{\"outlinewidth\":0,\"ticks\":\"\"},\"colorscale\":[[0.0,\"#0d0887\"],[0.1111111111111111,\"#46039f\"],[0.2222222222222222,\"#7201a8\"],[0.3333333333333333,\"#9c179e\"],[0.4444444444444444,\"#bd3786\"],[0.5555555555555556,\"#d8576b\"],[0.6666666666666666,\"#ed7953\"],[0.7777777777777778,\"#fb9f3a\"],[0.8888888888888888,\"#fdca26\"],[1.0,\"#f0f921\"]]}],\"heatmap\":[{\"type\":\"heatmap\",\"colorbar\":{\"outlinewidth\":0,\"ticks\":\"\"},\"colorscale\":[[0.0,\"#0d0887\"],[0.1111111111111111,\"#46039f\"],[0.2222222222222222,\"#7201a8\"],[0.3333333333333333,\"#9c179e\"],[0.4444444444444444,\"#bd3786\"],[0.5555555555555556,\"#d8576b\"],[0.6666666666666666,\"#ed7953\"],[0.7777777777777778,\"#fb9f3a\"],[0.8888888888888888,\"#fdca26\"],[1.0,\"#f0f921\"]]}],\"heatmapgl\":[{\"type\":\"heatmapgl\",\"colorbar\":{\"outlinewidth\":0,\"ticks\":\"\"},\"colorscale\":[[0.0,\"#0d0887\"],[0.1111111111111111,\"#46039f\"],[0.2222222222222222,\"#7201a8\"],[0.3333333333333333,\"#9c179e\"],[0.4444444444444444,\"#bd3786\"],[0.5555555555555556,\"#d8576b\"],[0.6666666666666666,\"#ed7953\"],[0.7777777777777778,\"#fb9f3a\"],[0.8888888888888888,\"#fdca26\"],[1.0,\"#f0f921\"]]}],\"contourcarpet\":[{\"type\":\"contourcarpet\",\"colorbar\":{\"outlinewidth\":0,\"ticks\":\"\"}}],\"contour\":[{\"type\":\"contour\",\"colorbar\":{\"outlinewidth\":0,\"ticks\":\"\"},\"colorscale\":[[0.0,\"#0d0887\"],[0.1111111111111111,\"#46039f\"],[0.2222222222222222,\"#7201a8\"],[0.3333333333333333,\"#9c179e\"],[0.4444444444444444,\"#bd3786\"],[0.5555555555555556,\"#d8576b\"],[0.6666666666666666,\"#ed7953\"],[0.7777777777777778,\"#fb9f3a\"],[0.8888888888888888,\"#fdca26\"],[1.0,\"#f0f921\"]]}],\"surface\":[{\"type\":\"surface\",\"colorbar\":{\"outlinewidth\":0,\"ticks\":\"\"},\"colorscale\":[[0.0,\"#0d0887\"],[0.1111111111111111,\"#46039f\"],[0.2222222222222222,\"#7201a8\"],[0.3333333333333333,\"#9c179e\"],[0.4444444444444444,\"#bd3786\"],[0.5555555555555556,\"#d8576b\"],[0.6666666666666666,\"#ed7953\"],[0.7777777777777778,\"#fb9f3a\"],[0.8888888888888888,\"#fdca26\"],[1.0,\"#f0f921\"]]}],\"mesh3d\":[{\"type\":\"mesh3d\",\"colorbar\":{\"outlinewidth\":0,\"ticks\":\"\"}}],\"scatter\":[{\"fillpattern\":{\"fillmode\":\"overlay\",\"size\":10,\"solidity\":0.2},\"type\":\"scatter\"}],\"parcoords\":[{\"type\":\"parcoords\",\"line\":{\"colorbar\":{\"outlinewidth\":0,\"ticks\":\"\"}}}],\"scatterpolargl\":[{\"type\":\"scatterpolargl\",\"marker\":{\"colorbar\":{\"outlinewidth\":0,\"ticks\":\"\"}}}],\"bar\":[{\"error_x\":{\"color\":\"#2a3f5f\"},\"error_y\":{\"color\":\"#2a3f5f\"},\"marker\":{\"line\":{\"color\":\"#E5ECF6\",\"width\":0.5},\"pattern\":{\"fillmode\":\"overlay\",\"size\":10,\"solidity\":0.2}},\"type\":\"bar\"}],\"scattergeo\":[{\"type\":\"scattergeo\",\"marker\":{\"colorbar\":{\"outlinewidth\":0,\"ticks\":\"\"}}}],\"scatterpolar\":[{\"type\":\"scatterpolar\",\"marker\":{\"colorbar\":{\"outlinewidth\":0,\"ticks\":\"\"}}}],\"histogram\":[{\"marker\":{\"pattern\":{\"fillmode\":\"overlay\",\"size\":10,\"solidity\":0.2}},\"type\":\"histogram\"}],\"scattergl\":[{\"type\":\"scattergl\",\"marker\":{\"colorbar\":{\"outlinewidth\":0,\"ticks\":\"\"}}}],\"scatter3d\":[{\"type\":\"scatter3d\",\"line\":{\"colorbar\":{\"outlinewidth\":0,\"ticks\":\"\"}},\"marker\":{\"colorbar\":{\"outlinewidth\":0,\"ticks\":\"\"}}}],\"scattermapbox\":[{\"type\":\"scattermapbox\",\"marker\":{\"colorbar\":{\"outlinewidth\":0,\"ticks\":\"\"}}}],\"scatterternary\":[{\"type\":\"scatterternary\",\"marker\":{\"colorbar\":{\"outlinewidth\":0,\"ticks\":\"\"}}}],\"scattercarpet\":[{\"type\":\"scattercarpet\",\"marker\":{\"colorbar\":{\"outlinewidth\":0,\"ticks\":\"\"}}}],\"carpet\":[{\"aaxis\":{\"endlinecolor\":\"#2a3f5f\",\"gridcolor\":\"white\",\"linecolor\":\"white\",\"minorgridcolor\":\"white\",\"startlinecolor\":\"#2a3f5f\"},\"baxis\":{\"endlinecolor\":\"#2a3f5f\",\"gridcolor\":\"white\",\"linecolor\":\"white\",\"minorgridcolor\":\"white\",\"startlinecolor\":\"#2a3f5f\"},\"type\":\"carpet\"}],\"table\":[{\"cells\":{\"fill\":{\"color\":\"#EBF0F8\"},\"line\":{\"color\":\"white\"}},\"header\":{\"fill\":{\"color\":\"#C8D4E3\"},\"line\":{\"color\":\"white\"}},\"type\":\"table\"}],\"barpolar\":[{\"marker\":{\"line\":{\"color\":\"#E5ECF6\",\"width\":0.5},\"pattern\":{\"fillmode\":\"overlay\",\"size\":10,\"solidity\":0.2}},\"type\":\"barpolar\"}],\"pie\":[{\"automargin\":true,\"type\":\"pie\"}]},\"layout\":{\"autotypenumbers\":\"strict\",\"colorway\":[\"#636efa\",\"#EF553B\",\"#00cc96\",\"#ab63fa\",\"#FFA15A\",\"#19d3f3\",\"#FF6692\",\"#B6E880\",\"#FF97FF\",\"#FECB52\"],\"font\":{\"color\":\"#2a3f5f\"},\"hovermode\":\"closest\",\"hoverlabel\":{\"align\":\"left\"},\"paper_bgcolor\":\"white\",\"plot_bgcolor\":\"#E5ECF6\",\"polar\":{\"bgcolor\":\"#E5ECF6\",\"angularaxis\":{\"gridcolor\":\"white\",\"linecolor\":\"white\",\"ticks\":\"\"},\"radialaxis\":{\"gridcolor\":\"white\",\"linecolor\":\"white\",\"ticks\":\"\"}},\"ternary\":{\"bgcolor\":\"#E5ECF6\",\"aaxis\":{\"gridcolor\":\"white\",\"linecolor\":\"white\",\"ticks\":\"\"},\"baxis\":{\"gridcolor\":\"white\",\"linecolor\":\"white\",\"ticks\":\"\"},\"caxis\":{\"gridcolor\":\"white\",\"linecolor\":\"white\",\"ticks\":\"\"}},\"coloraxis\":{\"colorbar\":{\"outlinewidth\":0,\"ticks\":\"\"}},\"colorscale\":{\"sequential\":[[0.0,\"#0d0887\"],[0.1111111111111111,\"#46039f\"],[0.2222222222222222,\"#7201a8\"],[0.3333333333333333,\"#9c179e\"],[0.4444444444444444,\"#bd3786\"],[0.5555555555555556,\"#d8576b\"],[0.6666666666666666,\"#ed7953\"],[0.7777777777777778,\"#fb9f3a\"],[0.8888888888888888,\"#fdca26\"],[1.0,\"#f0f921\"]],\"sequentialminus\":[[0.0,\"#0d0887\"],[0.1111111111111111,\"#46039f\"],[0.2222222222222222,\"#7201a8\"],[0.3333333333333333,\"#9c179e\"],[0.4444444444444444,\"#bd3786\"],[0.5555555555555556,\"#d8576b\"],[0.6666666666666666,\"#ed7953\"],[0.7777777777777778,\"#fb9f3a\"],[0.8888888888888888,\"#fdca26\"],[1.0,\"#f0f921\"]],\"diverging\":[[0,\"#8e0152\"],[0.1,\"#c51b7d\"],[0.2,\"#de77ae\"],[0.3,\"#f1b6da\"],[0.4,\"#fde0ef\"],[0.5,\"#f7f7f7\"],[0.6,\"#e6f5d0\"],[0.7,\"#b8e186\"],[0.8,\"#7fbc41\"],[0.9,\"#4d9221\"],[1,\"#276419\"]]},\"xaxis\":{\"gridcolor\":\"white\",\"linecolor\":\"white\",\"ticks\":\"\",\"title\":{\"standoff\":15},\"zerolinecolor\":\"white\",\"automargin\":true,\"zerolinewidth\":2},\"yaxis\":{\"gridcolor\":\"white\",\"linecolor\":\"white\",\"ticks\":\"\",\"title\":{\"standoff\":15},\"zerolinecolor\":\"white\",\"automargin\":true,\"zerolinewidth\":2},\"scene\":{\"xaxis\":{\"backgroundcolor\":\"#E5ECF6\",\"gridcolor\":\"white\",\"linecolor\":\"white\",\"showbackground\":true,\"ticks\":\"\",\"zerolinecolor\":\"white\",\"gridwidth\":2},\"yaxis\":{\"backgroundcolor\":\"#E5ECF6\",\"gridcolor\":\"white\",\"linecolor\":\"white\",\"showbackground\":true,\"ticks\":\"\",\"zerolinecolor\":\"white\",\"gridwidth\":2},\"zaxis\":{\"backgroundcolor\":\"#E5ECF6\",\"gridcolor\":\"white\",\"linecolor\":\"white\",\"showbackground\":true,\"ticks\":\"\",\"zerolinecolor\":\"white\",\"gridwidth\":2}},\"shapedefaults\":{\"line\":{\"color\":\"#2a3f5f\"}},\"annotationdefaults\":{\"arrowcolor\":\"#2a3f5f\",\"arrowhead\":0,\"arrowwidth\":1},\"geo\":{\"bgcolor\":\"white\",\"landcolor\":\"#E5ECF6\",\"subunitcolor\":\"white\",\"showland\":true,\"showlakes\":true,\"lakecolor\":\"white\"},\"title\":{\"x\":0.05},\"mapbox\":{\"style\":\"light\"}}},\"xaxis\":{\"anchor\":\"y\",\"domain\":[0.0,1.0],\"title\":{\"text\":\"packed cell volume\"}},\"yaxis\":{\"anchor\":\"x\",\"domain\":[0.0,1.0],\"title\":{\"text\":\"red blood cell count\"}},\"legend\":{\"title\":{\"text\":\"class\"},\"tracegroupgap\":0},\"margin\":{\"t\":60}},                        {\"responsive\": true}                    ).then(function(){\n",
       "                            \n",
       "var gd = document.getElementById('28d1175f-9f55-4b20-aa41-9fe4ecf7ee83');\n",
       "var x = new MutationObserver(function (mutations, observer) {{\n",
       "        var display = window.getComputedStyle(gd).display;\n",
       "        if (!display || display === 'none') {{\n",
       "            console.log([gd, 'removed!']);\n",
       "            Plotly.purge(gd);\n",
       "            observer.disconnect();\n",
       "        }}\n",
       "}});\n",
       "\n",
       "// Listen for the removal of the full notebook cells\n",
       "var notebookContainer = gd.closest('#notebook-container');\n",
       "if (notebookContainer) {{\n",
       "    x.observe(notebookContainer, {childList: true});\n",
       "}}\n",
       "\n",
       "// Listen for the clearing of the current output cell\n",
       "var outputEl = gd.closest('.output');\n",
       "if (outputEl) {{\n",
       "    x.observe(outputEl, {childList: true});\n",
       "}}\n",
       "\n",
       "                        })                };                });            </script>        </div>"
      ]
     },
     "metadata": {},
     "output_type": "display_data"
    }
   ],
   "source": [
    "scatter('packed cell volume', 'red blood cell count')"
   ]
  },
  {
   "cell_type": "code",
   "execution_count": 213,
   "id": "d0155bec",
   "metadata": {},
   "outputs": [
    {
     "data": {
      "application/vnd.plotly.v1+json": {
       "config": {
        "plotlyServerURL": "https://plot.ly"
       },
       "data": [
        {
         "hovertemplate": "class=ckd<br>blood pressure=%{x}<br>sugar=%{y}<br>age=%{z}<extra></extra>",
         "legendgroup": "ckd",
         "marker": {
          "color": "#636efa",
          "symbol": "circle"
         },
         "mode": "markers",
         "name": "ckd",
         "scene": "scene",
         "showlegend": true,
         "type": "scatter3d",
         "x": [
          80,
          50,
          80,
          70,
          80,
          90,
          70,
          null,
          100,
          90,
          60,
          70,
          70,
          70,
          80,
          80,
          70,
          80,
          100,
          60,
          80,
          90,
          80,
          70,
          100,
          60,
          80,
          70,
          70,
          70,
          70,
          90,
          90,
          100,
          70,
          90,
          70,
          80,
          80,
          80,
          90,
          70,
          100,
          80,
          80,
          80,
          70,
          80,
          70,
          70,
          60,
          100,
          90,
          80,
          80,
          80,
          70,
          90,
          80,
          100,
          90,
          80,
          60,
          70,
          80,
          90,
          70,
          80,
          70,
          70,
          80,
          60,
          90,
          100,
          90,
          null,
          80,
          70,
          80,
          80,
          80,
          90,
          70,
          70,
          70,
          70,
          80,
          100,
          110,
          70,
          100,
          70,
          70,
          100,
          70,
          90,
          80,
          60,
          140,
          180,
          70,
          90,
          60,
          70,
          90,
          80,
          90,
          100,
          80,
          70,
          90,
          80,
          60,
          90,
          60,
          80,
          70,
          70,
          70,
          70,
          90,
          60,
          70,
          80,
          100,
          90,
          90,
          60,
          90,
          70,
          90,
          50,
          null,
          100,
          100,
          80,
          90,
          60,
          null,
          70,
          70,
          70,
          90,
          80,
          90,
          90,
          100,
          60,
          60,
          70,
          60,
          90,
          70,
          90,
          90,
          70,
          90,
          70,
          60,
          80,
          60,
          null,
          70,
          80,
          null,
          80,
          60,
          70,
          70,
          70,
          70,
          70,
          80,
          70,
          70,
          50,
          90,
          80,
          90,
          90,
          90,
          70,
          80,
          70,
          60,
          null,
          50,
          null,
          null,
          60,
          60,
          70,
          110,
          90,
          70,
          90,
          100,
          80,
          100,
          80,
          90,
          70,
          60,
          90,
          90,
          70,
          70,
          70,
          80,
          70,
          100,
          120,
          70,
          80,
          80,
          null,
          70,
          100,
          90,
          90,
          80,
          70,
          60,
          90,
          60,
          90,
          100,
          80,
          70,
          50,
          60,
          90,
          90,
          100,
          100,
          70,
          80,
          70,
          100,
          90,
          70,
          70,
          70,
          90,
          90,
          100,
          110,
          90,
          70,
          90
         ],
         "y": [
          0,
          0,
          3,
          0,
          0,
          0,
          0,
          4,
          0,
          0,
          4,
          0,
          1,
          null,
          2,
          0,
          0,
          null,
          3,
          0,
          0,
          null,
          0,
          0,
          0,
          0,
          0,
          4,
          3,
          0,
          null,
          0,
          1,
          0,
          0,
          1,
          0,
          null,
          0,
          2,
          0,
          0,
          0,
          0,
          0,
          0,
          0,
          0,
          0,
          0,
          null,
          0,
          0,
          5,
          2,
          0,
          4,
          null,
          0,
          null,
          0,
          3,
          0,
          0,
          0,
          0,
          0,
          0,
          0,
          4,
          4,
          0,
          3,
          0,
          0,
          0,
          0,
          0,
          null,
          0,
          0,
          null,
          null,
          0,
          0,
          null,
          null,
          0,
          0,
          0,
          2,
          1,
          0,
          2,
          0,
          0,
          1,
          0,
          null,
          4,
          0,
          0,
          0,
          0,
          null,
          0,
          null,
          4,
          0,
          null,
          0,
          3,
          0,
          2,
          0,
          0,
          0,
          0,
          0,
          0,
          3,
          null,
          null,
          3,
          0,
          null,
          0,
          0,
          3,
          0,
          0,
          0,
          null,
          0,
          null,
          2,
          null,
          0,
          0,
          0,
          4,
          0,
          null,
          4,
          0,
          0,
          3,
          1,
          null,
          0,
          0,
          null,
          0,
          1,
          3,
          0,
          0,
          0,
          2,
          0,
          null,
          0,
          null,
          0,
          0,
          2,
          null,
          0,
          4,
          2,
          5,
          0,
          2,
          0,
          null,
          0,
          0,
          1,
          0,
          0,
          4,
          0,
          0,
          0,
          2,
          0,
          0,
          0,
          null,
          1,
          0,
          0,
          0,
          0,
          null,
          1,
          0,
          null,
          2,
          0,
          0,
          null,
          null,
          null,
          2,
          null,
          0,
          0,
          null,
          0,
          2,
          0,
          4,
          1,
          0,
          0,
          0,
          0,
          0,
          0,
          0,
          0,
          null,
          3,
          0,
          5,
          2,
          0,
          null,
          0,
          0,
          null,
          0,
          0,
          0,
          0,
          null,
          2,
          null,
          0,
          0,
          0,
          3,
          1,
          2,
          null,
          0,
          0,
          3,
          1
         ],
         "z": [
          48,
          7,
          62,
          48,
          51,
          60,
          68,
          24,
          52,
          53,
          50,
          63,
          68,
          68,
          68,
          40,
          47,
          47,
          60,
          62,
          61,
          60,
          48,
          21,
          42,
          61,
          75,
          69,
          75,
          68,
          null,
          73,
          61,
          60,
          70,
          65,
          76,
          72,
          69,
          82,
          46,
          45,
          47,
          35,
          54,
          54,
          48,
          11,
          73,
          60,
          53,
          54,
          53,
          62,
          63,
          35,
          76,
          76,
          73,
          59,
          67,
          67,
          15,
          46,
          55,
          44,
          67,
          45,
          65,
          26,
          61,
          46,
          64,
          null,
          56,
          5,
          48,
          67,
          70,
          56,
          74,
          45,
          38,
          48,
          59,
          70,
          56,
          70,
          58,
          50,
          63,
          56,
          71,
          73,
          65,
          62,
          60,
          65,
          50,
          56,
          34,
          71,
          17,
          76,
          55,
          65,
          50,
          55,
          45,
          54,
          63,
          65,
          null,
          61,
          12,
          47,
          null,
          null,
          55,
          60,
          72,
          54,
          34,
          43,
          65,
          72,
          70,
          71,
          52,
          75,
          50,
          5,
          50,
          70,
          47,
          48,
          46,
          45,
          73,
          41,
          69,
          67,
          72,
          41,
          60,
          57,
          53,
          60,
          69,
          65,
          8,
          76,
          39,
          55,
          56,
          50,
          66,
          62,
          71,
          59,
          81,
          62,
          59,
          46,
          14,
          60,
          27,
          34,
          65,
          null,
          66,
          83,
          62,
          17,
          54,
          60,
          21,
          65,
          42,
          72,
          73,
          45,
          61,
          30,
          54,
          4,
          8,
          3,
          8,
          64,
          6,
          null,
          46,
          32,
          80,
          70,
          49,
          57,
          59,
          65,
          90,
          64,
          78,
          null,
          65,
          61,
          60,
          50,
          67,
          19,
          59,
          54,
          40,
          55,
          68,
          2,
          64,
          63,
          33,
          68,
          36,
          66,
          74,
          71,
          34,
          60,
          64,
          57,
          60,
          59,
          65,
          60,
          50,
          51,
          37,
          45,
          65,
          80,
          72,
          34,
          65,
          57,
          69,
          62,
          64,
          48,
          48,
          54,
          59,
          56
         ]
        },
        {
         "hovertemplate": "class=notckd<br>blood pressure=%{x}<br>sugar=%{y}<br>age=%{z}<extra></extra>",
         "legendgroup": "notckd",
         "marker": {
          "color": "#EF553B",
          "symbol": "circle"
         },
         "mode": "markers",
         "name": "notckd",
         "scene": "scene",
         "showlegend": true,
         "type": "scatter3d",
         "x": [
          80,
          80,
          80,
          80,
          60,
          80,
          80,
          60,
          80,
          80,
          80,
          80,
          80,
          80,
          80,
          80,
          80,
          80,
          80,
          80,
          80,
          80,
          80,
          80,
          80,
          80,
          60,
          60,
          60,
          70,
          80,
          80,
          70,
          70,
          80,
          70,
          70,
          70,
          70,
          70,
          70,
          80,
          80,
          null,
          60,
          70,
          70,
          60,
          60,
          60,
          60,
          60,
          70,
          70,
          80,
          80,
          80,
          60,
          80,
          60,
          60,
          60,
          70,
          80,
          70,
          70,
          null,
          70,
          70,
          60,
          60,
          60,
          60,
          80,
          80,
          80,
          60,
          60,
          70,
          60,
          80,
          70,
          70,
          80,
          80,
          60,
          60,
          70,
          80,
          70,
          70,
          70,
          60,
          60,
          60,
          60,
          60,
          60,
          80,
          70,
          70,
          80,
          60,
          60,
          60,
          60,
          70,
          70,
          60,
          60,
          60,
          80,
          80,
          80,
          80,
          80,
          80,
          60,
          80,
          70,
          70,
          60,
          60,
          70,
          80,
          80,
          70,
          70,
          60,
          80,
          60,
          70,
          80,
          80,
          60,
          70,
          70,
          80,
          80,
          80,
          80,
          80,
          80,
          60,
          80,
          80,
          70,
          80,
          60,
          80
         ],
         "y": [
          0,
          0,
          0,
          0,
          0,
          0,
          0,
          0,
          0,
          0,
          0,
          0,
          0,
          0,
          0,
          0,
          0,
          0,
          null,
          0,
          0,
          0,
          0,
          0,
          0,
          0,
          0,
          0,
          0,
          0,
          null,
          0,
          0,
          0,
          0,
          0,
          0,
          0,
          0,
          0,
          0,
          0,
          0,
          0,
          0,
          null,
          0,
          0,
          0,
          0,
          0,
          0,
          0,
          0,
          0,
          0,
          0,
          0,
          0,
          0,
          0,
          0,
          0,
          0,
          0,
          0,
          0,
          0,
          0,
          0,
          0,
          0,
          null,
          0,
          0,
          0,
          0,
          0,
          0,
          0,
          0,
          0,
          0,
          0,
          0,
          0,
          0,
          0,
          0,
          0,
          0,
          0,
          0,
          0,
          0,
          0,
          null,
          0,
          0,
          0,
          0,
          0,
          0,
          0,
          0,
          0,
          0,
          0,
          0,
          0,
          0,
          0,
          0,
          0,
          0,
          0,
          0,
          0,
          0,
          0,
          0,
          0,
          0,
          0,
          0,
          0,
          0,
          0,
          0,
          0,
          0,
          0,
          0,
          0,
          0,
          0,
          0,
          0,
          0,
          0,
          0,
          0,
          0,
          0,
          0,
          0,
          0,
          0,
          0,
          0
         ],
         "z": [
          40,
          23,
          45,
          57,
          51,
          34,
          60,
          38,
          42,
          35,
          30,
          49,
          55,
          45,
          42,
          50,
          55,
          48,
          null,
          25,
          23,
          30,
          56,
          47,
          19,
          52,
          20,
          46,
          48,
          24,
          47,
          55,
          20,
          60,
          33,
          66,
          71,
          39,
          56,
          42,
          54,
          47,
          30,
          50,
          75,
          44,
          41,
          53,
          34,
          73,
          45,
          44,
          29,
          55,
          33,
          41,
          52,
          47,
          43,
          51,
          46,
          56,
          80,
          55,
          39,
          44,
          35,
          58,
          61,
          30,
          57,
          65,
          70,
          43,
          40,
          58,
          47,
          30,
          28,
          33,
          43,
          59,
          34,
          23,
          24,
          60,
          25,
          44,
          62,
          25,
          32,
          63,
          44,
          37,
          64,
          22,
          33,
          43,
          38,
          35,
          65,
          29,
          37,
          39,
          32,
          23,
          34,
          66,
          47,
          74,
          35,
          29,
          33,
          67,
          73,
          24,
          60,
          68,
          30,
          75,
          69,
          28,
          72,
          61,
          79,
          70,
          58,
          64,
          71,
          62,
          59,
          71,
          48,
          80,
          57,
          63,
          46,
          15,
          51,
          41,
          52,
          36,
          57,
          43,
          50,
          55,
          42,
          12,
          17,
          58
         ]
        }
       ],
       "layout": {
        "legend": {
         "title": {
          "text": "class"
         },
         "tracegroupgap": 0
        },
        "margin": {
         "t": 60
        },
        "scene": {
         "domain": {
          "x": [
           0,
           1
          ],
          "y": [
           0,
           1
          ]
         },
         "xaxis": {
          "title": {
           "text": "blood pressure"
          }
         },
         "yaxis": {
          "title": {
           "text": "sugar"
          }
         },
         "zaxis": {
          "title": {
           "text": "age"
          }
         }
        },
        "template": {
         "data": {
          "bar": [
           {
            "error_x": {
             "color": "#2a3f5f"
            },
            "error_y": {
             "color": "#2a3f5f"
            },
            "marker": {
             "line": {
              "color": "#E5ECF6",
              "width": 0.5
             },
             "pattern": {
              "fillmode": "overlay",
              "size": 10,
              "solidity": 0.2
             }
            },
            "type": "bar"
           }
          ],
          "barpolar": [
           {
            "marker": {
             "line": {
              "color": "#E5ECF6",
              "width": 0.5
             },
             "pattern": {
              "fillmode": "overlay",
              "size": 10,
              "solidity": 0.2
             }
            },
            "type": "barpolar"
           }
          ],
          "carpet": [
           {
            "aaxis": {
             "endlinecolor": "#2a3f5f",
             "gridcolor": "white",
             "linecolor": "white",
             "minorgridcolor": "white",
             "startlinecolor": "#2a3f5f"
            },
            "baxis": {
             "endlinecolor": "#2a3f5f",
             "gridcolor": "white",
             "linecolor": "white",
             "minorgridcolor": "white",
             "startlinecolor": "#2a3f5f"
            },
            "type": "carpet"
           }
          ],
          "choropleth": [
           {
            "colorbar": {
             "outlinewidth": 0,
             "ticks": ""
            },
            "type": "choropleth"
           }
          ],
          "contour": [
           {
            "colorbar": {
             "outlinewidth": 0,
             "ticks": ""
            },
            "colorscale": [
             [
              0,
              "#0d0887"
             ],
             [
              0.1111111111111111,
              "#46039f"
             ],
             [
              0.2222222222222222,
              "#7201a8"
             ],
             [
              0.3333333333333333,
              "#9c179e"
             ],
             [
              0.4444444444444444,
              "#bd3786"
             ],
             [
              0.5555555555555556,
              "#d8576b"
             ],
             [
              0.6666666666666666,
              "#ed7953"
             ],
             [
              0.7777777777777778,
              "#fb9f3a"
             ],
             [
              0.8888888888888888,
              "#fdca26"
             ],
             [
              1,
              "#f0f921"
             ]
            ],
            "type": "contour"
           }
          ],
          "contourcarpet": [
           {
            "colorbar": {
             "outlinewidth": 0,
             "ticks": ""
            },
            "type": "contourcarpet"
           }
          ],
          "heatmap": [
           {
            "colorbar": {
             "outlinewidth": 0,
             "ticks": ""
            },
            "colorscale": [
             [
              0,
              "#0d0887"
             ],
             [
              0.1111111111111111,
              "#46039f"
             ],
             [
              0.2222222222222222,
              "#7201a8"
             ],
             [
              0.3333333333333333,
              "#9c179e"
             ],
             [
              0.4444444444444444,
              "#bd3786"
             ],
             [
              0.5555555555555556,
              "#d8576b"
             ],
             [
              0.6666666666666666,
              "#ed7953"
             ],
             [
              0.7777777777777778,
              "#fb9f3a"
             ],
             [
              0.8888888888888888,
              "#fdca26"
             ],
             [
              1,
              "#f0f921"
             ]
            ],
            "type": "heatmap"
           }
          ],
          "heatmapgl": [
           {
            "colorbar": {
             "outlinewidth": 0,
             "ticks": ""
            },
            "colorscale": [
             [
              0,
              "#0d0887"
             ],
             [
              0.1111111111111111,
              "#46039f"
             ],
             [
              0.2222222222222222,
              "#7201a8"
             ],
             [
              0.3333333333333333,
              "#9c179e"
             ],
             [
              0.4444444444444444,
              "#bd3786"
             ],
             [
              0.5555555555555556,
              "#d8576b"
             ],
             [
              0.6666666666666666,
              "#ed7953"
             ],
             [
              0.7777777777777778,
              "#fb9f3a"
             ],
             [
              0.8888888888888888,
              "#fdca26"
             ],
             [
              1,
              "#f0f921"
             ]
            ],
            "type": "heatmapgl"
           }
          ],
          "histogram": [
           {
            "marker": {
             "pattern": {
              "fillmode": "overlay",
              "size": 10,
              "solidity": 0.2
             }
            },
            "type": "histogram"
           }
          ],
          "histogram2d": [
           {
            "colorbar": {
             "outlinewidth": 0,
             "ticks": ""
            },
            "colorscale": [
             [
              0,
              "#0d0887"
             ],
             [
              0.1111111111111111,
              "#46039f"
             ],
             [
              0.2222222222222222,
              "#7201a8"
             ],
             [
              0.3333333333333333,
              "#9c179e"
             ],
             [
              0.4444444444444444,
              "#bd3786"
             ],
             [
              0.5555555555555556,
              "#d8576b"
             ],
             [
              0.6666666666666666,
              "#ed7953"
             ],
             [
              0.7777777777777778,
              "#fb9f3a"
             ],
             [
              0.8888888888888888,
              "#fdca26"
             ],
             [
              1,
              "#f0f921"
             ]
            ],
            "type": "histogram2d"
           }
          ],
          "histogram2dcontour": [
           {
            "colorbar": {
             "outlinewidth": 0,
             "ticks": ""
            },
            "colorscale": [
             [
              0,
              "#0d0887"
             ],
             [
              0.1111111111111111,
              "#46039f"
             ],
             [
              0.2222222222222222,
              "#7201a8"
             ],
             [
              0.3333333333333333,
              "#9c179e"
             ],
             [
              0.4444444444444444,
              "#bd3786"
             ],
             [
              0.5555555555555556,
              "#d8576b"
             ],
             [
              0.6666666666666666,
              "#ed7953"
             ],
             [
              0.7777777777777778,
              "#fb9f3a"
             ],
             [
              0.8888888888888888,
              "#fdca26"
             ],
             [
              1,
              "#f0f921"
             ]
            ],
            "type": "histogram2dcontour"
           }
          ],
          "mesh3d": [
           {
            "colorbar": {
             "outlinewidth": 0,
             "ticks": ""
            },
            "type": "mesh3d"
           }
          ],
          "parcoords": [
           {
            "line": {
             "colorbar": {
              "outlinewidth": 0,
              "ticks": ""
             }
            },
            "type": "parcoords"
           }
          ],
          "pie": [
           {
            "automargin": true,
            "type": "pie"
           }
          ],
          "scatter": [
           {
            "fillpattern": {
             "fillmode": "overlay",
             "size": 10,
             "solidity": 0.2
            },
            "type": "scatter"
           }
          ],
          "scatter3d": [
           {
            "line": {
             "colorbar": {
              "outlinewidth": 0,
              "ticks": ""
             }
            },
            "marker": {
             "colorbar": {
              "outlinewidth": 0,
              "ticks": ""
             }
            },
            "type": "scatter3d"
           }
          ],
          "scattercarpet": [
           {
            "marker": {
             "colorbar": {
              "outlinewidth": 0,
              "ticks": ""
             }
            },
            "type": "scattercarpet"
           }
          ],
          "scattergeo": [
           {
            "marker": {
             "colorbar": {
              "outlinewidth": 0,
              "ticks": ""
             }
            },
            "type": "scattergeo"
           }
          ],
          "scattergl": [
           {
            "marker": {
             "colorbar": {
              "outlinewidth": 0,
              "ticks": ""
             }
            },
            "type": "scattergl"
           }
          ],
          "scattermapbox": [
           {
            "marker": {
             "colorbar": {
              "outlinewidth": 0,
              "ticks": ""
             }
            },
            "type": "scattermapbox"
           }
          ],
          "scatterpolar": [
           {
            "marker": {
             "colorbar": {
              "outlinewidth": 0,
              "ticks": ""
             }
            },
            "type": "scatterpolar"
           }
          ],
          "scatterpolargl": [
           {
            "marker": {
             "colorbar": {
              "outlinewidth": 0,
              "ticks": ""
             }
            },
            "type": "scatterpolargl"
           }
          ],
          "scatterternary": [
           {
            "marker": {
             "colorbar": {
              "outlinewidth": 0,
              "ticks": ""
             }
            },
            "type": "scatterternary"
           }
          ],
          "surface": [
           {
            "colorbar": {
             "outlinewidth": 0,
             "ticks": ""
            },
            "colorscale": [
             [
              0,
              "#0d0887"
             ],
             [
              0.1111111111111111,
              "#46039f"
             ],
             [
              0.2222222222222222,
              "#7201a8"
             ],
             [
              0.3333333333333333,
              "#9c179e"
             ],
             [
              0.4444444444444444,
              "#bd3786"
             ],
             [
              0.5555555555555556,
              "#d8576b"
             ],
             [
              0.6666666666666666,
              "#ed7953"
             ],
             [
              0.7777777777777778,
              "#fb9f3a"
             ],
             [
              0.8888888888888888,
              "#fdca26"
             ],
             [
              1,
              "#f0f921"
             ]
            ],
            "type": "surface"
           }
          ],
          "table": [
           {
            "cells": {
             "fill": {
              "color": "#EBF0F8"
             },
             "line": {
              "color": "white"
             }
            },
            "header": {
             "fill": {
              "color": "#C8D4E3"
             },
             "line": {
              "color": "white"
             }
            },
            "type": "table"
           }
          ]
         },
         "layout": {
          "annotationdefaults": {
           "arrowcolor": "#2a3f5f",
           "arrowhead": 0,
           "arrowwidth": 1
          },
          "autotypenumbers": "strict",
          "coloraxis": {
           "colorbar": {
            "outlinewidth": 0,
            "ticks": ""
           }
          },
          "colorscale": {
           "diverging": [
            [
             0,
             "#8e0152"
            ],
            [
             0.1,
             "#c51b7d"
            ],
            [
             0.2,
             "#de77ae"
            ],
            [
             0.3,
             "#f1b6da"
            ],
            [
             0.4,
             "#fde0ef"
            ],
            [
             0.5,
             "#f7f7f7"
            ],
            [
             0.6,
             "#e6f5d0"
            ],
            [
             0.7,
             "#b8e186"
            ],
            [
             0.8,
             "#7fbc41"
            ],
            [
             0.9,
             "#4d9221"
            ],
            [
             1,
             "#276419"
            ]
           ],
           "sequential": [
            [
             0,
             "#0d0887"
            ],
            [
             0.1111111111111111,
             "#46039f"
            ],
            [
             0.2222222222222222,
             "#7201a8"
            ],
            [
             0.3333333333333333,
             "#9c179e"
            ],
            [
             0.4444444444444444,
             "#bd3786"
            ],
            [
             0.5555555555555556,
             "#d8576b"
            ],
            [
             0.6666666666666666,
             "#ed7953"
            ],
            [
             0.7777777777777778,
             "#fb9f3a"
            ],
            [
             0.8888888888888888,
             "#fdca26"
            ],
            [
             1,
             "#f0f921"
            ]
           ],
           "sequentialminus": [
            [
             0,
             "#0d0887"
            ],
            [
             0.1111111111111111,
             "#46039f"
            ],
            [
             0.2222222222222222,
             "#7201a8"
            ],
            [
             0.3333333333333333,
             "#9c179e"
            ],
            [
             0.4444444444444444,
             "#bd3786"
            ],
            [
             0.5555555555555556,
             "#d8576b"
            ],
            [
             0.6666666666666666,
             "#ed7953"
            ],
            [
             0.7777777777777778,
             "#fb9f3a"
            ],
            [
             0.8888888888888888,
             "#fdca26"
            ],
            [
             1,
             "#f0f921"
            ]
           ]
          },
          "colorway": [
           "#636efa",
           "#EF553B",
           "#00cc96",
           "#ab63fa",
           "#FFA15A",
           "#19d3f3",
           "#FF6692",
           "#B6E880",
           "#FF97FF",
           "#FECB52"
          ],
          "font": {
           "color": "#2a3f5f"
          },
          "geo": {
           "bgcolor": "white",
           "lakecolor": "white",
           "landcolor": "#E5ECF6",
           "showlakes": true,
           "showland": true,
           "subunitcolor": "white"
          },
          "hoverlabel": {
           "align": "left"
          },
          "hovermode": "closest",
          "mapbox": {
           "style": "light"
          },
          "paper_bgcolor": "white",
          "plot_bgcolor": "#E5ECF6",
          "polar": {
           "angularaxis": {
            "gridcolor": "white",
            "linecolor": "white",
            "ticks": ""
           },
           "bgcolor": "#E5ECF6",
           "radialaxis": {
            "gridcolor": "white",
            "linecolor": "white",
            "ticks": ""
           }
          },
          "scene": {
           "xaxis": {
            "backgroundcolor": "#E5ECF6",
            "gridcolor": "white",
            "gridwidth": 2,
            "linecolor": "white",
            "showbackground": true,
            "ticks": "",
            "zerolinecolor": "white"
           },
           "yaxis": {
            "backgroundcolor": "#E5ECF6",
            "gridcolor": "white",
            "gridwidth": 2,
            "linecolor": "white",
            "showbackground": true,
            "ticks": "",
            "zerolinecolor": "white"
           },
           "zaxis": {
            "backgroundcolor": "#E5ECF6",
            "gridcolor": "white",
            "gridwidth": 2,
            "linecolor": "white",
            "showbackground": true,
            "ticks": "",
            "zerolinecolor": "white"
           }
          },
          "shapedefaults": {
           "line": {
            "color": "#2a3f5f"
           }
          },
          "ternary": {
           "aaxis": {
            "gridcolor": "white",
            "linecolor": "white",
            "ticks": ""
           },
           "baxis": {
            "gridcolor": "white",
            "linecolor": "white",
            "ticks": ""
           },
           "bgcolor": "#E5ECF6",
           "caxis": {
            "gridcolor": "white",
            "linecolor": "white",
            "ticks": ""
           }
          },
          "title": {
           "x": 0.05
          },
          "xaxis": {
           "automargin": true,
           "gridcolor": "white",
           "linecolor": "white",
           "ticks": "",
           "title": {
            "standoff": 15
           },
           "zerolinecolor": "white",
           "zerolinewidth": 2
          },
          "yaxis": {
           "automargin": true,
           "gridcolor": "white",
           "linecolor": "white",
           "ticks": "",
           "title": {
            "standoff": 15
           },
           "zerolinecolor": "white",
           "zerolinewidth": 2
          }
         }
        }
       }
      },
      "text/html": [
       "<div>                            <div id=\"c33ea14d-bbbb-4133-b06a-59a1b49b7944\" class=\"plotly-graph-div\" style=\"height:525px; width:100%;\"></div>            <script type=\"text/javascript\">                require([\"plotly\"], function(Plotly) {                    window.PLOTLYENV=window.PLOTLYENV || {};                                    if (document.getElementById(\"c33ea14d-bbbb-4133-b06a-59a1b49b7944\")) {                    Plotly.newPlot(                        \"c33ea14d-bbbb-4133-b06a-59a1b49b7944\",                        [{\"hovertemplate\":\"class=ckd<br>blood pressure=%{x}<br>sugar=%{y}<br>age=%{z}<extra></extra>\",\"legendgroup\":\"ckd\",\"marker\":{\"color\":\"#636efa\",\"symbol\":\"circle\"},\"mode\":\"markers\",\"name\":\"ckd\",\"scene\":\"scene\",\"showlegend\":true,\"x\":[80.0,50.0,80.0,70.0,80.0,90.0,70.0,null,100.0,90.0,60.0,70.0,70.0,70.0,80.0,80.0,70.0,80.0,100.0,60.0,80.0,90.0,80.0,70.0,100.0,60.0,80.0,70.0,70.0,70.0,70.0,90.0,90.0,100.0,70.0,90.0,70.0,80.0,80.0,80.0,90.0,70.0,100.0,80.0,80.0,80.0,70.0,80.0,70.0,70.0,60.0,100.0,90.0,80.0,80.0,80.0,70.0,90.0,80.0,100.0,90.0,80.0,60.0,70.0,80.0,90.0,70.0,80.0,70.0,70.0,80.0,60.0,90.0,100.0,90.0,null,80.0,70.0,80.0,80.0,80.0,90.0,70.0,70.0,70.0,70.0,80.0,100.0,110.0,70.0,100.0,70.0,70.0,100.0,70.0,90.0,80.0,60.0,140.0,180.0,70.0,90.0,60.0,70.0,90.0,80.0,90.0,100.0,80.0,70.0,90.0,80.0,60.0,90.0,60.0,80.0,70.0,70.0,70.0,70.0,90.0,60.0,70.0,80.0,100.0,90.0,90.0,60.0,90.0,70.0,90.0,50.0,null,100.0,100.0,80.0,90.0,60.0,null,70.0,70.0,70.0,90.0,80.0,90.0,90.0,100.0,60.0,60.0,70.0,60.0,90.0,70.0,90.0,90.0,70.0,90.0,70.0,60.0,80.0,60.0,null,70.0,80.0,null,80.0,60.0,70.0,70.0,70.0,70.0,70.0,80.0,70.0,70.0,50.0,90.0,80.0,90.0,90.0,90.0,70.0,80.0,70.0,60.0,null,50.0,null,null,60.0,60.0,70.0,110.0,90.0,70.0,90.0,100.0,80.0,100.0,80.0,90.0,70.0,60.0,90.0,90.0,70.0,70.0,70.0,80.0,70.0,100.0,120.0,70.0,80.0,80.0,null,70.0,100.0,90.0,90.0,80.0,70.0,60.0,90.0,60.0,90.0,100.0,80.0,70.0,50.0,60.0,90.0,90.0,100.0,100.0,70.0,80.0,70.0,100.0,90.0,70.0,70.0,70.0,90.0,90.0,100.0,110.0,90.0,70.0,90.0],\"y\":[0.0,0.0,3.0,0.0,0.0,0.0,0.0,4.0,0.0,0.0,4.0,0.0,1.0,null,2.0,0.0,0.0,null,3.0,0.0,0.0,null,0.0,0.0,0.0,0.0,0.0,4.0,3.0,0.0,null,0.0,1.0,0.0,0.0,1.0,0.0,null,0.0,2.0,0.0,0.0,0.0,0.0,0.0,0.0,0.0,0.0,0.0,0.0,null,0.0,0.0,5.0,2.0,0.0,4.0,null,0.0,null,0.0,3.0,0.0,0.0,0.0,0.0,0.0,0.0,0.0,4.0,4.0,0.0,3.0,0.0,0.0,0.0,0.0,0.0,null,0.0,0.0,null,null,0.0,0.0,null,null,0.0,0.0,0.0,2.0,1.0,0.0,2.0,0.0,0.0,1.0,0.0,null,4.0,0.0,0.0,0.0,0.0,null,0.0,null,4.0,0.0,null,0.0,3.0,0.0,2.0,0.0,0.0,0.0,0.0,0.0,0.0,3.0,null,null,3.0,0.0,null,0.0,0.0,3.0,0.0,0.0,0.0,null,0.0,null,2.0,null,0.0,0.0,0.0,4.0,0.0,null,4.0,0.0,0.0,3.0,1.0,null,0.0,0.0,null,0.0,1.0,3.0,0.0,0.0,0.0,2.0,0.0,null,0.0,null,0.0,0.0,2.0,null,0.0,4.0,2.0,5.0,0.0,2.0,0.0,null,0.0,0.0,1.0,0.0,0.0,4.0,0.0,0.0,0.0,2.0,0.0,0.0,0.0,null,1.0,0.0,0.0,0.0,0.0,null,1.0,0.0,null,2.0,0.0,0.0,null,null,null,2.0,null,0.0,0.0,null,0.0,2.0,0.0,4.0,1.0,0.0,0.0,0.0,0.0,0.0,0.0,0.0,0.0,null,3.0,0.0,5.0,2.0,0.0,null,0.0,0.0,null,0.0,0.0,0.0,0.0,null,2.0,null,0.0,0.0,0.0,3.0,1.0,2.0,null,0.0,0.0,3.0,1.0],\"z\":[48.0,7.0,62.0,48.0,51.0,60.0,68.0,24.0,52.0,53.0,50.0,63.0,68.0,68.0,68.0,40.0,47.0,47.0,60.0,62.0,61.0,60.0,48.0,21.0,42.0,61.0,75.0,69.0,75.0,68.0,null,73.0,61.0,60.0,70.0,65.0,76.0,72.0,69.0,82.0,46.0,45.0,47.0,35.0,54.0,54.0,48.0,11.0,73.0,60.0,53.0,54.0,53.0,62.0,63.0,35.0,76.0,76.0,73.0,59.0,67.0,67.0,15.0,46.0,55.0,44.0,67.0,45.0,65.0,26.0,61.0,46.0,64.0,null,56.0,5.0,48.0,67.0,70.0,56.0,74.0,45.0,38.0,48.0,59.0,70.0,56.0,70.0,58.0,50.0,63.0,56.0,71.0,73.0,65.0,62.0,60.0,65.0,50.0,56.0,34.0,71.0,17.0,76.0,55.0,65.0,50.0,55.0,45.0,54.0,63.0,65.0,null,61.0,12.0,47.0,null,null,55.0,60.0,72.0,54.0,34.0,43.0,65.0,72.0,70.0,71.0,52.0,75.0,50.0,5.0,50.0,70.0,47.0,48.0,46.0,45.0,73.0,41.0,69.0,67.0,72.0,41.0,60.0,57.0,53.0,60.0,69.0,65.0,8.0,76.0,39.0,55.0,56.0,50.0,66.0,62.0,71.0,59.0,81.0,62.0,59.0,46.0,14.0,60.0,27.0,34.0,65.0,null,66.0,83.0,62.0,17.0,54.0,60.0,21.0,65.0,42.0,72.0,73.0,45.0,61.0,30.0,54.0,4.0,8.0,3.0,8.0,64.0,6.0,null,46.0,32.0,80.0,70.0,49.0,57.0,59.0,65.0,90.0,64.0,78.0,null,65.0,61.0,60.0,50.0,67.0,19.0,59.0,54.0,40.0,55.0,68.0,2.0,64.0,63.0,33.0,68.0,36.0,66.0,74.0,71.0,34.0,60.0,64.0,57.0,60.0,59.0,65.0,60.0,50.0,51.0,37.0,45.0,65.0,80.0,72.0,34.0,65.0,57.0,69.0,62.0,64.0,48.0,48.0,54.0,59.0,56.0],\"type\":\"scatter3d\"},{\"hovertemplate\":\"class=notckd<br>blood pressure=%{x}<br>sugar=%{y}<br>age=%{z}<extra></extra>\",\"legendgroup\":\"notckd\",\"marker\":{\"color\":\"#EF553B\",\"symbol\":\"circle\"},\"mode\":\"markers\",\"name\":\"notckd\",\"scene\":\"scene\",\"showlegend\":true,\"x\":[80.0,80.0,80.0,80.0,60.0,80.0,80.0,60.0,80.0,80.0,80.0,80.0,80.0,80.0,80.0,80.0,80.0,80.0,80.0,80.0,80.0,80.0,80.0,80.0,80.0,80.0,60.0,60.0,60.0,70.0,80.0,80.0,70.0,70.0,80.0,70.0,70.0,70.0,70.0,70.0,70.0,80.0,80.0,null,60.0,70.0,70.0,60.0,60.0,60.0,60.0,60.0,70.0,70.0,80.0,80.0,80.0,60.0,80.0,60.0,60.0,60.0,70.0,80.0,70.0,70.0,null,70.0,70.0,60.0,60.0,60.0,60.0,80.0,80.0,80.0,60.0,60.0,70.0,60.0,80.0,70.0,70.0,80.0,80.0,60.0,60.0,70.0,80.0,70.0,70.0,70.0,60.0,60.0,60.0,60.0,60.0,60.0,80.0,70.0,70.0,80.0,60.0,60.0,60.0,60.0,70.0,70.0,60.0,60.0,60.0,80.0,80.0,80.0,80.0,80.0,80.0,60.0,80.0,70.0,70.0,60.0,60.0,70.0,80.0,80.0,70.0,70.0,60.0,80.0,60.0,70.0,80.0,80.0,60.0,70.0,70.0,80.0,80.0,80.0,80.0,80.0,80.0,60.0,80.0,80.0,70.0,80.0,60.0,80.0],\"y\":[0.0,0.0,0.0,0.0,0.0,0.0,0.0,0.0,0.0,0.0,0.0,0.0,0.0,0.0,0.0,0.0,0.0,0.0,null,0.0,0.0,0.0,0.0,0.0,0.0,0.0,0.0,0.0,0.0,0.0,null,0.0,0.0,0.0,0.0,0.0,0.0,0.0,0.0,0.0,0.0,0.0,0.0,0.0,0.0,null,0.0,0.0,0.0,0.0,0.0,0.0,0.0,0.0,0.0,0.0,0.0,0.0,0.0,0.0,0.0,0.0,0.0,0.0,0.0,0.0,0.0,0.0,0.0,0.0,0.0,0.0,null,0.0,0.0,0.0,0.0,0.0,0.0,0.0,0.0,0.0,0.0,0.0,0.0,0.0,0.0,0.0,0.0,0.0,0.0,0.0,0.0,0.0,0.0,0.0,null,0.0,0.0,0.0,0.0,0.0,0.0,0.0,0.0,0.0,0.0,0.0,0.0,0.0,0.0,0.0,0.0,0.0,0.0,0.0,0.0,0.0,0.0,0.0,0.0,0.0,0.0,0.0,0.0,0.0,0.0,0.0,0.0,0.0,0.0,0.0,0.0,0.0,0.0,0.0,0.0,0.0,0.0,0.0,0.0,0.0,0.0,0.0,0.0,0.0,0.0,0.0,0.0,0.0],\"z\":[40.0,23.0,45.0,57.0,51.0,34.0,60.0,38.0,42.0,35.0,30.0,49.0,55.0,45.0,42.0,50.0,55.0,48.0,null,25.0,23.0,30.0,56.0,47.0,19.0,52.0,20.0,46.0,48.0,24.0,47.0,55.0,20.0,60.0,33.0,66.0,71.0,39.0,56.0,42.0,54.0,47.0,30.0,50.0,75.0,44.0,41.0,53.0,34.0,73.0,45.0,44.0,29.0,55.0,33.0,41.0,52.0,47.0,43.0,51.0,46.0,56.0,80.0,55.0,39.0,44.0,35.0,58.0,61.0,30.0,57.0,65.0,70.0,43.0,40.0,58.0,47.0,30.0,28.0,33.0,43.0,59.0,34.0,23.0,24.0,60.0,25.0,44.0,62.0,25.0,32.0,63.0,44.0,37.0,64.0,22.0,33.0,43.0,38.0,35.0,65.0,29.0,37.0,39.0,32.0,23.0,34.0,66.0,47.0,74.0,35.0,29.0,33.0,67.0,73.0,24.0,60.0,68.0,30.0,75.0,69.0,28.0,72.0,61.0,79.0,70.0,58.0,64.0,71.0,62.0,59.0,71.0,48.0,80.0,57.0,63.0,46.0,15.0,51.0,41.0,52.0,36.0,57.0,43.0,50.0,55.0,42.0,12.0,17.0,58.0],\"type\":\"scatter3d\"}],                        {\"template\":{\"data\":{\"histogram2dcontour\":[{\"type\":\"histogram2dcontour\",\"colorbar\":{\"outlinewidth\":0,\"ticks\":\"\"},\"colorscale\":[[0.0,\"#0d0887\"],[0.1111111111111111,\"#46039f\"],[0.2222222222222222,\"#7201a8\"],[0.3333333333333333,\"#9c179e\"],[0.4444444444444444,\"#bd3786\"],[0.5555555555555556,\"#d8576b\"],[0.6666666666666666,\"#ed7953\"],[0.7777777777777778,\"#fb9f3a\"],[0.8888888888888888,\"#fdca26\"],[1.0,\"#f0f921\"]]}],\"choropleth\":[{\"type\":\"choropleth\",\"colorbar\":{\"outlinewidth\":0,\"ticks\":\"\"}}],\"histogram2d\":[{\"type\":\"histogram2d\",\"colorbar\":{\"outlinewidth\":0,\"ticks\":\"\"},\"colorscale\":[[0.0,\"#0d0887\"],[0.1111111111111111,\"#46039f\"],[0.2222222222222222,\"#7201a8\"],[0.3333333333333333,\"#9c179e\"],[0.4444444444444444,\"#bd3786\"],[0.5555555555555556,\"#d8576b\"],[0.6666666666666666,\"#ed7953\"],[0.7777777777777778,\"#fb9f3a\"],[0.8888888888888888,\"#fdca26\"],[1.0,\"#f0f921\"]]}],\"heatmap\":[{\"type\":\"heatmap\",\"colorbar\":{\"outlinewidth\":0,\"ticks\":\"\"},\"colorscale\":[[0.0,\"#0d0887\"],[0.1111111111111111,\"#46039f\"],[0.2222222222222222,\"#7201a8\"],[0.3333333333333333,\"#9c179e\"],[0.4444444444444444,\"#bd3786\"],[0.5555555555555556,\"#d8576b\"],[0.6666666666666666,\"#ed7953\"],[0.7777777777777778,\"#fb9f3a\"],[0.8888888888888888,\"#fdca26\"],[1.0,\"#f0f921\"]]}],\"heatmapgl\":[{\"type\":\"heatmapgl\",\"colorbar\":{\"outlinewidth\":0,\"ticks\":\"\"},\"colorscale\":[[0.0,\"#0d0887\"],[0.1111111111111111,\"#46039f\"],[0.2222222222222222,\"#7201a8\"],[0.3333333333333333,\"#9c179e\"],[0.4444444444444444,\"#bd3786\"],[0.5555555555555556,\"#d8576b\"],[0.6666666666666666,\"#ed7953\"],[0.7777777777777778,\"#fb9f3a\"],[0.8888888888888888,\"#fdca26\"],[1.0,\"#f0f921\"]]}],\"contourcarpet\":[{\"type\":\"contourcarpet\",\"colorbar\":{\"outlinewidth\":0,\"ticks\":\"\"}}],\"contour\":[{\"type\":\"contour\",\"colorbar\":{\"outlinewidth\":0,\"ticks\":\"\"},\"colorscale\":[[0.0,\"#0d0887\"],[0.1111111111111111,\"#46039f\"],[0.2222222222222222,\"#7201a8\"],[0.3333333333333333,\"#9c179e\"],[0.4444444444444444,\"#bd3786\"],[0.5555555555555556,\"#d8576b\"],[0.6666666666666666,\"#ed7953\"],[0.7777777777777778,\"#fb9f3a\"],[0.8888888888888888,\"#fdca26\"],[1.0,\"#f0f921\"]]}],\"surface\":[{\"type\":\"surface\",\"colorbar\":{\"outlinewidth\":0,\"ticks\":\"\"},\"colorscale\":[[0.0,\"#0d0887\"],[0.1111111111111111,\"#46039f\"],[0.2222222222222222,\"#7201a8\"],[0.3333333333333333,\"#9c179e\"],[0.4444444444444444,\"#bd3786\"],[0.5555555555555556,\"#d8576b\"],[0.6666666666666666,\"#ed7953\"],[0.7777777777777778,\"#fb9f3a\"],[0.8888888888888888,\"#fdca26\"],[1.0,\"#f0f921\"]]}],\"mesh3d\":[{\"type\":\"mesh3d\",\"colorbar\":{\"outlinewidth\":0,\"ticks\":\"\"}}],\"scatter\":[{\"fillpattern\":{\"fillmode\":\"overlay\",\"size\":10,\"solidity\":0.2},\"type\":\"scatter\"}],\"parcoords\":[{\"type\":\"parcoords\",\"line\":{\"colorbar\":{\"outlinewidth\":0,\"ticks\":\"\"}}}],\"scatterpolargl\":[{\"type\":\"scatterpolargl\",\"marker\":{\"colorbar\":{\"outlinewidth\":0,\"ticks\":\"\"}}}],\"bar\":[{\"error_x\":{\"color\":\"#2a3f5f\"},\"error_y\":{\"color\":\"#2a3f5f\"},\"marker\":{\"line\":{\"color\":\"#E5ECF6\",\"width\":0.5},\"pattern\":{\"fillmode\":\"overlay\",\"size\":10,\"solidity\":0.2}},\"type\":\"bar\"}],\"scattergeo\":[{\"type\":\"scattergeo\",\"marker\":{\"colorbar\":{\"outlinewidth\":0,\"ticks\":\"\"}}}],\"scatterpolar\":[{\"type\":\"scatterpolar\",\"marker\":{\"colorbar\":{\"outlinewidth\":0,\"ticks\":\"\"}}}],\"histogram\":[{\"marker\":{\"pattern\":{\"fillmode\":\"overlay\",\"size\":10,\"solidity\":0.2}},\"type\":\"histogram\"}],\"scattergl\":[{\"type\":\"scattergl\",\"marker\":{\"colorbar\":{\"outlinewidth\":0,\"ticks\":\"\"}}}],\"scatter3d\":[{\"type\":\"scatter3d\",\"line\":{\"colorbar\":{\"outlinewidth\":0,\"ticks\":\"\"}},\"marker\":{\"colorbar\":{\"outlinewidth\":0,\"ticks\":\"\"}}}],\"scattermapbox\":[{\"type\":\"scattermapbox\",\"marker\":{\"colorbar\":{\"outlinewidth\":0,\"ticks\":\"\"}}}],\"scatterternary\":[{\"type\":\"scatterternary\",\"marker\":{\"colorbar\":{\"outlinewidth\":0,\"ticks\":\"\"}}}],\"scattercarpet\":[{\"type\":\"scattercarpet\",\"marker\":{\"colorbar\":{\"outlinewidth\":0,\"ticks\":\"\"}}}],\"carpet\":[{\"aaxis\":{\"endlinecolor\":\"#2a3f5f\",\"gridcolor\":\"white\",\"linecolor\":\"white\",\"minorgridcolor\":\"white\",\"startlinecolor\":\"#2a3f5f\"},\"baxis\":{\"endlinecolor\":\"#2a3f5f\",\"gridcolor\":\"white\",\"linecolor\":\"white\",\"minorgridcolor\":\"white\",\"startlinecolor\":\"#2a3f5f\"},\"type\":\"carpet\"}],\"table\":[{\"cells\":{\"fill\":{\"color\":\"#EBF0F8\"},\"line\":{\"color\":\"white\"}},\"header\":{\"fill\":{\"color\":\"#C8D4E3\"},\"line\":{\"color\":\"white\"}},\"type\":\"table\"}],\"barpolar\":[{\"marker\":{\"line\":{\"color\":\"#E5ECF6\",\"width\":0.5},\"pattern\":{\"fillmode\":\"overlay\",\"size\":10,\"solidity\":0.2}},\"type\":\"barpolar\"}],\"pie\":[{\"automargin\":true,\"type\":\"pie\"}]},\"layout\":{\"autotypenumbers\":\"strict\",\"colorway\":[\"#636efa\",\"#EF553B\",\"#00cc96\",\"#ab63fa\",\"#FFA15A\",\"#19d3f3\",\"#FF6692\",\"#B6E880\",\"#FF97FF\",\"#FECB52\"],\"font\":{\"color\":\"#2a3f5f\"},\"hovermode\":\"closest\",\"hoverlabel\":{\"align\":\"left\"},\"paper_bgcolor\":\"white\",\"plot_bgcolor\":\"#E5ECF6\",\"polar\":{\"bgcolor\":\"#E5ECF6\",\"angularaxis\":{\"gridcolor\":\"white\",\"linecolor\":\"white\",\"ticks\":\"\"},\"radialaxis\":{\"gridcolor\":\"white\",\"linecolor\":\"white\",\"ticks\":\"\"}},\"ternary\":{\"bgcolor\":\"#E5ECF6\",\"aaxis\":{\"gridcolor\":\"white\",\"linecolor\":\"white\",\"ticks\":\"\"},\"baxis\":{\"gridcolor\":\"white\",\"linecolor\":\"white\",\"ticks\":\"\"},\"caxis\":{\"gridcolor\":\"white\",\"linecolor\":\"white\",\"ticks\":\"\"}},\"coloraxis\":{\"colorbar\":{\"outlinewidth\":0,\"ticks\":\"\"}},\"colorscale\":{\"sequential\":[[0.0,\"#0d0887\"],[0.1111111111111111,\"#46039f\"],[0.2222222222222222,\"#7201a8\"],[0.3333333333333333,\"#9c179e\"],[0.4444444444444444,\"#bd3786\"],[0.5555555555555556,\"#d8576b\"],[0.6666666666666666,\"#ed7953\"],[0.7777777777777778,\"#fb9f3a\"],[0.8888888888888888,\"#fdca26\"],[1.0,\"#f0f921\"]],\"sequentialminus\":[[0.0,\"#0d0887\"],[0.1111111111111111,\"#46039f\"],[0.2222222222222222,\"#7201a8\"],[0.3333333333333333,\"#9c179e\"],[0.4444444444444444,\"#bd3786\"],[0.5555555555555556,\"#d8576b\"],[0.6666666666666666,\"#ed7953\"],[0.7777777777777778,\"#fb9f3a\"],[0.8888888888888888,\"#fdca26\"],[1.0,\"#f0f921\"]],\"diverging\":[[0,\"#8e0152\"],[0.1,\"#c51b7d\"],[0.2,\"#de77ae\"],[0.3,\"#f1b6da\"],[0.4,\"#fde0ef\"],[0.5,\"#f7f7f7\"],[0.6,\"#e6f5d0\"],[0.7,\"#b8e186\"],[0.8,\"#7fbc41\"],[0.9,\"#4d9221\"],[1,\"#276419\"]]},\"xaxis\":{\"gridcolor\":\"white\",\"linecolor\":\"white\",\"ticks\":\"\",\"title\":{\"standoff\":15},\"zerolinecolor\":\"white\",\"automargin\":true,\"zerolinewidth\":2},\"yaxis\":{\"gridcolor\":\"white\",\"linecolor\":\"white\",\"ticks\":\"\",\"title\":{\"standoff\":15},\"zerolinecolor\":\"white\",\"automargin\":true,\"zerolinewidth\":2},\"scene\":{\"xaxis\":{\"backgroundcolor\":\"#E5ECF6\",\"gridcolor\":\"white\",\"linecolor\":\"white\",\"showbackground\":true,\"ticks\":\"\",\"zerolinecolor\":\"white\",\"gridwidth\":2},\"yaxis\":{\"backgroundcolor\":\"#E5ECF6\",\"gridcolor\":\"white\",\"linecolor\":\"white\",\"showbackground\":true,\"ticks\":\"\",\"zerolinecolor\":\"white\",\"gridwidth\":2},\"zaxis\":{\"backgroundcolor\":\"#E5ECF6\",\"gridcolor\":\"white\",\"linecolor\":\"white\",\"showbackground\":true,\"ticks\":\"\",\"zerolinecolor\":\"white\",\"gridwidth\":2}},\"shapedefaults\":{\"line\":{\"color\":\"#2a3f5f\"}},\"annotationdefaults\":{\"arrowcolor\":\"#2a3f5f\",\"arrowhead\":0,\"arrowwidth\":1},\"geo\":{\"bgcolor\":\"white\",\"landcolor\":\"#E5ECF6\",\"subunitcolor\":\"white\",\"showland\":true,\"showlakes\":true,\"lakecolor\":\"white\"},\"title\":{\"x\":0.05},\"mapbox\":{\"style\":\"light\"}}},\"scene\":{\"domain\":{\"x\":[0.0,1.0],\"y\":[0.0,1.0]},\"xaxis\":{\"title\":{\"text\":\"blood pressure\"}},\"yaxis\":{\"title\":{\"text\":\"sugar\"}},\"zaxis\":{\"title\":{\"text\":\"age\"}}},\"legend\":{\"title\":{\"text\":\"class\"},\"tracegroupgap\":0},\"margin\":{\"t\":60}},                        {\"responsive\": true}                    ).then(function(){\n",
       "                            \n",
       "var gd = document.getElementById('c33ea14d-bbbb-4133-b06a-59a1b49b7944');\n",
       "var x = new MutationObserver(function (mutations, observer) {{\n",
       "        var display = window.getComputedStyle(gd).display;\n",
       "        if (!display || display === 'none') {{\n",
       "            console.log([gd, 'removed!']);\n",
       "            Plotly.purge(gd);\n",
       "            observer.disconnect();\n",
       "        }}\n",
       "}});\n",
       "\n",
       "// Listen for the removal of the full notebook cells\n",
       "var notebookContainer = gd.closest('#notebook-container');\n",
       "if (notebookContainer) {{\n",
       "    x.observe(notebookContainer, {childList: true});\n",
       "}}\n",
       "\n",
       "// Listen for the clearing of the current output cell\n",
       "var outputEl = gd.closest('.output');\n",
       "if (outputEl) {{\n",
       "    x.observe(outputEl, {childList: true});\n",
       "}}\n",
       "\n",
       "                        })                };                });            </script>        </div>"
      ]
     },
     "metadata": {},
     "output_type": "display_data"
    }
   ],
   "source": [
    "scatter_3d('blood pressure','sugar','age')"
   ]
  },
  {
   "cell_type": "code",
   "execution_count": 214,
   "id": "7e049116",
   "metadata": {},
   "outputs": [
    {
     "data": {
      "image/png": "[encoded data removed]",
      "text/plain": [
       "<Figure size 397.375x300 with 1 Axes>"
      ]
     },
     "metadata": {},
     "output_type": "display_data"
    }
   ],
   "source": [
    "kde_plot('red blood cell count')"
   ]
  },
  {
   "cell_type": "code",
   "execution_count": 215,
   "id": "11fc462d",
   "metadata": {},
   "outputs": [
    {
     "data": {
      "text/plain": [
       "Index(['age', 'blood pressure', 'specific gravity', 'albumin', 'sugar',\n",
       "       'red blood cells', ' pus cell', 'pus cell clumps', 'bacteria',\n",
       "       'blood glucose random', 'blood urea', 'serum creatinine', 'sodium',\n",
       "       'potassium', 'haemoglobin', 'packed cell volume',\n",
       "       'white blood cell count', 'red blood cell count', 'ypertension',\n",
       "       'diabetes mellitus', 'coronary artery disease', 'appetite',\n",
       "       'pedal edema', 'anemia', 'class'],\n",
       "      dtype='object')"
      ]
     },
     "execution_count": 215,
     "metadata": {},
     "output_type": "execute_result"
    }
   ],
   "source": [
    "df.columns"
   ]
  },
  {
   "cell_type": "code",
   "execution_count": 216,
   "id": "b3ed886c",
   "metadata": {},
   "outputs": [
    {
     "data": {
      "image/png": "[encoded data removed]",
      "text/plain": [
       "<Figure size 397.375x300 with 1 Axes>"
      ]
     },
     "metadata": {},
     "output_type": "display_data"
    }
   ],
   "source": [
    "kde_plot('haemoglobin')"
   ]
  },
  {
   "cell_type": "code",
   "execution_count": 217,
   "id": "b1a8bcfa",
   "metadata": {},
   "outputs": [
    {
     "data": {
      "application/vnd.plotly.v1+json": {
       "config": {
        "plotlyServerURL": "https://plot.ly"
       },
       "data": [
        {
         "alignmentgroup": "True",
         "box": {
          "visible": false
         },
         "hovertemplate": "class=%{x}<br>packed cell volume=%{y}<extra></extra>",
         "legendgroup": "ckd",
         "marker": {
          "color": "#636efa"
         },
         "name": "ckd",
         "offsetgroup": "ckd",
         "orientation": "v",
         "scalegroup": "True",
         "showlegend": true,
         "type": "violin",
         "x": [
          "ckd",
          "ckd",
          "ckd",
          "ckd",
          "ckd",
          "ckd",
          "ckd",
          "ckd",
          "ckd",
          "ckd",
          "ckd",
          "ckd",
          "ckd",
          "ckd",
          "ckd",
          "ckd",
          "ckd",
          "ckd",
          "ckd",
          "ckd",
          "ckd",
          "ckd",
          "ckd",
          "ckd",
          "ckd",
          "ckd",
          "ckd",
          "ckd",
          "ckd",
          "ckd",
          "ckd",
          "ckd",
          "ckd",
          "ckd",
          "ckd",
          "ckd",
          "ckd",
          "ckd",
          "ckd",
          "ckd",
          "ckd",
          "ckd",
          "ckd",
          "ckd",
          "ckd",
          "ckd",
          "ckd",
          "ckd",
          "ckd",
          "ckd",
          "ckd",
          "ckd",
          "ckd",
          "ckd",
          "ckd",
          "ckd",
          "ckd",
          "ckd",
          "ckd",
          "ckd",
          "ckd",
          "ckd",
          "ckd",
          "ckd",
          "ckd",
          "ckd",
          "ckd",
          "ckd",
          "ckd",
          "ckd",
          "ckd",
          "ckd",
          "ckd",
          "ckd",
          "ckd",
          "ckd",
          "ckd",
          "ckd",
          "ckd",
          "ckd",
          "ckd",
          "ckd",
          "ckd",
          "ckd",
          "ckd",
          "ckd",
          "ckd",
          "ckd",
          "ckd",
          "ckd",
          "ckd",
          "ckd",
          "ckd",
          "ckd",
          "ckd",
          "ckd",
          "ckd",
          "ckd",
          "ckd",
          "ckd",
          "ckd",
          "ckd",
          "ckd",
          "ckd",
          "ckd",
          "ckd",
          "ckd",
          "ckd",
          "ckd",
          "ckd",
          "ckd",
          "ckd",
          "ckd",
          "ckd",
          "ckd",
          "ckd",
          "ckd",
          "ckd",
          "ckd",
          "ckd",
          "ckd",
          "ckd",
          "ckd",
          "ckd",
          "ckd",
          "ckd",
          "ckd",
          "ckd",
          "ckd",
          "ckd",
          "ckd",
          "ckd",
          "ckd",
          "ckd",
          "ckd",
          "ckd",
          "ckd",
          "ckd",
          "ckd",
          "ckd",
          "ckd",
          "ckd",
          "ckd",
          "ckd",
          "ckd",
          "ckd",
          "ckd",
          "ckd",
          "ckd",
          "ckd",
          "ckd",
          "ckd",
          "ckd",
          "ckd",
          "ckd",
          "ckd",
          "ckd",
          "ckd",
          "ckd",
          "ckd",
          "ckd",
          "ckd",
          "ckd",
          "ckd",
          "ckd",
          "ckd",
          "ckd",
          "ckd",
          "ckd",
          "ckd",
          "ckd",
          "ckd",
          "ckd",
          "ckd",
          "ckd",
          "ckd",
          "ckd",
          "ckd",
          "ckd",
          "ckd",
          "ckd",
          "ckd",
          "ckd",
          "ckd",
          "ckd",
          "ckd",
          "ckd",
          "ckd",
          "ckd",
          "ckd",
          "ckd",
          "ckd",
          "ckd",
          "ckd",
          "ckd",
          "ckd",
          "ckd",
          "ckd",
          "ckd",
          "ckd",
          "ckd",
          "ckd",
          "ckd",
          "ckd",
          "ckd",
          "ckd",
          "ckd",
          "ckd",
          "ckd",
          "ckd",
          "ckd",
          "ckd",
          "ckd",
          "ckd",
          "ckd",
          "ckd",
          "ckd",
          "ckd",
          "ckd",
          "ckd",
          "ckd",
          "ckd",
          "ckd",
          "ckd",
          "ckd",
          "ckd",
          "ckd",
          "ckd",
          "ckd",
          "ckd",
          "ckd",
          "ckd",
          "ckd",
          "ckd",
          "ckd",
          "ckd",
          "ckd",
          "ckd",
          "ckd",
          "ckd",
          "ckd",
          "ckd",
          "ckd",
          "ckd",
          "ckd",
          "ckd",
          "ckd",
          "ckd",
          "ckd",
          "ckd"
         ],
         "x0": " ",
         "xaxis": "x",
         "y": [
          44,
          38,
          31,
          32,
          35,
          39,
          36,
          44,
          33,
          29,
          28,
          32,
          28,
          null,
          16,
          24,
          null,
          null,
          37,
          30,
          24,
          32,
          32,
          null,
          39,
          29,
          35,
          37,
          null,
          38,
          null,
          30,
          34,
          29,
          null,
          36,
          32,
          28,
          null,
          40,
          32,
          null,
          33,
          24,
          28,
          null,
          37,
          45,
          29,
          29,
          28,
          33,
          34,
          40,
          40,
          28,
          30,
          null,
          33,
          null,
          null,
          null,
          33,
          27,
          null,
          48,
          null,
          null,
          37,
          52,
          44,
          28,
          null,
          14,
          29,
          null,
          36,
          34,
          30,
          40,
          31,
          29,
          null,
          null,
          22,
          null,
          null,
          32,
          null,
          null,
          40,
          52,
          33,
          30,
          36,
          null,
          36,
          32,
          18,
          32,
          null,
          33,
          52,
          36,
          null,
          42,
          17,
          34,
          37,
          null,
          34,
          32,
          33,
          null,
          null,
          44,
          null,
          37,
          null,
          null,
          null,
          46,
          null,
          42,
          28,
          null,
          37,
          35,
          23,
          null,
          22,
          36,
          24,
          37,
          33,
          39,
          null,
          29,
          null,
          33,
          null,
          19,
          null,
          null,
          33,
          24,
          null,
          25,
          null,
          32,
          41,
          30,
          32,
          22,
          26,
          36,
          null,
          39,
          31,
          35,
          35,
          42,
          37,
          27,
          40,
          null,
          null,
          42,
          39,
          27,
          33,
          26,
          34,
          41,
          35,
          null,
          23,
          41,
          34,
          39,
          28,
          30,
          35,
          null,
          31,
          34,
          null,
          34,
          38,
          29,
          30,
          26,
          null,
          15,
          null,
          null,
          24,
          null,
          30,
          25,
          37,
          21,
          24,
          null,
          31,
          43,
          41,
          41,
          41,
          null,
          20,
          null,
          31,
          34,
          43,
          null,
          38,
          36,
          34,
          28,
          36,
          null,
          null,
          38,
          null,
          35,
          26,
          36,
          null,
          31,
          null,
          35,
          null,
          null,
          44,
          26,
          25,
          40,
          28,
          39,
          36,
          31,
          28,
          47,
          40,
          19,
          26,
          null,
          37,
          9
         ],
         "y0": " ",
         "yaxis": "y"
        },
        {
         "alignmentgroup": "True",
         "box": {
          "visible": false
         },
         "hovertemplate": "class=%{x}<br>packed cell volume=%{y}<extra></extra>",
         "legendgroup": "notckd",
         "marker": {
          "color": "#EF553B"
         },
         "name": "notckd",
         "offsetgroup": "notckd",
         "orientation": "v",
         "scalegroup": "True",
         "showlegend": true,
         "type": "violin",
         "x": [
          "notckd",
          "notckd",
          "notckd",
          "notckd",
          "notckd",
          "notckd",
          "notckd",
          "notckd",
          "notckd",
          "notckd",
          "notckd",
          "notckd",
          "notckd",
          "notckd",
          "notckd",
          "notckd",
          "notckd",
          "notckd",
          "notckd",
          "notckd",
          "notckd",
          "notckd",
          "notckd",
          "notckd",
          "notckd",
          "notckd",
          "notckd",
          "notckd",
          "notckd",
          "notckd",
          "notckd",
          "notckd",
          "notckd",
          "notckd",
          "notckd",
          "notckd",
          "notckd",
          "notckd",
          "notckd",
          "notckd",
          "notckd",
          "notckd",
          "notckd",
          "notckd",
          "notckd",
          "notckd",
          "notckd",
          "notckd",
          "notckd",
          "notckd",
          "notckd",
          "notckd",
          "notckd",
          "notckd",
          "notckd",
          "notckd",
          "notckd",
          "notckd",
          "notckd",
          "notckd",
          "notckd",
          "notckd",
          "notckd",
          "notckd",
          "notckd",
          "notckd",
          "notckd",
          "notckd",
          "notckd",
          "notckd",
          "notckd",
          "notckd",
          "notckd",
          "notckd",
          "notckd",
          "notckd",
          "notckd",
          "notckd",
          "notckd",
          "notckd",
          "notckd",
          "notckd",
          "notckd",
          "notckd",
          "notckd",
          "notckd",
          "notckd",
          "notckd",
          "notckd",
          "notckd",
          "notckd",
          "notckd",
          "notckd",
          "notckd",
          "notckd",
          "notckd",
          "notckd",
          "notckd",
          "notckd",
          "notckd",
          "notckd",
          "notckd",
          "notckd",
          "notckd",
          "notckd",
          "notckd",
          "notckd",
          "notckd",
          "notckd",
          "notckd",
          "notckd",
          "notckd",
          "notckd",
          "notckd",
          "notckd",
          "notckd",
          "notckd",
          "notckd",
          "notckd",
          "notckd",
          "notckd",
          "notckd",
          "notckd",
          "notckd",
          "notckd",
          "notckd",
          "notckd",
          "notckd",
          "notckd",
          "notckd",
          "notckd",
          "notckd",
          "notckd",
          "notckd",
          "notckd",
          "notckd",
          "notckd",
          "notckd",
          "notckd",
          "notckd",
          "notckd",
          "notckd",
          "notckd",
          "notckd",
          "notckd",
          "notckd",
          "notckd",
          "notckd",
          "notckd",
          "notckd"
         ],
         "x0": " ",
         "xaxis": "x",
         "y": [
          48,
          52,
          46,
          42,
          49,
          52,
          41,
          46,
          44,
          45,
          45,
          41,
          43,
          45,
          50,
          48,
          41,
          48,
          53,
          48,
          41,
          42,
          42,
          null,
          44,
          43,
          41,
          50,
          44,
          48,
          52,
          41,
          44,
          43,
          52,
          41,
          44,
          43,
          50,
          43,
          52,
          41,
          52,
          48,
          40,
          50,
          41,
          45,
          48,
          52,
          43,
          41,
          48,
          50,
          45,
          41,
          52,
          44,
          48,
          40,
          44,
          45,
          48,
          52,
          41,
          48,
          48,
          40,
          52,
          null,
          44,
          48,
          43,
          45,
          null,
          50,
          41,
          44,
          45,
          48,
          42,
          46,
          44,
          46,
          43,
          48,
          40,
          52,
          44,
          48,
          43,
          41,
          50,
          50,
          42,
          42,
          52,
          43,
          44,
          52,
          43,
          40,
          48,
          51,
          41,
          52,
          47,
          42,
          45,
          53,
          43,
          54,
          40,
          44,
          45,
          null,
          46,
          50,
          45,
          46,
          50,
          51,
          52,
          47,
          40,
          48,
          53,
          49,
          42,
          50,
          54,
          40,
          51,
          49,
          42,
          52,
          43,
          50,
          46,
          52,
          52,
          44,
          46,
          54,
          45,
          47,
          54,
          49,
          51,
          53
         ],
         "y0": " ",
         "yaxis": "y"
        }
       ],
       "layout": {
        "legend": {
         "title": {
          "text": "class"
         },
         "tracegroupgap": 0
        },
        "margin": {
         "t": 60
        },
        "template": {
         "data": {
          "bar": [
           {
            "error_x": {
             "color": "#2a3f5f"
            },
            "error_y": {
             "color": "#2a3f5f"
            },
            "marker": {
             "line": {
              "color": "#E5ECF6",
              "width": 0.5
             },
             "pattern": {
              "fillmode": "overlay",
              "size": 10,
              "solidity": 0.2
             }
            },
            "type": "bar"
           }
          ],
          "barpolar": [
           {
            "marker": {
             "line": {
              "color": "#E5ECF6",
              "width": 0.5
             },
             "pattern": {
              "fillmode": "overlay",
              "size": 10,
              "solidity": 0.2
             }
            },
            "type": "barpolar"
           }
          ],
          "carpet": [
           {
            "aaxis": {
             "endlinecolor": "#2a3f5f",
             "gridcolor": "white",
             "linecolor": "white",
             "minorgridcolor": "white",
             "startlinecolor": "#2a3f5f"
            },
            "baxis": {
             "endlinecolor": "#2a3f5f",
             "gridcolor": "white",
             "linecolor": "white",
             "minorgridcolor": "white",
             "startlinecolor": "#2a3f5f"
            },
            "type": "carpet"
           }
          ],
          "choropleth": [
           {
            "colorbar": {
             "outlinewidth": 0,
             "ticks": ""
            },
            "type": "choropleth"
           }
          ],
          "contour": [
           {
            "colorbar": {
             "outlinewidth": 0,
             "ticks": ""
            },
            "colorscale": [
             [
              0,
              "#0d0887"
             ],
             [
              0.1111111111111111,
              "#46039f"
             ],
             [
              0.2222222222222222,
              "#7201a8"
             ],
             [
              0.3333333333333333,
              "#9c179e"
             ],
             [
              0.4444444444444444,
              "#bd3786"
             ],
             [
              0.5555555555555556,
              "#d8576b"
             ],
             [
              0.6666666666666666,
              "#ed7953"
             ],
             [
              0.7777777777777778,
              "#fb9f3a"
             ],
             [
              0.8888888888888888,
              "#fdca26"
             ],
             [
              1,
              "#f0f921"
             ]
            ],
            "type": "contour"
           }
          ],
          "contourcarpet": [
           {
            "colorbar": {
             "outlinewidth": 0,
             "ticks": ""
            },
            "type": "contourcarpet"
           }
          ],
          "heatmap": [
           {
            "colorbar": {
             "outlinewidth": 0,
             "ticks": ""
            },
            "colorscale": [
             [
              0,
              "#0d0887"
             ],
             [
              0.1111111111111111,
              "#46039f"
             ],
             [
              0.2222222222222222,
              "#7201a8"
             ],
             [
              0.3333333333333333,
              "#9c179e"
             ],
             [
              0.4444444444444444,
              "#bd3786"
             ],
             [
              0.5555555555555556,
              "#d8576b"
             ],
             [
              0.6666666666666666,
              "#ed7953"
             ],
             [
              0.7777777777777778,
              "#fb9f3a"
             ],
             [
              0.8888888888888888,
              "#fdca26"
             ],
             [
              1,
              "#f0f921"
             ]
            ],
            "type": "heatmap"
           }
          ],
          "heatmapgl": [
           {
            "colorbar": {
             "outlinewidth": 0,
             "ticks": ""
            },
            "colorscale": [
             [
              0,
              "#0d0887"
             ],
             [
              0.1111111111111111,
              "#46039f"
             ],
             [
              0.2222222222222222,
              "#7201a8"
             ],
             [
              0.3333333333333333,
              "#9c179e"
             ],
             [
              0.4444444444444444,
              "#bd3786"
             ],
             [
              0.5555555555555556,
              "#d8576b"
             ],
             [
              0.6666666666666666,
              "#ed7953"
             ],
             [
              0.7777777777777778,
              "#fb9f3a"
             ],
             [
              0.8888888888888888,
              "#fdca26"
             ],
             [
              1,
              "#f0f921"
             ]
            ],
            "type": "heatmapgl"
           }
          ],
          "histogram": [
           {
            "marker": {
             "pattern": {
              "fillmode": "overlay",
              "size": 10,
              "solidity": 0.2
             }
            },
            "type": "histogram"
           }
          ],
          "histogram2d": [
           {
            "colorbar": {
             "outlinewidth": 0,
             "ticks": ""
            },
            "colorscale": [
             [
              0,
              "#0d0887"
             ],
             [
              0.1111111111111111,
              "#46039f"
             ],
             [
              0.2222222222222222,
              "#7201a8"
             ],
             [
              0.3333333333333333,
              "#9c179e"
             ],
             [
              0.4444444444444444,
              "#bd3786"
             ],
             [
              0.5555555555555556,
              "#d8576b"
             ],
             [
              0.6666666666666666,
              "#ed7953"
             ],
             [
              0.7777777777777778,
              "#fb9f3a"
             ],
             [
              0.8888888888888888,
              "#fdca26"
             ],
             [
              1,
              "#f0f921"
             ]
            ],
            "type": "histogram2d"
           }
          ],
          "histogram2dcontour": [
           {
            "colorbar": {
             "outlinewidth": 0,
             "ticks": ""
            },
            "colorscale": [
             [
              0,
              "#0d0887"
             ],
             [
              0.1111111111111111,
              "#46039f"
             ],
             [
              0.2222222222222222,
              "#7201a8"
             ],
             [
              0.3333333333333333,
              "#9c179e"
             ],
             [
              0.4444444444444444,
              "#bd3786"
             ],
             [
              0.5555555555555556,
              "#d8576b"
             ],
             [
              0.6666666666666666,
              "#ed7953"
             ],
             [
              0.7777777777777778,
              "#fb9f3a"
             ],
             [
              0.8888888888888888,
              "#fdca26"
             ],
             [
              1,
              "#f0f921"
             ]
            ],
            "type": "histogram2dcontour"
           }
          ],
          "mesh3d": [
           {
            "colorbar": {
             "outlinewidth": 0,
             "ticks": ""
            },
            "type": "mesh3d"
           }
          ],
          "parcoords": [
           {
            "line": {
             "colorbar": {
              "outlinewidth": 0,
              "ticks": ""
             }
            },
            "type": "parcoords"
           }
          ],
          "pie": [
           {
            "automargin": true,
            "type": "pie"
           }
          ],
          "scatter": [
           {
            "fillpattern": {
             "fillmode": "overlay",
             "size": 10,
             "solidity": 0.2
            },
            "type": "scatter"
           }
          ],
          "scatter3d": [
           {
            "line": {
             "colorbar": {
              "outlinewidth": 0,
              "ticks": ""
             }
            },
            "marker": {
             "colorbar": {
              "outlinewidth": 0,
              "ticks": ""
             }
            },
            "type": "scatter3d"
           }
          ],
          "scattercarpet": [
           {
            "marker": {
             "colorbar": {
              "outlinewidth": 0,
              "ticks": ""
             }
            },
            "type": "scattercarpet"
           }
          ],
          "scattergeo": [
           {
            "marker": {
             "colorbar": {
              "outlinewidth": 0,
              "ticks": ""
             }
            },
            "type": "scattergeo"
           }
          ],
          "scattergl": [
           {
            "marker": {
             "colorbar": {
              "outlinewidth": 0,
              "ticks": ""
             }
            },
            "type": "scattergl"
           }
          ],
          "scattermapbox": [
           {
            "marker": {
             "colorbar": {
              "outlinewidth": 0,
              "ticks": ""
             }
            },
            "type": "scattermapbox"
           }
          ],
          "scatterpolar": [
           {
            "marker": {
             "colorbar": {
              "outlinewidth": 0,
              "ticks": ""
             }
            },
            "type": "scatterpolar"
           }
          ],
          "scatterpolargl": [
           {
            "marker": {
             "colorbar": {
              "outlinewidth": 0,
              "ticks": ""
             }
            },
            "type": "scatterpolargl"
           }
          ],
          "scatterternary": [
           {
            "marker": {
             "colorbar": {
              "outlinewidth": 0,
              "ticks": ""
             }
            },
            "type": "scatterternary"
           }
          ],
          "surface": [
           {
            "colorbar": {
             "outlinewidth": 0,
             "ticks": ""
            },
            "colorscale": [
             [
              0,
              "#0d0887"
             ],
             [
              0.1111111111111111,
              "#46039f"
             ],
             [
              0.2222222222222222,
              "#7201a8"
             ],
             [
              0.3333333333333333,
              "#9c179e"
             ],
             [
              0.4444444444444444,
              "#bd3786"
             ],
             [
              0.5555555555555556,
              "#d8576b"
             ],
             [
              0.6666666666666666,
              "#ed7953"
             ],
             [
              0.7777777777777778,
              "#fb9f3a"
             ],
             [
              0.8888888888888888,
              "#fdca26"
             ],
             [
              1,
              "#f0f921"
             ]
            ],
            "type": "surface"
           }
          ],
          "table": [
           {
            "cells": {
             "fill": {
              "color": "#EBF0F8"
             },
             "line": {
              "color": "white"
             }
            },
            "header": {
             "fill": {
              "color": "#C8D4E3"
             },
             "line": {
              "color": "white"
             }
            },
            "type": "table"
           }
          ]
         },
         "layout": {
          "annotationdefaults": {
           "arrowcolor": "#2a3f5f",
           "arrowhead": 0,
           "arrowwidth": 1
          },
          "autotypenumbers": "strict",
          "coloraxis": {
           "colorbar": {
            "outlinewidth": 0,
            "ticks": ""
           }
          },
          "colorscale": {
           "diverging": [
            [
             0,
             "#8e0152"
            ],
            [
             0.1,
             "#c51b7d"
            ],
            [
             0.2,
             "#de77ae"
            ],
            [
             0.3,
             "#f1b6da"
            ],
            [
             0.4,
             "#fde0ef"
            ],
            [
             0.5,
             "#f7f7f7"
            ],
            [
             0.6,
             "#e6f5d0"
            ],
            [
             0.7,
             "#b8e186"
            ],
            [
             0.8,
             "#7fbc41"
            ],
            [
             0.9,
             "#4d9221"
            ],
            [
             1,
             "#276419"
            ]
           ],
           "sequential": [
            [
             0,
             "#0d0887"
            ],
            [
             0.1111111111111111,
             "#46039f"
            ],
            [
             0.2222222222222222,
             "#7201a8"
            ],
            [
             0.3333333333333333,
             "#9c179e"
            ],
            [
             0.4444444444444444,
             "#bd3786"
            ],
            [
             0.5555555555555556,
             "#d8576b"
            ],
            [
             0.6666666666666666,
             "#ed7953"
            ],
            [
             0.7777777777777778,
             "#fb9f3a"
            ],
            [
             0.8888888888888888,
             "#fdca26"
            ],
            [
             1,
             "#f0f921"
            ]
           ],
           "sequentialminus": [
            [
             0,
             "#0d0887"
            ],
            [
             0.1111111111111111,
             "#46039f"
            ],
            [
             0.2222222222222222,
             "#7201a8"
            ],
            [
             0.3333333333333333,
             "#9c179e"
            ],
            [
             0.4444444444444444,
             "#bd3786"
            ],
            [
             0.5555555555555556,
             "#d8576b"
            ],
            [
             0.6666666666666666,
             "#ed7953"
            ],
            [
             0.7777777777777778,
             "#fb9f3a"
            ],
            [
             0.8888888888888888,
             "#fdca26"
            ],
            [
             1,
             "#f0f921"
            ]
           ]
          },
          "colorway": [
           "#636efa",
           "#EF553B",
           "#00cc96",
           "#ab63fa",
           "#FFA15A",
           "#19d3f3",
           "#FF6692",
           "#B6E880",
           "#FF97FF",
           "#FECB52"
          ],
          "font": {
           "color": "#2a3f5f"
          },
          "geo": {
           "bgcolor": "white",
           "lakecolor": "white",
           "landcolor": "#E5ECF6",
           "showlakes": true,
           "showland": true,
           "subunitcolor": "white"
          },
          "hoverlabel": {
           "align": "left"
          },
          "hovermode": "closest",
          "mapbox": {
           "style": "light"
          },
          "paper_bgcolor": "white",
          "plot_bgcolor": "#E5ECF6",
          "polar": {
           "angularaxis": {
            "gridcolor": "white",
            "linecolor": "white",
            "ticks": ""
           },
           "bgcolor": "#E5ECF6",
           "radialaxis": {
            "gridcolor": "white",
            "linecolor": "white",
            "ticks": ""
           }
          },
          "scene": {
           "xaxis": {
            "backgroundcolor": "#E5ECF6",
            "gridcolor": "white",
            "gridwidth": 2,
            "linecolor": "white",
            "showbackground": true,
            "ticks": "",
            "zerolinecolor": "white"
           },
           "yaxis": {
            "backgroundcolor": "#E5ECF6",
            "gridcolor": "white",
            "gridwidth": 2,
            "linecolor": "white",
            "showbackground": true,
            "ticks": "",
            "zerolinecolor": "white"
           },
           "zaxis": {
            "backgroundcolor": "#E5ECF6",
            "gridcolor": "white",
            "gridwidth": 2,
            "linecolor": "white",
            "showbackground": true,
            "ticks": "",
            "zerolinecolor": "white"
           }
          },
          "shapedefaults": {
           "line": {
            "color": "#2a3f5f"
           }
          },
          "ternary": {
           "aaxis": {
            "gridcolor": "white",
            "linecolor": "white",
            "ticks": ""
           },
           "baxis": {
            "gridcolor": "white",
            "linecolor": "white",
            "ticks": ""
           },
           "bgcolor": "#E5ECF6",
           "caxis": {
            "gridcolor": "white",
            "linecolor": "white",
            "ticks": ""
           }
          },
          "title": {
           "x": 0.05
          },
          "xaxis": {
           "automargin": true,
           "gridcolor": "white",
           "linecolor": "white",
           "ticks": "",
           "title": {
            "standoff": 15
           },
           "zerolinecolor": "white",
           "zerolinewidth": 2
          },
          "yaxis": {
           "automargin": true,
           "gridcolor": "white",
           "linecolor": "white",
           "ticks": "",
           "title": {
            "standoff": 15
           },
           "zerolinecolor": "white",
           "zerolinewidth": 2
          }
         }
        },
        "violinmode": "overlay",
        "xaxis": {
         "anchor": "y",
         "categoryarray": [
          "ckd",
          "notckd"
         ],
         "categoryorder": "array",
         "domain": [
          0,
          1
         ],
         "title": {
          "text": "class"
         }
        },
        "yaxis": {
         "anchor": "x",
         "domain": [
          0,
          1
         ],
         "title": {
          "text": "packed cell volume"
         }
        }
       }
      },
      "text/html": [
       "<div>                            <div id=\"1a4b697c-35ee-4583-bf1d-905e1cf887c7\" class=\"plotly-graph-div\" style=\"height:525px; width:100%;\"></div>            <script type=\"text/javascript\">                require([\"plotly\"], function(Plotly) {                    window.PLOTLYENV=window.PLOTLYENV || {};                                    if (document.getElementById(\"1a4b697c-35ee-4583-bf1d-905e1cf887c7\")) {                    Plotly.newPlot(                        \"1a4b697c-35ee-4583-bf1d-905e1cf887c7\",                        [{\"alignmentgroup\":\"True\",\"box\":{\"visible\":false},\"hovertemplate\":\"class=%{x}<br>packed cell volume=%{y}<extra></extra>\",\"legendgroup\":\"ckd\",\"marker\":{\"color\":\"#636efa\"},\"name\":\"ckd\",\"offsetgroup\":\"ckd\",\"orientation\":\"v\",\"scalegroup\":\"True\",\"showlegend\":true,\"x\":[\"ckd\",\"ckd\",\"ckd\",\"ckd\",\"ckd\",\"ckd\",\"ckd\",\"ckd\",\"ckd\",\"ckd\",\"ckd\",\"ckd\",\"ckd\",\"ckd\",\"ckd\",\"ckd\",\"ckd\",\"ckd\",\"ckd\",\"ckd\",\"ckd\",\"ckd\",\"ckd\",\"ckd\",\"ckd\",\"ckd\",\"ckd\",\"ckd\",\"ckd\",\"ckd\",\"ckd\",\"ckd\",\"ckd\",\"ckd\",\"ckd\",\"ckd\",\"ckd\",\"ckd\",\"ckd\",\"ckd\",\"ckd\",\"ckd\",\"ckd\",\"ckd\",\"ckd\",\"ckd\",\"ckd\",\"ckd\",\"ckd\",\"ckd\",\"ckd\",\"ckd\",\"ckd\",\"ckd\",\"ckd\",\"ckd\",\"ckd\",\"ckd\",\"ckd\",\"ckd\",\"ckd\",\"ckd\",\"ckd\",\"ckd\",\"ckd\",\"ckd\",\"ckd\",\"ckd\",\"ckd\",\"ckd\",\"ckd\",\"ckd\",\"ckd\",\"ckd\",\"ckd\",\"ckd\",\"ckd\",\"ckd\",\"ckd\",\"ckd\",\"ckd\",\"ckd\",\"ckd\",\"ckd\",\"ckd\",\"ckd\",\"ckd\",\"ckd\",\"ckd\",\"ckd\",\"ckd\",\"ckd\",\"ckd\",\"ckd\",\"ckd\",\"ckd\",\"ckd\",\"ckd\",\"ckd\",\"ckd\",\"ckd\",\"ckd\",\"ckd\",\"ckd\",\"ckd\",\"ckd\",\"ckd\",\"ckd\",\"ckd\",\"ckd\",\"ckd\",\"ckd\",\"ckd\",\"ckd\",\"ckd\",\"ckd\",\"ckd\",\"ckd\",\"ckd\",\"ckd\",\"ckd\",\"ckd\",\"ckd\",\"ckd\",\"ckd\",\"ckd\",\"ckd\",\"ckd\",\"ckd\",\"ckd\",\"ckd\",\"ckd\",\"ckd\",\"ckd\",\"ckd\",\"ckd\",\"ckd\",\"ckd\",\"ckd\",\"ckd\",\"ckd\",\"ckd\",\"ckd\",\"ckd\",\"ckd\",\"ckd\",\"ckd\",\"ckd\",\"ckd\",\"ckd\",\"ckd\",\"ckd\",\"ckd\",\"ckd\",\"ckd\",\"ckd\",\"ckd\",\"ckd\",\"ckd\",\"ckd\",\"ckd\",\"ckd\",\"ckd\",\"ckd\",\"ckd\",\"ckd\",\"ckd\",\"ckd\",\"ckd\",\"ckd\",\"ckd\",\"ckd\",\"ckd\",\"ckd\",\"ckd\",\"ckd\",\"ckd\",\"ckd\",\"ckd\",\"ckd\",\"ckd\",\"ckd\",\"ckd\",\"ckd\",\"ckd\",\"ckd\",\"ckd\",\"ckd\",\"ckd\",\"ckd\",\"ckd\",\"ckd\",\"ckd\",\"ckd\",\"ckd\",\"ckd\",\"ckd\",\"ckd\",\"ckd\",\"ckd\",\"ckd\",\"ckd\",\"ckd\",\"ckd\",\"ckd\",\"ckd\",\"ckd\",\"ckd\",\"ckd\",\"ckd\",\"ckd\",\"ckd\",\"ckd\",\"ckd\",\"ckd\",\"ckd\",\"ckd\",\"ckd\",\"ckd\",\"ckd\",\"ckd\",\"ckd\",\"ckd\",\"ckd\",\"ckd\",\"ckd\",\"ckd\",\"ckd\",\"ckd\",\"ckd\",\"ckd\",\"ckd\",\"ckd\",\"ckd\",\"ckd\",\"ckd\",\"ckd\",\"ckd\",\"ckd\",\"ckd\",\"ckd\",\"ckd\",\"ckd\",\"ckd\",\"ckd\",\"ckd\",\"ckd\",\"ckd\",\"ckd\",\"ckd\"],\"x0\":\" \",\"xaxis\":\"x\",\"y\":[44.0,38.0,31.0,32.0,35.0,39.0,36.0,44.0,33.0,29.0,28.0,32.0,28.0,null,16.0,24.0,null,null,37.0,30.0,24.0,32.0,32.0,null,39.0,29.0,35.0,37.0,null,38.0,null,30.0,34.0,29.0,null,36.0,32.0,28.0,null,40.0,32.0,null,33.0,24.0,28.0,null,37.0,45.0,29.0,29.0,28.0,33.0,34.0,40.0,40.0,28.0,30.0,null,33.0,null,null,null,33.0,27.0,null,48.0,null,null,37.0,52.0,44.0,28.0,null,14.0,29.0,null,36.0,34.0,30.0,40.0,31.0,29.0,null,null,22.0,null,null,32.0,null,null,40.0,52.0,33.0,30.0,36.0,null,36.0,32.0,18.0,32.0,null,33.0,52.0,36.0,null,42.0,17.0,34.0,37.0,null,34.0,32.0,33.0,null,null,44.0,null,37.0,null,null,null,46.0,null,42.0,28.0,null,37.0,35.0,23.0,null,22.0,36.0,24.0,37.0,33.0,39.0,null,29.0,null,33.0,null,19.0,null,null,33.0,24.0,null,25.0,null,32.0,41.0,30.0,32.0,22.0,26.0,36.0,null,39.0,31.0,35.0,35.0,42.0,37.0,27.0,40.0,null,null,42.0,39.0,27.0,33.0,26.0,34.0,41.0,35.0,null,23.0,41.0,34.0,39.0,28.0,30.0,35.0,null,31.0,34.0,null,34.0,38.0,29.0,30.0,26.0,null,15.0,null,null,24.0,null,30.0,25.0,37.0,21.0,24.0,null,31.0,43.0,41.0,41.0,41.0,null,20.0,null,31.0,34.0,43.0,null,38.0,36.0,34.0,28.0,36.0,null,null,38.0,null,35.0,26.0,36.0,null,31.0,null,35.0,null,null,44.0,26.0,25.0,40.0,28.0,39.0,36.0,31.0,28.0,47.0,40.0,19.0,26.0,null,37.0,9.0],\"y0\":\" \",\"yaxis\":\"y\",\"type\":\"violin\"},{\"alignmentgroup\":\"True\",\"box\":{\"visible\":false},\"hovertemplate\":\"class=%{x}<br>packed cell volume=%{y}<extra></extra>\",\"legendgroup\":\"notckd\",\"marker\":{\"color\":\"#EF553B\"},\"name\":\"notckd\",\"offsetgroup\":\"notckd\",\"orientation\":\"v\",\"scalegroup\":\"True\",\"showlegend\":true,\"x\":[\"notckd\",\"notckd\",\"notckd\",\"notckd\",\"notckd\",\"notckd\",\"notckd\",\"notckd\",\"notckd\",\"notckd\",\"notckd\",\"notckd\",\"notckd\",\"notckd\",\"notckd\",\"notckd\",\"notckd\",\"notckd\",\"notckd\",\"notckd\",\"notckd\",\"notckd\",\"notckd\",\"notckd\",\"notckd\",\"notckd\",\"notckd\",\"notckd\",\"notckd\",\"notckd\",\"notckd\",\"notckd\",\"notckd\",\"notckd\",\"notckd\",\"notckd\",\"notckd\",\"notckd\",\"notckd\",\"notckd\",\"notckd\",\"notckd\",\"notckd\",\"notckd\",\"notckd\",\"notckd\",\"notckd\",\"notckd\",\"notckd\",\"notckd\",\"notckd\",\"notckd\",\"notckd\",\"notckd\",\"notckd\",\"notckd\",\"notckd\",\"notckd\",\"notckd\",\"notckd\",\"notckd\",\"notckd\",\"notckd\",\"notckd\",\"notckd\",\"notckd\",\"notckd\",\"notckd\",\"notckd\",\"notckd\",\"notckd\",\"notckd\",\"notckd\",\"notckd\",\"notckd\",\"notckd\",\"notckd\",\"notckd\",\"notckd\",\"notckd\",\"notckd\",\"notckd\",\"notckd\",\"notckd\",\"notckd\",\"notckd\",\"notckd\",\"notckd\",\"notckd\",\"notckd\",\"notckd\",\"notckd\",\"notckd\",\"notckd\",\"notckd\",\"notckd\",\"notckd\",\"notckd\",\"notckd\",\"notckd\",\"notckd\",\"notckd\",\"notckd\",\"notckd\",\"notckd\",\"notckd\",\"notckd\",\"notckd\",\"notckd\",\"notckd\",\"notckd\",\"notckd\",\"notckd\",\"notckd\",\"notckd\",\"notckd\",\"notckd\",\"notckd\",\"notckd\",\"notckd\",\"notckd\",\"notckd\",\"notckd\",\"notckd\",\"notckd\",\"notckd\",\"notckd\",\"notckd\",\"notckd\",\"notckd\",\"notckd\",\"notckd\",\"notckd\",\"notckd\",\"notckd\",\"notckd\",\"notckd\",\"notckd\",\"notckd\",\"notckd\",\"notckd\",\"notckd\",\"notckd\",\"notckd\",\"notckd\",\"notckd\",\"notckd\",\"notckd\",\"notckd\",\"notckd\"],\"x0\":\" \",\"xaxis\":\"x\",\"y\":[48.0,52.0,46.0,42.0,49.0,52.0,41.0,46.0,44.0,45.0,45.0,41.0,43.0,45.0,50.0,48.0,41.0,48.0,53.0,48.0,41.0,42.0,42.0,null,44.0,43.0,41.0,50.0,44.0,48.0,52.0,41.0,44.0,43.0,52.0,41.0,44.0,43.0,50.0,43.0,52.0,41.0,52.0,48.0,40.0,50.0,41.0,45.0,48.0,52.0,43.0,41.0,48.0,50.0,45.0,41.0,52.0,44.0,48.0,40.0,44.0,45.0,48.0,52.0,41.0,48.0,48.0,40.0,52.0,null,44.0,48.0,43.0,45.0,null,50.0,41.0,44.0,45.0,48.0,42.0,46.0,44.0,46.0,43.0,48.0,40.0,52.0,44.0,48.0,43.0,41.0,50.0,50.0,42.0,42.0,52.0,43.0,44.0,52.0,43.0,40.0,48.0,51.0,41.0,52.0,47.0,42.0,45.0,53.0,43.0,54.0,40.0,44.0,45.0,null,46.0,50.0,45.0,46.0,50.0,51.0,52.0,47.0,40.0,48.0,53.0,49.0,42.0,50.0,54.0,40.0,51.0,49.0,42.0,52.0,43.0,50.0,46.0,52.0,52.0,44.0,46.0,54.0,45.0,47.0,54.0,49.0,51.0,53.0],\"y0\":\" \",\"yaxis\":\"y\",\"type\":\"violin\"}],                        {\"template\":{\"data\":{\"histogram2dcontour\":[{\"type\":\"histogram2dcontour\",\"colorbar\":{\"outlinewidth\":0,\"ticks\":\"\"},\"colorscale\":[[0.0,\"#0d0887\"],[0.1111111111111111,\"#46039f\"],[0.2222222222222222,\"#7201a8\"],[0.3333333333333333,\"#9c179e\"],[0.4444444444444444,\"#bd3786\"],[0.5555555555555556,\"#d8576b\"],[0.6666666666666666,\"#ed7953\"],[0.7777777777777778,\"#fb9f3a\"],[0.8888888888888888,\"#fdca26\"],[1.0,\"#f0f921\"]]}],\"choropleth\":[{\"type\":\"choropleth\",\"colorbar\":{\"outlinewidth\":0,\"ticks\":\"\"}}],\"histogram2d\":[{\"type\":\"histogram2d\",\"colorbar\":{\"outlinewidth\":0,\"ticks\":\"\"},\"colorscale\":[[0.0,\"#0d0887\"],[0.1111111111111111,\"#46039f\"],[0.2222222222222222,\"#7201a8\"],[0.3333333333333333,\"#9c179e\"],[0.4444444444444444,\"#bd3786\"],[0.5555555555555556,\"#d8576b\"],[0.6666666666666666,\"#ed7953\"],[0.7777777777777778,\"#fb9f3a\"],[0.8888888888888888,\"#fdca26\"],[1.0,\"#f0f921\"]]}],\"heatmap\":[{\"type\":\"heatmap\",\"colorbar\":{\"outlinewidth\":0,\"ticks\":\"\"},\"colorscale\":[[0.0,\"#0d0887\"],[0.1111111111111111,\"#46039f\"],[0.2222222222222222,\"#7201a8\"],[0.3333333333333333,\"#9c179e\"],[0.4444444444444444,\"#bd3786\"],[0.5555555555555556,\"#d8576b\"],[0.6666666666666666,\"#ed7953\"],[0.7777777777777778,\"#fb9f3a\"],[0.8888888888888888,\"#fdca26\"],[1.0,\"#f0f921\"]]}],\"heatmapgl\":[{\"type\":\"heatmapgl\",\"colorbar\":{\"outlinewidth\":0,\"ticks\":\"\"},\"colorscale\":[[0.0,\"#0d0887\"],[0.1111111111111111,\"#46039f\"],[0.2222222222222222,\"#7201a8\"],[0.3333333333333333,\"#9c179e\"],[0.4444444444444444,\"#bd3786\"],[0.5555555555555556,\"#d8576b\"],[0.6666666666666666,\"#ed7953\"],[0.7777777777777778,\"#fb9f3a\"],[0.8888888888888888,\"#fdca26\"],[1.0,\"#f0f921\"]]}],\"contourcarpet\":[{\"type\":\"contourcarpet\",\"colorbar\":{\"outlinewidth\":0,\"ticks\":\"\"}}],\"contour\":[{\"type\":\"contour\",\"colorbar\":{\"outlinewidth\":0,\"ticks\":\"\"},\"colorscale\":[[0.0,\"#0d0887\"],[0.1111111111111111,\"#46039f\"],[0.2222222222222222,\"#7201a8\"],[0.3333333333333333,\"#9c179e\"],[0.4444444444444444,\"#bd3786\"],[0.5555555555555556,\"#d8576b\"],[0.6666666666666666,\"#ed7953\"],[0.7777777777777778,\"#fb9f3a\"],[0.8888888888888888,\"#fdca26\"],[1.0,\"#f0f921\"]]}],\"surface\":[{\"type\":\"surface\",\"colorbar\":{\"outlinewidth\":0,\"ticks\":\"\"},\"colorscale\":[[0.0,\"#0d0887\"],[0.1111111111111111,\"#46039f\"],[0.2222222222222222,\"#7201a8\"],[0.3333333333333333,\"#9c179e\"],[0.4444444444444444,\"#bd3786\"],[0.5555555555555556,\"#d8576b\"],[0.6666666666666666,\"#ed7953\"],[0.7777777777777778,\"#fb9f3a\"],[0.8888888888888888,\"#fdca26\"],[1.0,\"#f0f921\"]]}],\"mesh3d\":[{\"type\":\"mesh3d\",\"colorbar\":{\"outlinewidth\":0,\"ticks\":\"\"}}],\"scatter\":[{\"fillpattern\":{\"fillmode\":\"overlay\",\"size\":10,\"solidity\":0.2},\"type\":\"scatter\"}],\"parcoords\":[{\"type\":\"parcoords\",\"line\":{\"colorbar\":{\"outlinewidth\":0,\"ticks\":\"\"}}}],\"scatterpolargl\":[{\"type\":\"scatterpolargl\",\"marker\":{\"colorbar\":{\"outlinewidth\":0,\"ticks\":\"\"}}}],\"bar\":[{\"error_x\":{\"color\":\"#2a3f5f\"},\"error_y\":{\"color\":\"#2a3f5f\"},\"marker\":{\"line\":{\"color\":\"#E5ECF6\",\"width\":0.5},\"pattern\":{\"fillmode\":\"overlay\",\"size\":10,\"solidity\":0.2}},\"type\":\"bar\"}],\"scattergeo\":[{\"type\":\"scattergeo\",\"marker\":{\"colorbar\":{\"outlinewidth\":0,\"ticks\":\"\"}}}],\"scatterpolar\":[{\"type\":\"scatterpolar\",\"marker\":{\"colorbar\":{\"outlinewidth\":0,\"ticks\":\"\"}}}],\"histogram\":[{\"marker\":{\"pattern\":{\"fillmode\":\"overlay\",\"size\":10,\"solidity\":0.2}},\"type\":\"histogram\"}],\"scattergl\":[{\"type\":\"scattergl\",\"marker\":{\"colorbar\":{\"outlinewidth\":0,\"ticks\":\"\"}}}],\"scatter3d\":[{\"type\":\"scatter3d\",\"line\":{\"colorbar\":{\"outlinewidth\":0,\"ticks\":\"\"}},\"marker\":{\"colorbar\":{\"outlinewidth\":0,\"ticks\":\"\"}}}],\"scattermapbox\":[{\"type\":\"scattermapbox\",\"marker\":{\"colorbar\":{\"outlinewidth\":0,\"ticks\":\"\"}}}],\"scatterternary\":[{\"type\":\"scatterternary\",\"marker\":{\"colorbar\":{\"outlinewidth\":0,\"ticks\":\"\"}}}],\"scattercarpet\":[{\"type\":\"scattercarpet\",\"marker\":{\"colorbar\":{\"outlinewidth\":0,\"ticks\":\"\"}}}],\"carpet\":[{\"aaxis\":{\"endlinecolor\":\"#2a3f5f\",\"gridcolor\":\"white\",\"linecolor\":\"white\",\"minorgridcolor\":\"white\",\"startlinecolor\":\"#2a3f5f\"},\"baxis\":{\"endlinecolor\":\"#2a3f5f\",\"gridcolor\":\"white\",\"linecolor\":\"white\",\"minorgridcolor\":\"white\",\"startlinecolor\":\"#2a3f5f\"},\"type\":\"carpet\"}],\"table\":[{\"cells\":{\"fill\":{\"color\":\"#EBF0F8\"},\"line\":{\"color\":\"white\"}},\"header\":{\"fill\":{\"color\":\"#C8D4E3\"},\"line\":{\"color\":\"white\"}},\"type\":\"table\"}],\"barpolar\":[{\"marker\":{\"line\":{\"color\":\"#E5ECF6\",\"width\":0.5},\"pattern\":{\"fillmode\":\"overlay\",\"size\":10,\"solidity\":0.2}},\"type\":\"barpolar\"}],\"pie\":[{\"automargin\":true,\"type\":\"pie\"}]},\"layout\":{\"autotypenumbers\":\"strict\",\"colorway\":[\"#636efa\",\"#EF553B\",\"#00cc96\",\"#ab63fa\",\"#FFA15A\",\"#19d3f3\",\"#FF6692\",\"#B6E880\",\"#FF97FF\",\"#FECB52\"],\"font\":{\"color\":\"#2a3f5f\"},\"hovermode\":\"closest\",\"hoverlabel\":{\"align\":\"left\"},\"paper_bgcolor\":\"white\",\"plot_bgcolor\":\"#E5ECF6\",\"polar\":{\"bgcolor\":\"#E5ECF6\",\"angularaxis\":{\"gridcolor\":\"white\",\"linecolor\":\"white\",\"ticks\":\"\"},\"radialaxis\":{\"gridcolor\":\"white\",\"linecolor\":\"white\",\"ticks\":\"\"}},\"ternary\":{\"bgcolor\":\"#E5ECF6\",\"aaxis\":{\"gridcolor\":\"white\",\"linecolor\":\"white\",\"ticks\":\"\"},\"baxis\":{\"gridcolor\":\"white\",\"linecolor\":\"white\",\"ticks\":\"\"},\"caxis\":{\"gridcolor\":\"white\",\"linecolor\":\"white\",\"ticks\":\"\"}},\"coloraxis\":{\"colorbar\":{\"outlinewidth\":0,\"ticks\":\"\"}},\"colorscale\":{\"sequential\":[[0.0,\"#0d0887\"],[0.1111111111111111,\"#46039f\"],[0.2222222222222222,\"#7201a8\"],[0.3333333333333333,\"#9c179e\"],[0.4444444444444444,\"#bd3786\"],[0.5555555555555556,\"#d8576b\"],[0.6666666666666666,\"#ed7953\"],[0.7777777777777778,\"#fb9f3a\"],[0.8888888888888888,\"#fdca26\"],[1.0,\"#f0f921\"]],\"sequentialminus\":[[0.0,\"#0d0887\"],[0.1111111111111111,\"#46039f\"],[0.2222222222222222,\"#7201a8\"],[0.3333333333333333,\"#9c179e\"],[0.4444444444444444,\"#bd3786\"],[0.5555555555555556,\"#d8576b\"],[0.6666666666666666,\"#ed7953\"],[0.7777777777777778,\"#fb9f3a\"],[0.8888888888888888,\"#fdca26\"],[1.0,\"#f0f921\"]],\"diverging\":[[0,\"#8e0152\"],[0.1,\"#c51b7d\"],[0.2,\"#de77ae\"],[0.3,\"#f1b6da\"],[0.4,\"#fde0ef\"],[0.5,\"#f7f7f7\"],[0.6,\"#e6f5d0\"],[0.7,\"#b8e186\"],[0.8,\"#7fbc41\"],[0.9,\"#4d9221\"],[1,\"#276419\"]]},\"xaxis\":{\"gridcolor\":\"white\",\"linecolor\":\"white\",\"ticks\":\"\",\"title\":{\"standoff\":15},\"zerolinecolor\":\"white\",\"automargin\":true,\"zerolinewidth\":2},\"yaxis\":{\"gridcolor\":\"white\",\"linecolor\":\"white\",\"ticks\":\"\",\"title\":{\"standoff\":15},\"zerolinecolor\":\"white\",\"automargin\":true,\"zerolinewidth\":2},\"scene\":{\"xaxis\":{\"backgroundcolor\":\"#E5ECF6\",\"gridcolor\":\"white\",\"linecolor\":\"white\",\"showbackground\":true,\"ticks\":\"\",\"zerolinecolor\":\"white\",\"gridwidth\":2},\"yaxis\":{\"backgroundcolor\":\"#E5ECF6\",\"gridcolor\":\"white\",\"linecolor\":\"white\",\"showbackground\":true,\"ticks\":\"\",\"zerolinecolor\":\"white\",\"gridwidth\":2},\"zaxis\":{\"backgroundcolor\":\"#E5ECF6\",\"gridcolor\":\"white\",\"linecolor\":\"white\",\"showbackground\":true,\"ticks\":\"\",\"zerolinecolor\":\"white\",\"gridwidth\":2}},\"shapedefaults\":{\"line\":{\"color\":\"#2a3f5f\"}},\"annotationdefaults\":{\"arrowcolor\":\"#2a3f5f\",\"arrowhead\":0,\"arrowwidth\":1},\"geo\":{\"bgcolor\":\"white\",\"landcolor\":\"#E5ECF6\",\"subunitcolor\":\"white\",\"showland\":true,\"showlakes\":true,\"lakecolor\":\"white\"},\"title\":{\"x\":0.05},\"mapbox\":{\"style\":\"light\"}}},\"xaxis\":{\"anchor\":\"y\",\"domain\":[0.0,1.0],\"title\":{\"text\":\"class\"},\"categoryorder\":\"array\",\"categoryarray\":[\"ckd\",\"notckd\"]},\"yaxis\":{\"anchor\":\"x\",\"domain\":[0.0,1.0],\"title\":{\"text\":\"packed cell volume\"}},\"legend\":{\"title\":{\"text\":\"class\"},\"tracegroupgap\":0},\"margin\":{\"t\":60},\"violinmode\":\"overlay\"},                        {\"responsive\": true}                    ).then(function(){\n",
       "                            \n",
       "var gd = document.getElementById('1a4b697c-35ee-4583-bf1d-905e1cf887c7');\n",
       "var x = new MutationObserver(function (mutations, observer) {{\n",
       "        var display = window.getComputedStyle(gd).display;\n",
       "        if (!display || display === 'none') {{\n",
       "            console.log([gd, 'removed!']);\n",
       "            Plotly.purge(gd);\n",
       "            observer.disconnect();\n",
       "        }}\n",
       "}});\n",
       "\n",
       "// Listen for the removal of the full notebook cells\n",
       "var notebookContainer = gd.closest('#notebook-container');\n",
       "if (notebookContainer) {{\n",
       "    x.observe(notebookContainer, {childList: true});\n",
       "}}\n",
       "\n",
       "// Listen for the clearing of the current output cell\n",
       "var outputEl = gd.closest('.output');\n",
       "if (outputEl) {{\n",
       "    x.observe(outputEl, {childList: true});\n",
       "}}\n",
       "\n",
       "                        })                };                });            </script>        </div>"
      ]
     },
     "metadata": {},
     "output_type": "display_data"
    }
   ],
   "source": [
    "violen('packed cell volume')"
   ]
  },
  {
   "cell_type": "code",
   "execution_count": 218,
   "id": "0049ed7e",
   "metadata": {},
   "outputs": [
    {
     "data": {
      "text/plain": [
       "red blood cells            152\n",
       "red blood cell count       131\n",
       "white blood cell count     106\n",
       "potassium                   88\n",
       "sodium                      87\n",
       "packed cell volume          71\n",
       " pus cell                   65\n",
       "haemoglobin                 52\n",
       "sugar                       49\n",
       "specific gravity            47\n",
       "albumin                     46\n",
       "blood glucose random        44\n",
       "blood urea                  19\n",
       "serum creatinine            17\n",
       "blood pressure              12\n",
       "age                          9\n",
       "bacteria                     4\n",
       "pus cell clumps              4\n",
       "ypertension                  2\n",
       "diabetes mellitus            2\n",
       "coronary artery disease      2\n",
       "appetite                     1\n",
       "pedal edema                  1\n",
       "anemia                       1\n",
       "class                        0\n",
       "dtype: int64"
      ]
     },
     "execution_count": 218,
     "metadata": {},
     "output_type": "execute_result"
    }
   ],
   "source": [
    "df.isna().sum().sort_values(ascending=False)   # No. of missing values in each column\n"
   ]
  },
  {
   "cell_type": "code",
   "execution_count": 221,
   "id": "a7753086",
   "metadata": {},
   "outputs": [],
   "source": [
    "def fillnull(feature):         #Random Sample Value filler function\n",
    "    data = df.copy()\n",
    "    random_sample = data[feature].dropna().sample(data[feature].isna().sum())\n",
    "    random_sample.index = data[data[feature].isna()].index\n",
    "    data.loc[data[feature].isnull(), feature] = random_sample\n",
    "    \n",
    "    return data"
   ]
  },
  {
   "cell_type": "code",
   "execution_count": 38,
   "id": "898d2be2",
   "metadata": {},
   "outputs": [],
   "source": [
    "#random_sample = data['red blood cells'].dropna().sample(data['red blood cells'].isna().sum())\n",
    "#rand_sample"
   ]
  },
  {
   "cell_type": "code",
   "execution_count": 39,
   "id": "a43db486",
   "metadata": {},
   "outputs": [],
   "source": [
    "#data[data['red blood cells'].isna()].index"
   ]
  },
  {
   "cell_type": "code",
   "execution_count": 40,
   "id": "c11b6958",
   "metadata": {},
   "outputs": [],
   "source": [
    "#random_sample.index = data[data['red blood cells'].isna()].index\n",
    "#random_sample.index"
   ]
  },
  {
   "cell_type": "code",
   "execution_count": 42,
   "id": "62114334",
   "metadata": {},
   "outputs": [],
   "source": [
    "#data.loc[data['red blood cells'].isnull(), 'red blood cells'] = random_sample"
   ]
  },
  {
   "cell_type": "code",
   "execution_count": null,
   "id": "fab28676",
   "metadata": {},
   "outputs": [],
   "source": [
    "#data['red blood cells'].isna().sum()"
   ]
  },
  {
   "cell_type": "code",
   "execution_count": 222,
   "id": "acc45fe4",
   "metadata": {},
   "outputs": [],
   "source": [
    "for i,feature in enumerate(df.columns):\n",
    "    df = fillnull(feature)"
   ]
  },
  {
   "cell_type": "code",
   "execution_count": 223,
   "id": "5b7a382f",
   "metadata": {},
   "outputs": [
    {
     "data": {
      "text/plain": [
       "age                        0\n",
       "blood pressure             0\n",
       "specific gravity           0\n",
       "albumin                    0\n",
       "sugar                      0\n",
       "red blood cells            0\n",
       " pus cell                  0\n",
       "pus cell clumps            0\n",
       "bacteria                   0\n",
       "blood glucose random       0\n",
       "blood urea                 0\n",
       "serum creatinine           0\n",
       "sodium                     0\n",
       "potassium                  0\n",
       "haemoglobin                0\n",
       "packed cell volume         0\n",
       "white blood cell count     0\n",
       "red blood cell count       0\n",
       "ypertension                0\n",
       "diabetes mellitus          0\n",
       "coronary artery disease    0\n",
       "appetite                   0\n",
       "pedal edema                0\n",
       "anemia                     0\n",
       "class                      0\n",
       "dtype: int64"
      ]
     },
     "execution_count": 223,
     "metadata": {},
     "output_type": "execute_result"
    }
   ],
   "source": [
    "df.isna().sum() "
   ]
  },
  {
   "cell_type": "code",
   "execution_count": 224,
   "id": "0c2594e0",
   "metadata": {},
   "outputs": [
    {
     "name": "stdout",
     "output_type": "stream",
     "text": [
      "red blood cells has ['normal' 'abnormal']\n",
      "\n",
      "\n",
      " pus cell has ['normal' 'abnormal']\n",
      "\n",
      "\n",
      "pus cell clumps has ['notpresent' 'present']\n",
      "\n",
      "\n",
      "bacteria has ['notpresent' 'present']\n",
      "\n",
      "\n",
      "ypertension has ['yes' 'no']\n",
      "\n",
      "\n",
      "diabetes mellitus has ['yes' 'no' ' yes']\n",
      "\n",
      "\n",
      "coronary artery disease has ['no' 'yes']\n",
      "\n",
      "\n",
      "appetite has ['good' 'poor']\n",
      "\n",
      "\n",
      "pedal edema has ['no' 'yes']\n",
      "\n",
      "\n",
      "anemia has ['no' 'yes']\n",
      "\n",
      "\n",
      "class has ['ckd' 'notckd']\n",
      "\n",
      "\n"
     ]
    }
   ],
   "source": [
    "for col in cat_col:\n",
    "    print(\"{} has {}\".format(col,df[col].unique()) )\n",
    "    print(\"\\n\")"
   ]
  },
  {
   "cell_type": "code",
   "execution_count": null,
   "id": "7c8c9496",
   "metadata": {},
   "outputs": [],
   "source": [
    "#Label encoding\n",
    "#normal = 0\n",
    "#abnormal = 1"
   ]
  },
  {
   "cell_type": "code",
   "execution_count": 225,
   "id": "4b583dff",
   "metadata": {},
   "outputs": [],
   "source": [
    "from sklearn.preprocessing import LabelEncoder"
   ]
  },
  {
   "cell_type": "code",
   "execution_count": 226,
   "id": "43bd97f5",
   "metadata": {},
   "outputs": [],
   "source": [
    "for col in cat_col:\n",
    "    df[col] = LabelEncoder().fit_transform(df[col])"
   ]
  },
  {
   "cell_type": "code",
   "execution_count": 230,
   "id": "c314ec71",
   "metadata": {},
   "outputs": [
    {
     "data": {
      "text/html": [
       "<div>\n",
       "<style scoped>\n",
       "    .dataframe tbody tr th:only-of-type {\n",
       "        vertical-align: middle;\n",
       "    }\n",
       "\n",
       "    .dataframe tbody tr th {\n",
       "        vertical-align: top;\n",
       "    }\n",
       "\n",
       "    .dataframe thead th {\n",
       "        text-align: right;\n",
       "    }\n",
       "</style>\n",
       "<table border=\"1\" class=\"dataframe\">\n",
       "  <thead>\n",
       "    <tr style=\"text-align: right;\">\n",
       "      <th></th>\n",
       "      <th>age</th>\n",
       "      <th>blood pressure</th>\n",
       "      <th>specific gravity</th>\n",
       "      <th>albumin</th>\n",
       "      <th>sugar</th>\n",
       "      <th>red blood cells</th>\n",
       "      <th>pus cell</th>\n",
       "      <th>pus cell clumps</th>\n",
       "      <th>bacteria</th>\n",
       "      <th>blood glucose random</th>\n",
       "      <th>...</th>\n",
       "      <th>packed cell volume</th>\n",
       "      <th>white blood cell count</th>\n",
       "      <th>red blood cell count</th>\n",
       "      <th>ypertension</th>\n",
       "      <th>diabetes mellitus</th>\n",
       "      <th>coronary artery disease</th>\n",
       "      <th>appetite</th>\n",
       "      <th>pedal edema</th>\n",
       "      <th>anemia</th>\n",
       "      <th>class</th>\n",
       "    </tr>\n",
       "  </thead>\n",
       "  <tbody>\n",
       "    <tr>\n",
       "      <th>0</th>\n",
       "      <td>48.0</td>\n",
       "      <td>80.0</td>\n",
       "      <td>1.020</td>\n",
       "      <td>1.0</td>\n",
       "      <td>0.0</td>\n",
       "      <td>1</td>\n",
       "      <td>1</td>\n",
       "      <td>0</td>\n",
       "      <td>0</td>\n",
       "      <td>121.0</td>\n",
       "      <td>...</td>\n",
       "      <td>44.0</td>\n",
       "      <td>7800.0</td>\n",
       "      <td>5.2</td>\n",
       "      <td>1</td>\n",
       "      <td>2</td>\n",
       "      <td>0</td>\n",
       "      <td>0</td>\n",
       "      <td>0</td>\n",
       "      <td>0</td>\n",
       "      <td>0</td>\n",
       "    </tr>\n",
       "    <tr>\n",
       "      <th>1</th>\n",
       "      <td>7.0</td>\n",
       "      <td>50.0</td>\n",
       "      <td>1.020</td>\n",
       "      <td>4.0</td>\n",
       "      <td>0.0</td>\n",
       "      <td>1</td>\n",
       "      <td>1</td>\n",
       "      <td>0</td>\n",
       "      <td>0</td>\n",
       "      <td>219.0</td>\n",
       "      <td>...</td>\n",
       "      <td>38.0</td>\n",
       "      <td>6000.0</td>\n",
       "      <td>4.6</td>\n",
       "      <td>0</td>\n",
       "      <td>1</td>\n",
       "      <td>0</td>\n",
       "      <td>0</td>\n",
       "      <td>0</td>\n",
       "      <td>0</td>\n",
       "      <td>0</td>\n",
       "    </tr>\n",
       "    <tr>\n",
       "      <th>2</th>\n",
       "      <td>62.0</td>\n",
       "      <td>80.0</td>\n",
       "      <td>1.010</td>\n",
       "      <td>2.0</td>\n",
       "      <td>3.0</td>\n",
       "      <td>1</td>\n",
       "      <td>1</td>\n",
       "      <td>0</td>\n",
       "      <td>0</td>\n",
       "      <td>423.0</td>\n",
       "      <td>...</td>\n",
       "      <td>31.0</td>\n",
       "      <td>7500.0</td>\n",
       "      <td>5.3</td>\n",
       "      <td>0</td>\n",
       "      <td>2</td>\n",
       "      <td>0</td>\n",
       "      <td>1</td>\n",
       "      <td>0</td>\n",
       "      <td>1</td>\n",
       "      <td>0</td>\n",
       "    </tr>\n",
       "    <tr>\n",
       "      <th>3</th>\n",
       "      <td>48.0</td>\n",
       "      <td>70.0</td>\n",
       "      <td>1.005</td>\n",
       "      <td>4.0</td>\n",
       "      <td>0.0</td>\n",
       "      <td>1</td>\n",
       "      <td>0</td>\n",
       "      <td>1</td>\n",
       "      <td>0</td>\n",
       "      <td>117.0</td>\n",
       "      <td>...</td>\n",
       "      <td>32.0</td>\n",
       "      <td>6700.0</td>\n",
       "      <td>3.9</td>\n",
       "      <td>1</td>\n",
       "      <td>1</td>\n",
       "      <td>0</td>\n",
       "      <td>1</td>\n",
       "      <td>1</td>\n",
       "      <td>1</td>\n",
       "      <td>0</td>\n",
       "    </tr>\n",
       "    <tr>\n",
       "      <th>4</th>\n",
       "      <td>51.0</td>\n",
       "      <td>80.0</td>\n",
       "      <td>1.010</td>\n",
       "      <td>2.0</td>\n",
       "      <td>0.0</td>\n",
       "      <td>1</td>\n",
       "      <td>1</td>\n",
       "      <td>0</td>\n",
       "      <td>0</td>\n",
       "      <td>106.0</td>\n",
       "      <td>...</td>\n",
       "      <td>35.0</td>\n",
       "      <td>7300.0</td>\n",
       "      <td>4.6</td>\n",
       "      <td>0</td>\n",
       "      <td>1</td>\n",
       "      <td>0</td>\n",
       "      <td>0</td>\n",
       "      <td>0</td>\n",
       "      <td>0</td>\n",
       "      <td>0</td>\n",
       "    </tr>\n",
       "  </tbody>\n",
       "</table>\n",
       "<p>5 rows × 25 columns</p>\n",
       "</div>"
      ],
      "text/plain": [
       "    age  blood pressure  specific gravity  albumin  sugar  red blood cells  \\\n",
       "0  48.0            80.0             1.020      1.0    0.0                1   \n",
       "1   7.0            50.0             1.020      4.0    0.0                1   \n",
       "2  62.0            80.0             1.010      2.0    3.0                1   \n",
       "3  48.0            70.0             1.005      4.0    0.0                1   \n",
       "4  51.0            80.0             1.010      2.0    0.0                1   \n",
       "\n",
       "    pus cell  pus cell clumps  bacteria  blood glucose random  ...  \\\n",
       "0          1                0         0                 121.0  ...   \n",
       "1          1                0         0                 219.0  ...   \n",
       "2          1                0         0                 423.0  ...   \n",
       "3          0                1         0                 117.0  ...   \n",
       "4          1                0         0                 106.0  ...   \n",
       "\n",
       "   packed cell volume  white blood cell count  red blood cell count  \\\n",
       "0                44.0                  7800.0                   5.2   \n",
       "1                38.0                  6000.0                   4.6   \n",
       "2                31.0                  7500.0                   5.3   \n",
       "3                32.0                  6700.0                   3.9   \n",
       "4                35.0                  7300.0                   4.6   \n",
       "\n",
       "   ypertension  diabetes mellitus  coronary artery disease  appetite  \\\n",
       "0            1                  2                        0         0   \n",
       "1            0                  1                        0         0   \n",
       "2            0                  2                        0         1   \n",
       "3            1                  1                        0         1   \n",
       "4            0                  1                        0         0   \n",
       "\n",
       "   pedal edema  anemia  class  \n",
       "0            0       0      0  \n",
       "1            0       0      0  \n",
       "2            0       1      0  \n",
       "3            1       1      0  \n",
       "4            0       0      0  \n",
       "\n",
       "[5 rows x 25 columns]"
      ]
     },
     "execution_count": 230,
     "metadata": {},
     "output_type": "execute_result"
    }
   ],
   "source": [
    "df.head()"
   ]
  },
  {
   "cell_type": "code",
   "execution_count": 231,
   "id": "015bd5d7",
   "metadata": {},
   "outputs": [],
   "source": [
    "from sklearn.feature_selection import SelectKBest  #Selecting the best 'K' features out of 'N' features\n",
    "from sklearn.feature_selection import chi2"
   ]
  },
  {
   "cell_type": "code",
   "execution_count": 234,
   "id": "b400a94b",
   "metadata": {},
   "outputs": [],
   "source": [
    "#X = df.drop('class', axis = 1)       #Independent Features\n",
    "#Y = df['class'] #Dependent Features\n",
    "ind_col=[col for col in df.columns if col!='class']\n",
    "dep_col='class'\n",
    "X=df[ind_col]\n",
    "Y=df[dep_col]"
   ]
  },
  {
   "cell_type": "code",
   "execution_count": 235,
   "id": "37814d20",
   "metadata": {},
   "outputs": [
    {
     "data": {
      "text/html": [
       "<div>\n",
       "<style scoped>\n",
       "    .dataframe tbody tr th:only-of-type {\n",
       "        vertical-align: middle;\n",
       "    }\n",
       "\n",
       "    .dataframe tbody tr th {\n",
       "        vertical-align: top;\n",
       "    }\n",
       "\n",
       "    .dataframe thead th {\n",
       "        text-align: right;\n",
       "    }\n",
       "</style>\n",
       "<table border=\"1\" class=\"dataframe\">\n",
       "  <thead>\n",
       "    <tr style=\"text-align: right;\">\n",
       "      <th></th>\n",
       "      <th>age</th>\n",
       "      <th>blood pressure</th>\n",
       "      <th>specific gravity</th>\n",
       "      <th>albumin</th>\n",
       "      <th>sugar</th>\n",
       "      <th>red blood cells</th>\n",
       "      <th>pus cell</th>\n",
       "      <th>pus cell clumps</th>\n",
       "      <th>bacteria</th>\n",
       "      <th>blood glucose random</th>\n",
       "      <th>...</th>\n",
       "      <th>haemoglobin</th>\n",
       "      <th>packed cell volume</th>\n",
       "      <th>white blood cell count</th>\n",
       "      <th>red blood cell count</th>\n",
       "      <th>ypertension</th>\n",
       "      <th>diabetes mellitus</th>\n",
       "      <th>coronary artery disease</th>\n",
       "      <th>appetite</th>\n",
       "      <th>pedal edema</th>\n",
       "      <th>anemia</th>\n",
       "    </tr>\n",
       "  </thead>\n",
       "  <tbody>\n",
       "    <tr>\n",
       "      <th>0</th>\n",
       "      <td>48.0</td>\n",
       "      <td>80.0</td>\n",
       "      <td>1.020</td>\n",
       "      <td>1.0</td>\n",
       "      <td>0.0</td>\n",
       "      <td>1</td>\n",
       "      <td>1</td>\n",
       "      <td>0</td>\n",
       "      <td>0</td>\n",
       "      <td>121.0</td>\n",
       "      <td>...</td>\n",
       "      <td>15.4</td>\n",
       "      <td>44.0</td>\n",
       "      <td>7800.0</td>\n",
       "      <td>5.2</td>\n",
       "      <td>1</td>\n",
       "      <td>2</td>\n",
       "      <td>0</td>\n",
       "      <td>0</td>\n",
       "      <td>0</td>\n",
       "      <td>0</td>\n",
       "    </tr>\n",
       "    <tr>\n",
       "      <th>1</th>\n",
       "      <td>7.0</td>\n",
       "      <td>50.0</td>\n",
       "      <td>1.020</td>\n",
       "      <td>4.0</td>\n",
       "      <td>0.0</td>\n",
       "      <td>1</td>\n",
       "      <td>1</td>\n",
       "      <td>0</td>\n",
       "      <td>0</td>\n",
       "      <td>219.0</td>\n",
       "      <td>...</td>\n",
       "      <td>11.3</td>\n",
       "      <td>38.0</td>\n",
       "      <td>6000.0</td>\n",
       "      <td>4.6</td>\n",
       "      <td>0</td>\n",
       "      <td>1</td>\n",
       "      <td>0</td>\n",
       "      <td>0</td>\n",
       "      <td>0</td>\n",
       "      <td>0</td>\n",
       "    </tr>\n",
       "    <tr>\n",
       "      <th>2</th>\n",
       "      <td>62.0</td>\n",
       "      <td>80.0</td>\n",
       "      <td>1.010</td>\n",
       "      <td>2.0</td>\n",
       "      <td>3.0</td>\n",
       "      <td>1</td>\n",
       "      <td>1</td>\n",
       "      <td>0</td>\n",
       "      <td>0</td>\n",
       "      <td>423.0</td>\n",
       "      <td>...</td>\n",
       "      <td>9.6</td>\n",
       "      <td>31.0</td>\n",
       "      <td>7500.0</td>\n",
       "      <td>5.3</td>\n",
       "      <td>0</td>\n",
       "      <td>2</td>\n",
       "      <td>0</td>\n",
       "      <td>1</td>\n",
       "      <td>0</td>\n",
       "      <td>1</td>\n",
       "    </tr>\n",
       "    <tr>\n",
       "      <th>3</th>\n",
       "      <td>48.0</td>\n",
       "      <td>70.0</td>\n",
       "      <td>1.005</td>\n",
       "      <td>4.0</td>\n",
       "      <td>0.0</td>\n",
       "      <td>1</td>\n",
       "      <td>0</td>\n",
       "      <td>1</td>\n",
       "      <td>0</td>\n",
       "      <td>117.0</td>\n",
       "      <td>...</td>\n",
       "      <td>11.2</td>\n",
       "      <td>32.0</td>\n",
       "      <td>6700.0</td>\n",
       "      <td>3.9</td>\n",
       "      <td>1</td>\n",
       "      <td>1</td>\n",
       "      <td>0</td>\n",
       "      <td>1</td>\n",
       "      <td>1</td>\n",
       "      <td>1</td>\n",
       "    </tr>\n",
       "    <tr>\n",
       "      <th>4</th>\n",
       "      <td>51.0</td>\n",
       "      <td>80.0</td>\n",
       "      <td>1.010</td>\n",
       "      <td>2.0</td>\n",
       "      <td>0.0</td>\n",
       "      <td>1</td>\n",
       "      <td>1</td>\n",
       "      <td>0</td>\n",
       "      <td>0</td>\n",
       "      <td>106.0</td>\n",
       "      <td>...</td>\n",
       "      <td>11.6</td>\n",
       "      <td>35.0</td>\n",
       "      <td>7300.0</td>\n",
       "      <td>4.6</td>\n",
       "      <td>0</td>\n",
       "      <td>1</td>\n",
       "      <td>0</td>\n",
       "      <td>0</td>\n",
       "      <td>0</td>\n",
       "      <td>0</td>\n",
       "    </tr>\n",
       "    <tr>\n",
       "      <th>...</th>\n",
       "      <td>...</td>\n",
       "      <td>...</td>\n",
       "      <td>...</td>\n",
       "      <td>...</td>\n",
       "      <td>...</td>\n",
       "      <td>...</td>\n",
       "      <td>...</td>\n",
       "      <td>...</td>\n",
       "      <td>...</td>\n",
       "      <td>...</td>\n",
       "      <td>...</td>\n",
       "      <td>...</td>\n",
       "      <td>...</td>\n",
       "      <td>...</td>\n",
       "      <td>...</td>\n",
       "      <td>...</td>\n",
       "      <td>...</td>\n",
       "      <td>...</td>\n",
       "      <td>...</td>\n",
       "      <td>...</td>\n",
       "      <td>...</td>\n",
       "    </tr>\n",
       "    <tr>\n",
       "      <th>395</th>\n",
       "      <td>55.0</td>\n",
       "      <td>80.0</td>\n",
       "      <td>1.020</td>\n",
       "      <td>0.0</td>\n",
       "      <td>0.0</td>\n",
       "      <td>1</td>\n",
       "      <td>1</td>\n",
       "      <td>0</td>\n",
       "      <td>0</td>\n",
       "      <td>140.0</td>\n",
       "      <td>...</td>\n",
       "      <td>15.7</td>\n",
       "      <td>47.0</td>\n",
       "      <td>6700.0</td>\n",
       "      <td>4.9</td>\n",
       "      <td>0</td>\n",
       "      <td>1</td>\n",
       "      <td>0</td>\n",
       "      <td>0</td>\n",
       "      <td>0</td>\n",
       "      <td>0</td>\n",
       "    </tr>\n",
       "    <tr>\n",
       "      <th>396</th>\n",
       "      <td>42.0</td>\n",
       "      <td>70.0</td>\n",
       "      <td>1.025</td>\n",
       "      <td>0.0</td>\n",
       "      <td>0.0</td>\n",
       "      <td>1</td>\n",
       "      <td>1</td>\n",
       "      <td>0</td>\n",
       "      <td>0</td>\n",
       "      <td>75.0</td>\n",
       "      <td>...</td>\n",
       "      <td>16.5</td>\n",
       "      <td>54.0</td>\n",
       "      <td>7800.0</td>\n",
       "      <td>6.2</td>\n",
       "      <td>0</td>\n",
       "      <td>1</td>\n",
       "      <td>0</td>\n",
       "      <td>0</td>\n",
       "      <td>0</td>\n",
       "      <td>0</td>\n",
       "    </tr>\n",
       "    <tr>\n",
       "      <th>397</th>\n",
       "      <td>12.0</td>\n",
       "      <td>80.0</td>\n",
       "      <td>1.020</td>\n",
       "      <td>0.0</td>\n",
       "      <td>0.0</td>\n",
       "      <td>1</td>\n",
       "      <td>1</td>\n",
       "      <td>0</td>\n",
       "      <td>0</td>\n",
       "      <td>100.0</td>\n",
       "      <td>...</td>\n",
       "      <td>15.8</td>\n",
       "      <td>49.0</td>\n",
       "      <td>6600.0</td>\n",
       "      <td>5.4</td>\n",
       "      <td>0</td>\n",
       "      <td>1</td>\n",
       "      <td>0</td>\n",
       "      <td>0</td>\n",
       "      <td>0</td>\n",
       "      <td>0</td>\n",
       "    </tr>\n",
       "    <tr>\n",
       "      <th>398</th>\n",
       "      <td>17.0</td>\n",
       "      <td>60.0</td>\n",
       "      <td>1.025</td>\n",
       "      <td>0.0</td>\n",
       "      <td>0.0</td>\n",
       "      <td>1</td>\n",
       "      <td>1</td>\n",
       "      <td>0</td>\n",
       "      <td>0</td>\n",
       "      <td>114.0</td>\n",
       "      <td>...</td>\n",
       "      <td>14.2</td>\n",
       "      <td>51.0</td>\n",
       "      <td>7200.0</td>\n",
       "      <td>5.9</td>\n",
       "      <td>0</td>\n",
       "      <td>1</td>\n",
       "      <td>0</td>\n",
       "      <td>0</td>\n",
       "      <td>0</td>\n",
       "      <td>0</td>\n",
       "    </tr>\n",
       "    <tr>\n",
       "      <th>399</th>\n",
       "      <td>58.0</td>\n",
       "      <td>80.0</td>\n",
       "      <td>1.025</td>\n",
       "      <td>0.0</td>\n",
       "      <td>0.0</td>\n",
       "      <td>1</td>\n",
       "      <td>1</td>\n",
       "      <td>0</td>\n",
       "      <td>0</td>\n",
       "      <td>131.0</td>\n",
       "      <td>...</td>\n",
       "      <td>15.8</td>\n",
       "      <td>53.0</td>\n",
       "      <td>6800.0</td>\n",
       "      <td>6.1</td>\n",
       "      <td>0</td>\n",
       "      <td>1</td>\n",
       "      <td>0</td>\n",
       "      <td>0</td>\n",
       "      <td>0</td>\n",
       "      <td>0</td>\n",
       "    </tr>\n",
       "  </tbody>\n",
       "</table>\n",
       "<p>400 rows × 24 columns</p>\n",
       "</div>"
      ],
      "text/plain": [
       "      age  blood pressure  specific gravity  albumin  sugar  red blood cells  \\\n",
       "0    48.0            80.0             1.020      1.0    0.0                1   \n",
       "1     7.0            50.0             1.020      4.0    0.0                1   \n",
       "2    62.0            80.0             1.010      2.0    3.0                1   \n",
       "3    48.0            70.0             1.005      4.0    0.0                1   \n",
       "4    51.0            80.0             1.010      2.0    0.0                1   \n",
       "..    ...             ...               ...      ...    ...              ...   \n",
       "395  55.0            80.0             1.020      0.0    0.0                1   \n",
       "396  42.0            70.0             1.025      0.0    0.0                1   \n",
       "397  12.0            80.0             1.020      0.0    0.0                1   \n",
       "398  17.0            60.0             1.025      0.0    0.0                1   \n",
       "399  58.0            80.0             1.025      0.0    0.0                1   \n",
       "\n",
       "      pus cell  pus cell clumps  bacteria  blood glucose random  ...  \\\n",
       "0            1                0         0                 121.0  ...   \n",
       "1            1                0         0                 219.0  ...   \n",
       "2            1                0         0                 423.0  ...   \n",
       "3            0                1         0                 117.0  ...   \n",
       "4            1                0         0                 106.0  ...   \n",
       "..         ...              ...       ...                   ...  ...   \n",
       "395          1                0         0                 140.0  ...   \n",
       "396          1                0         0                  75.0  ...   \n",
       "397          1                0         0                 100.0  ...   \n",
       "398          1                0         0                 114.0  ...   \n",
       "399          1                0         0                 131.0  ...   \n",
       "\n",
       "     haemoglobin  packed cell volume  white blood cell count  \\\n",
       "0           15.4                44.0                  7800.0   \n",
       "1           11.3                38.0                  6000.0   \n",
       "2            9.6                31.0                  7500.0   \n",
       "3           11.2                32.0                  6700.0   \n",
       "4           11.6                35.0                  7300.0   \n",
       "..           ...                 ...                     ...   \n",
       "395         15.7                47.0                  6700.0   \n",
       "396         16.5                54.0                  7800.0   \n",
       "397         15.8                49.0                  6600.0   \n",
       "398         14.2                51.0                  7200.0   \n",
       "399         15.8                53.0                  6800.0   \n",
       "\n",
       "     red blood cell count  ypertension  diabetes mellitus  \\\n",
       "0                     5.2            1                  2   \n",
       "1                     4.6            0                  1   \n",
       "2                     5.3            0                  2   \n",
       "3                     3.9            1                  1   \n",
       "4                     4.6            0                  1   \n",
       "..                    ...          ...                ...   \n",
       "395                   4.9            0                  1   \n",
       "396                   6.2            0                  1   \n",
       "397                   5.4            0                  1   \n",
       "398                   5.9            0                  1   \n",
       "399                   6.1            0                  1   \n",
       "\n",
       "     coronary artery disease  appetite  pedal edema  anemia  \n",
       "0                          0         0            0       0  \n",
       "1                          0         0            0       0  \n",
       "2                          0         1            0       1  \n",
       "3                          0         1            1       1  \n",
       "4                          0         0            0       0  \n",
       "..                       ...       ...          ...     ...  \n",
       "395                        0         0            0       0  \n",
       "396                        0         0            0       0  \n",
       "397                        0         0            0       0  \n",
       "398                        0         0            0       0  \n",
       "399                        0         0            0       0  \n",
       "\n",
       "[400 rows x 24 columns]"
      ]
     },
     "execution_count": 235,
     "metadata": {},
     "output_type": "execute_result"
    }
   ],
   "source": [
    "X"
   ]
  },
  {
   "cell_type": "code",
   "execution_count": 236,
   "id": "47200721",
   "metadata": {},
   "outputs": [
    {
     "data": {
      "text/plain": [
       "0      0\n",
       "1      0\n",
       "2      0\n",
       "3      0\n",
       "4      0\n",
       "      ..\n",
       "395    1\n",
       "396    1\n",
       "397    1\n",
       "398    1\n",
       "399    1\n",
       "Name: class, Length: 400, dtype: int32"
      ]
     },
     "execution_count": 236,
     "metadata": {},
     "output_type": "execute_result"
    }
   ],
   "source": [
    "Y"
   ]
  },
  {
   "cell_type": "code",
   "execution_count": 237,
   "id": "494d75fc",
   "metadata": {},
   "outputs": [
    {
     "data": {
      "text/plain": [
       "(400, 24)"
      ]
     },
     "execution_count": 237,
     "metadata": {},
     "output_type": "execute_result"
    }
   ],
   "source": [
    "X.shape"
   ]
  },
  {
   "cell_type": "code",
   "execution_count": 238,
   "id": "ee7d0e00",
   "metadata": {},
   "outputs": [],
   "source": [
    "kbest = SelectKBest(score_func= chi2, k =20)        #Selecting best features\n",
    "kbest_new = kbest.fit(X,Y)"
   ]
  },
  {
   "cell_type": "code",
   "execution_count": 240,
   "id": "650a09fa",
   "metadata": {},
   "outputs": [
    {
     "data": {
      "text/plain": [
       "array([1.09507312e+02, 7.89035489e+01, 5.33166652e-03, 2.33257028e+02,\n",
       "       9.32245614e+01, 1.02639835e+01, 1.35050375e+01, 2.52000000e+01,\n",
       "       1.32000000e+01, 2.22133762e+03, 2.32555635e+03, 3.54535301e+02,\n",
       "       2.87893554e+01, 3.64206447e+00, 1.23104311e+02, 3.03528962e+02,\n",
       "       1.46656142e+04, 2.14014082e+01, 8.82000000e+01, 1.99004975e+01,\n",
       "       2.04000000e+01, 4.92000000e+01, 4.56000000e+01, 3.60000000e+01])"
      ]
     },
     "execution_count": 240,
     "metadata": {},
     "output_type": "execute_result"
    }
   ],
   "source": [
    "kbest_new.scores_"
   ]
  },
  {
   "cell_type": "code",
   "execution_count": 243,
   "id": "a2408c76",
   "metadata": {
    "scrolled": true
   },
   "outputs": [
    {
     "data": {
      "text/html": [
       "<div>\n",
       "<style scoped>\n",
       "    .dataframe tbody tr th:only-of-type {\n",
       "        vertical-align: middle;\n",
       "    }\n",
       "\n",
       "    .dataframe tbody tr th {\n",
       "        vertical-align: top;\n",
       "    }\n",
       "\n",
       "    .dataframe thead th {\n",
       "        text-align: right;\n",
       "    }\n",
       "</style>\n",
       "<table border=\"1\" class=\"dataframe\">\n",
       "  <thead>\n",
       "    <tr style=\"text-align: right;\">\n",
       "      <th></th>\n",
       "      <th>Score</th>\n",
       "    </tr>\n",
       "  </thead>\n",
       "  <tbody>\n",
       "    <tr>\n",
       "      <th>0</th>\n",
       "      <td>109.507312</td>\n",
       "    </tr>\n",
       "    <tr>\n",
       "      <th>1</th>\n",
       "      <td>78.903549</td>\n",
       "    </tr>\n",
       "    <tr>\n",
       "      <th>2</th>\n",
       "      <td>0.005332</td>\n",
       "    </tr>\n",
       "    <tr>\n",
       "      <th>3</th>\n",
       "      <td>233.257028</td>\n",
       "    </tr>\n",
       "    <tr>\n",
       "      <th>4</th>\n",
       "      <td>93.224561</td>\n",
       "    </tr>\n",
       "    <tr>\n",
       "      <th>5</th>\n",
       "      <td>10.263983</td>\n",
       "    </tr>\n",
       "    <tr>\n",
       "      <th>6</th>\n",
       "      <td>13.505038</td>\n",
       "    </tr>\n",
       "    <tr>\n",
       "      <th>7</th>\n",
       "      <td>25.200000</td>\n",
       "    </tr>\n",
       "    <tr>\n",
       "      <th>8</th>\n",
       "      <td>13.200000</td>\n",
       "    </tr>\n",
       "    <tr>\n",
       "      <th>9</th>\n",
       "      <td>2221.337618</td>\n",
       "    </tr>\n",
       "    <tr>\n",
       "      <th>10</th>\n",
       "      <td>2325.556347</td>\n",
       "    </tr>\n",
       "    <tr>\n",
       "      <th>11</th>\n",
       "      <td>354.535301</td>\n",
       "    </tr>\n",
       "    <tr>\n",
       "      <th>12</th>\n",
       "      <td>28.789355</td>\n",
       "    </tr>\n",
       "    <tr>\n",
       "      <th>13</th>\n",
       "      <td>3.642064</td>\n",
       "    </tr>\n",
       "    <tr>\n",
       "      <th>14</th>\n",
       "      <td>123.104311</td>\n",
       "    </tr>\n",
       "    <tr>\n",
       "      <th>15</th>\n",
       "      <td>303.528962</td>\n",
       "    </tr>\n",
       "    <tr>\n",
       "      <th>16</th>\n",
       "      <td>14665.614160</td>\n",
       "    </tr>\n",
       "    <tr>\n",
       "      <th>17</th>\n",
       "      <td>21.401408</td>\n",
       "    </tr>\n",
       "    <tr>\n",
       "      <th>18</th>\n",
       "      <td>88.200000</td>\n",
       "    </tr>\n",
       "    <tr>\n",
       "      <th>19</th>\n",
       "      <td>19.900498</td>\n",
       "    </tr>\n",
       "    <tr>\n",
       "      <th>20</th>\n",
       "      <td>20.400000</td>\n",
       "    </tr>\n",
       "    <tr>\n",
       "      <th>21</th>\n",
       "      <td>49.200000</td>\n",
       "    </tr>\n",
       "    <tr>\n",
       "      <th>22</th>\n",
       "      <td>45.600000</td>\n",
       "    </tr>\n",
       "    <tr>\n",
       "      <th>23</th>\n",
       "      <td>36.000000</td>\n",
       "    </tr>\n",
       "  </tbody>\n",
       "</table>\n",
       "</div>"
      ],
      "text/plain": [
       "           Score\n",
       "0     109.507312\n",
       "1      78.903549\n",
       "2       0.005332\n",
       "3     233.257028\n",
       "4      93.224561\n",
       "5      10.263983\n",
       "6      13.505038\n",
       "7      25.200000\n",
       "8      13.200000\n",
       "9    2221.337618\n",
       "10   2325.556347\n",
       "11    354.535301\n",
       "12     28.789355\n",
       "13      3.642064\n",
       "14    123.104311\n",
       "15    303.528962\n",
       "16  14665.614160\n",
       "17     21.401408\n",
       "18     88.200000\n",
       "19     19.900498\n",
       "20     20.400000\n",
       "21     49.200000\n",
       "22     45.600000\n",
       "23     36.000000"
      ]
     },
     "execution_count": 243,
     "metadata": {},
     "output_type": "execute_result"
    }
   ],
   "source": [
    "scores = pd.DataFrame(kbest_new.scores_, columns=['Score'])\n",
    "scores"
   ]
  },
  {
   "cell_type": "code",
   "execution_count": 244,
   "id": "9fa7b279",
   "metadata": {},
   "outputs": [
    {
     "data": {
      "text/html": [
       "<div>\n",
       "<style scoped>\n",
       "    .dataframe tbody tr th:only-of-type {\n",
       "        vertical-align: middle;\n",
       "    }\n",
       "\n",
       "    .dataframe tbody tr th {\n",
       "        vertical-align: top;\n",
       "    }\n",
       "\n",
       "    .dataframe thead th {\n",
       "        text-align: right;\n",
       "    }\n",
       "</style>\n",
       "<table border=\"1\" class=\"dataframe\">\n",
       "  <thead>\n",
       "    <tr style=\"text-align: right;\">\n",
       "      <th></th>\n",
       "      <th>features</th>\n",
       "    </tr>\n",
       "  </thead>\n",
       "  <tbody>\n",
       "    <tr>\n",
       "      <th>0</th>\n",
       "      <td>age</td>\n",
       "    </tr>\n",
       "    <tr>\n",
       "      <th>1</th>\n",
       "      <td>blood pressure</td>\n",
       "    </tr>\n",
       "    <tr>\n",
       "      <th>2</th>\n",
       "      <td>specific gravity</td>\n",
       "    </tr>\n",
       "    <tr>\n",
       "      <th>3</th>\n",
       "      <td>albumin</td>\n",
       "    </tr>\n",
       "    <tr>\n",
       "      <th>4</th>\n",
       "      <td>sugar</td>\n",
       "    </tr>\n",
       "    <tr>\n",
       "      <th>5</th>\n",
       "      <td>red blood cells</td>\n",
       "    </tr>\n",
       "    <tr>\n",
       "      <th>6</th>\n",
       "      <td>pus cell</td>\n",
       "    </tr>\n",
       "    <tr>\n",
       "      <th>7</th>\n",
       "      <td>pus cell clumps</td>\n",
       "    </tr>\n",
       "    <tr>\n",
       "      <th>8</th>\n",
       "      <td>bacteria</td>\n",
       "    </tr>\n",
       "    <tr>\n",
       "      <th>9</th>\n",
       "      <td>blood glucose random</td>\n",
       "    </tr>\n",
       "    <tr>\n",
       "      <th>10</th>\n",
       "      <td>blood urea</td>\n",
       "    </tr>\n",
       "    <tr>\n",
       "      <th>11</th>\n",
       "      <td>serum creatinine</td>\n",
       "    </tr>\n",
       "    <tr>\n",
       "      <th>12</th>\n",
       "      <td>sodium</td>\n",
       "    </tr>\n",
       "    <tr>\n",
       "      <th>13</th>\n",
       "      <td>potassium</td>\n",
       "    </tr>\n",
       "    <tr>\n",
       "      <th>14</th>\n",
       "      <td>haemoglobin</td>\n",
       "    </tr>\n",
       "    <tr>\n",
       "      <th>15</th>\n",
       "      <td>packed cell volume</td>\n",
       "    </tr>\n",
       "    <tr>\n",
       "      <th>16</th>\n",
       "      <td>white blood cell count</td>\n",
       "    </tr>\n",
       "    <tr>\n",
       "      <th>17</th>\n",
       "      <td>red blood cell count</td>\n",
       "    </tr>\n",
       "    <tr>\n",
       "      <th>18</th>\n",
       "      <td>ypertension</td>\n",
       "    </tr>\n",
       "    <tr>\n",
       "      <th>19</th>\n",
       "      <td>diabetes mellitus</td>\n",
       "    </tr>\n",
       "    <tr>\n",
       "      <th>20</th>\n",
       "      <td>coronary artery disease</td>\n",
       "    </tr>\n",
       "    <tr>\n",
       "      <th>21</th>\n",
       "      <td>appetite</td>\n",
       "    </tr>\n",
       "    <tr>\n",
       "      <th>22</th>\n",
       "      <td>pedal edema</td>\n",
       "    </tr>\n",
       "    <tr>\n",
       "      <th>23</th>\n",
       "      <td>anemia</td>\n",
       "    </tr>\n",
       "  </tbody>\n",
       "</table>\n",
       "</div>"
      ],
      "text/plain": [
       "                   features\n",
       "0                       age\n",
       "1            blood pressure\n",
       "2          specific gravity\n",
       "3                   albumin\n",
       "4                     sugar\n",
       "5           red blood cells\n",
       "6                  pus cell\n",
       "7           pus cell clumps\n",
       "8                  bacteria\n",
       "9      blood glucose random\n",
       "10               blood urea\n",
       "11         serum creatinine\n",
       "12                   sodium\n",
       "13                potassium\n",
       "14              haemoglobin\n",
       "15       packed cell volume\n",
       "16   white blood cell count\n",
       "17     red blood cell count\n",
       "18              ypertension\n",
       "19        diabetes mellitus\n",
       "20  coronary artery disease\n",
       "21                 appetite\n",
       "22              pedal edema\n",
       "23                   anemia"
      ]
     },
     "execution_count": 244,
     "metadata": {},
     "output_type": "execute_result"
    }
   ],
   "source": [
    "dfcol = pd.DataFrame(X.columns, columns=['features'])\n",
    "dfcol"
   ]
  },
  {
   "cell_type": "code",
   "execution_count": 245,
   "id": "4a9ac215",
   "metadata": {},
   "outputs": [
    {
     "data": {
      "text/html": [
       "<div>\n",
       "<style scoped>\n",
       "    .dataframe tbody tr th:only-of-type {\n",
       "        vertical-align: middle;\n",
       "    }\n",
       "\n",
       "    .dataframe tbody tr th {\n",
       "        vertical-align: top;\n",
       "    }\n",
       "\n",
       "    .dataframe thead th {\n",
       "        text-align: right;\n",
       "    }\n",
       "</style>\n",
       "<table border=\"1\" class=\"dataframe\">\n",
       "  <thead>\n",
       "    <tr style=\"text-align: right;\">\n",
       "      <th></th>\n",
       "      <th>features</th>\n",
       "      <th>Score</th>\n",
       "    </tr>\n",
       "  </thead>\n",
       "  <tbody>\n",
       "    <tr>\n",
       "      <th>0</th>\n",
       "      <td>age</td>\n",
       "      <td>109.507312</td>\n",
       "    </tr>\n",
       "    <tr>\n",
       "      <th>1</th>\n",
       "      <td>blood pressure</td>\n",
       "      <td>78.903549</td>\n",
       "    </tr>\n",
       "    <tr>\n",
       "      <th>2</th>\n",
       "      <td>specific gravity</td>\n",
       "      <td>0.005332</td>\n",
       "    </tr>\n",
       "    <tr>\n",
       "      <th>3</th>\n",
       "      <td>albumin</td>\n",
       "      <td>233.257028</td>\n",
       "    </tr>\n",
       "    <tr>\n",
       "      <th>4</th>\n",
       "      <td>sugar</td>\n",
       "      <td>93.224561</td>\n",
       "    </tr>\n",
       "    <tr>\n",
       "      <th>5</th>\n",
       "      <td>red blood cells</td>\n",
       "      <td>10.263983</td>\n",
       "    </tr>\n",
       "    <tr>\n",
       "      <th>6</th>\n",
       "      <td>pus cell</td>\n",
       "      <td>13.505038</td>\n",
       "    </tr>\n",
       "    <tr>\n",
       "      <th>7</th>\n",
       "      <td>pus cell clumps</td>\n",
       "      <td>25.200000</td>\n",
       "    </tr>\n",
       "    <tr>\n",
       "      <th>8</th>\n",
       "      <td>bacteria</td>\n",
       "      <td>13.200000</td>\n",
       "    </tr>\n",
       "    <tr>\n",
       "      <th>9</th>\n",
       "      <td>blood glucose random</td>\n",
       "      <td>2221.337618</td>\n",
       "    </tr>\n",
       "    <tr>\n",
       "      <th>10</th>\n",
       "      <td>blood urea</td>\n",
       "      <td>2325.556347</td>\n",
       "    </tr>\n",
       "    <tr>\n",
       "      <th>11</th>\n",
       "      <td>serum creatinine</td>\n",
       "      <td>354.535301</td>\n",
       "    </tr>\n",
       "    <tr>\n",
       "      <th>12</th>\n",
       "      <td>sodium</td>\n",
       "      <td>28.789355</td>\n",
       "    </tr>\n",
       "    <tr>\n",
       "      <th>13</th>\n",
       "      <td>potassium</td>\n",
       "      <td>3.642064</td>\n",
       "    </tr>\n",
       "    <tr>\n",
       "      <th>14</th>\n",
       "      <td>haemoglobin</td>\n",
       "      <td>123.104311</td>\n",
       "    </tr>\n",
       "    <tr>\n",
       "      <th>15</th>\n",
       "      <td>packed cell volume</td>\n",
       "      <td>303.528962</td>\n",
       "    </tr>\n",
       "    <tr>\n",
       "      <th>16</th>\n",
       "      <td>white blood cell count</td>\n",
       "      <td>14665.614160</td>\n",
       "    </tr>\n",
       "    <tr>\n",
       "      <th>17</th>\n",
       "      <td>red blood cell count</td>\n",
       "      <td>21.401408</td>\n",
       "    </tr>\n",
       "    <tr>\n",
       "      <th>18</th>\n",
       "      <td>ypertension</td>\n",
       "      <td>88.200000</td>\n",
       "    </tr>\n",
       "    <tr>\n",
       "      <th>19</th>\n",
       "      <td>diabetes mellitus</td>\n",
       "      <td>19.900498</td>\n",
       "    </tr>\n",
       "    <tr>\n",
       "      <th>20</th>\n",
       "      <td>coronary artery disease</td>\n",
       "      <td>20.400000</td>\n",
       "    </tr>\n",
       "    <tr>\n",
       "      <th>21</th>\n",
       "      <td>appetite</td>\n",
       "      <td>49.200000</td>\n",
       "    </tr>\n",
       "    <tr>\n",
       "      <th>22</th>\n",
       "      <td>pedal edema</td>\n",
       "      <td>45.600000</td>\n",
       "    </tr>\n",
       "    <tr>\n",
       "      <th>23</th>\n",
       "      <td>anemia</td>\n",
       "      <td>36.000000</td>\n",
       "    </tr>\n",
       "  </tbody>\n",
       "</table>\n",
       "</div>"
      ],
      "text/plain": [
       "                   features         Score\n",
       "0                       age    109.507312\n",
       "1            blood pressure     78.903549\n",
       "2          specific gravity      0.005332\n",
       "3                   albumin    233.257028\n",
       "4                     sugar     93.224561\n",
       "5           red blood cells     10.263983\n",
       "6                  pus cell     13.505038\n",
       "7           pus cell clumps     25.200000\n",
       "8                  bacteria     13.200000\n",
       "9      blood glucose random   2221.337618\n",
       "10               blood urea   2325.556347\n",
       "11         serum creatinine    354.535301\n",
       "12                   sodium     28.789355\n",
       "13                potassium      3.642064\n",
       "14              haemoglobin    123.104311\n",
       "15       packed cell volume    303.528962\n",
       "16   white blood cell count  14665.614160\n",
       "17     red blood cell count     21.401408\n",
       "18              ypertension     88.200000\n",
       "19        diabetes mellitus     19.900498\n",
       "20  coronary artery disease     20.400000\n",
       "21                 appetite     49.200000\n",
       "22              pedal edema     45.600000\n",
       "23                   anemia     36.000000"
      ]
     },
     "execution_count": 245,
     "metadata": {},
     "output_type": "execute_result"
    }
   ],
   "source": [
    "feature_rank = pd.concat([dfcol,scores], axis = 1)\n",
    "feature_rank"
   ]
  },
  {
   "cell_type": "code",
   "execution_count": 246,
   "id": "a70f2f50",
   "metadata": {},
   "outputs": [
    {
     "data": {
      "text/plain": [
       "array(['white blood cell count', 'blood urea', 'blood glucose random',\n",
       "       'serum creatinine', 'packed cell volume', 'albumin', 'haemoglobin',\n",
       "       'age', 'sugar', 'ypertension'], dtype=object)"
      ]
     },
     "execution_count": 246,
     "metadata": {},
     "output_type": "execute_result"
    }
   ],
   "source": [
    "opt_columns = feature_rank.nlargest(10, 'Score')['features'].values\n",
    "opt_columns"
   ]
  },
  {
   "cell_type": "code",
   "execution_count": 247,
   "id": "0e101a53",
   "metadata": {},
   "outputs": [
    {
     "data": {
      "text/html": [
       "<div>\n",
       "<style scoped>\n",
       "    .dataframe tbody tr th:only-of-type {\n",
       "        vertical-align: middle;\n",
       "    }\n",
       "\n",
       "    .dataframe tbody tr th {\n",
       "        vertical-align: top;\n",
       "    }\n",
       "\n",
       "    .dataframe thead th {\n",
       "        text-align: right;\n",
       "    }\n",
       "</style>\n",
       "<table border=\"1\" class=\"dataframe\">\n",
       "  <thead>\n",
       "    <tr style=\"text-align: right;\">\n",
       "      <th></th>\n",
       "      <th>white blood cell count</th>\n",
       "      <th>blood urea</th>\n",
       "      <th>blood glucose random</th>\n",
       "      <th>serum creatinine</th>\n",
       "      <th>packed cell volume</th>\n",
       "      <th>albumin</th>\n",
       "      <th>haemoglobin</th>\n",
       "      <th>age</th>\n",
       "      <th>sugar</th>\n",
       "      <th>ypertension</th>\n",
       "    </tr>\n",
       "  </thead>\n",
       "  <tbody>\n",
       "    <tr>\n",
       "      <th>0</th>\n",
       "      <td>7800.0</td>\n",
       "      <td>36.0</td>\n",
       "      <td>121.0</td>\n",
       "      <td>1.2</td>\n",
       "      <td>44.0</td>\n",
       "      <td>1.0</td>\n",
       "      <td>15.4</td>\n",
       "      <td>48.0</td>\n",
       "      <td>0.0</td>\n",
       "      <td>1</td>\n",
       "    </tr>\n",
       "    <tr>\n",
       "      <th>1</th>\n",
       "      <td>6000.0</td>\n",
       "      <td>18.0</td>\n",
       "      <td>219.0</td>\n",
       "      <td>0.8</td>\n",
       "      <td>38.0</td>\n",
       "      <td>4.0</td>\n",
       "      <td>11.3</td>\n",
       "      <td>7.0</td>\n",
       "      <td>0.0</td>\n",
       "      <td>0</td>\n",
       "    </tr>\n",
       "    <tr>\n",
       "      <th>2</th>\n",
       "      <td>7500.0</td>\n",
       "      <td>53.0</td>\n",
       "      <td>423.0</td>\n",
       "      <td>1.8</td>\n",
       "      <td>31.0</td>\n",
       "      <td>2.0</td>\n",
       "      <td>9.6</td>\n",
       "      <td>62.0</td>\n",
       "      <td>3.0</td>\n",
       "      <td>0</td>\n",
       "    </tr>\n",
       "    <tr>\n",
       "      <th>3</th>\n",
       "      <td>6700.0</td>\n",
       "      <td>56.0</td>\n",
       "      <td>117.0</td>\n",
       "      <td>3.8</td>\n",
       "      <td>32.0</td>\n",
       "      <td>4.0</td>\n",
       "      <td>11.2</td>\n",
       "      <td>48.0</td>\n",
       "      <td>0.0</td>\n",
       "      <td>1</td>\n",
       "    </tr>\n",
       "    <tr>\n",
       "      <th>4</th>\n",
       "      <td>7300.0</td>\n",
       "      <td>26.0</td>\n",
       "      <td>106.0</td>\n",
       "      <td>1.4</td>\n",
       "      <td>35.0</td>\n",
       "      <td>2.0</td>\n",
       "      <td>11.6</td>\n",
       "      <td>51.0</td>\n",
       "      <td>0.0</td>\n",
       "      <td>0</td>\n",
       "    </tr>\n",
       "    <tr>\n",
       "      <th>...</th>\n",
       "      <td>...</td>\n",
       "      <td>...</td>\n",
       "      <td>...</td>\n",
       "      <td>...</td>\n",
       "      <td>...</td>\n",
       "      <td>...</td>\n",
       "      <td>...</td>\n",
       "      <td>...</td>\n",
       "      <td>...</td>\n",
       "      <td>...</td>\n",
       "    </tr>\n",
       "    <tr>\n",
       "      <th>395</th>\n",
       "      <td>6700.0</td>\n",
       "      <td>49.0</td>\n",
       "      <td>140.0</td>\n",
       "      <td>0.5</td>\n",
       "      <td>47.0</td>\n",
       "      <td>0.0</td>\n",
       "      <td>15.7</td>\n",
       "      <td>55.0</td>\n",
       "      <td>0.0</td>\n",
       "      <td>0</td>\n",
       "    </tr>\n",
       "    <tr>\n",
       "      <th>396</th>\n",
       "      <td>7800.0</td>\n",
       "      <td>31.0</td>\n",
       "      <td>75.0</td>\n",
       "      <td>1.2</td>\n",
       "      <td>54.0</td>\n",
       "      <td>0.0</td>\n",
       "      <td>16.5</td>\n",
       "      <td>42.0</td>\n",
       "      <td>0.0</td>\n",
       "      <td>0</td>\n",
       "    </tr>\n",
       "    <tr>\n",
       "      <th>397</th>\n",
       "      <td>6600.0</td>\n",
       "      <td>26.0</td>\n",
       "      <td>100.0</td>\n",
       "      <td>0.6</td>\n",
       "      <td>49.0</td>\n",
       "      <td>0.0</td>\n",
       "      <td>15.8</td>\n",
       "      <td>12.0</td>\n",
       "      <td>0.0</td>\n",
       "      <td>0</td>\n",
       "    </tr>\n",
       "    <tr>\n",
       "      <th>398</th>\n",
       "      <td>7200.0</td>\n",
       "      <td>50.0</td>\n",
       "      <td>114.0</td>\n",
       "      <td>1.0</td>\n",
       "      <td>51.0</td>\n",
       "      <td>0.0</td>\n",
       "      <td>14.2</td>\n",
       "      <td>17.0</td>\n",
       "      <td>0.0</td>\n",
       "      <td>0</td>\n",
       "    </tr>\n",
       "    <tr>\n",
       "      <th>399</th>\n",
       "      <td>6800.0</td>\n",
       "      <td>18.0</td>\n",
       "      <td>131.0</td>\n",
       "      <td>1.1</td>\n",
       "      <td>53.0</td>\n",
       "      <td>0.0</td>\n",
       "      <td>15.8</td>\n",
       "      <td>58.0</td>\n",
       "      <td>0.0</td>\n",
       "      <td>0</td>\n",
       "    </tr>\n",
       "  </tbody>\n",
       "</table>\n",
       "<p>400 rows × 10 columns</p>\n",
       "</div>"
      ],
      "text/plain": [
       "     white blood cell count  blood urea  blood glucose random  \\\n",
       "0                    7800.0        36.0                 121.0   \n",
       "1                    6000.0        18.0                 219.0   \n",
       "2                    7500.0        53.0                 423.0   \n",
       "3                    6700.0        56.0                 117.0   \n",
       "4                    7300.0        26.0                 106.0   \n",
       "..                      ...         ...                   ...   \n",
       "395                  6700.0        49.0                 140.0   \n",
       "396                  7800.0        31.0                  75.0   \n",
       "397                  6600.0        26.0                 100.0   \n",
       "398                  7200.0        50.0                 114.0   \n",
       "399                  6800.0        18.0                 131.0   \n",
       "\n",
       "     serum creatinine  packed cell volume  albumin  haemoglobin   age  sugar  \\\n",
       "0                 1.2                44.0      1.0         15.4  48.0    0.0   \n",
       "1                 0.8                38.0      4.0         11.3   7.0    0.0   \n",
       "2                 1.8                31.0      2.0          9.6  62.0    3.0   \n",
       "3                 3.8                32.0      4.0         11.2  48.0    0.0   \n",
       "4                 1.4                35.0      2.0         11.6  51.0    0.0   \n",
       "..                ...                 ...      ...          ...   ...    ...   \n",
       "395               0.5                47.0      0.0         15.7  55.0    0.0   \n",
       "396               1.2                54.0      0.0         16.5  42.0    0.0   \n",
       "397               0.6                49.0      0.0         15.8  12.0    0.0   \n",
       "398               1.0                51.0      0.0         14.2  17.0    0.0   \n",
       "399               1.1                53.0      0.0         15.8  58.0    0.0   \n",
       "\n",
       "     ypertension  \n",
       "0              1  \n",
       "1              0  \n",
       "2              0  \n",
       "3              1  \n",
       "4              0  \n",
       "..           ...  \n",
       "395            0  \n",
       "396            0  \n",
       "397            0  \n",
       "398            0  \n",
       "399            0  \n",
       "\n",
       "[400 rows x 10 columns]"
      ]
     },
     "execution_count": 247,
     "metadata": {},
     "output_type": "execute_result"
    }
   ],
   "source": [
    "X_new = df[opt_columns]\n",
    "X_new"
   ]
  },
  {
   "cell_type": "code",
   "execution_count": 326,
   "id": "fb98e09e",
   "metadata": {},
   "outputs": [
    {
     "data": {
      "text/plain": [
       "(400, 10)"
      ]
     },
     "execution_count": 326,
     "metadata": {},
     "output_type": "execute_result"
    }
   ],
   "source": [
    "data = df.copy()\n",
    "X_new.shape"
   ]
  },
  {
   "cell_type": "code",
   "execution_count": 120,
   "id": "4bef11ba",
   "metadata": {},
   "outputs": [],
   "source": [
    "from sklearn.model_selection import train_test_split      #Model Building"
   ]
  },
  {
   "cell_type": "code",
   "execution_count": 249,
   "id": "783579cf",
   "metadata": {},
   "outputs": [],
   "source": [
    "X_train,X_test,Y_train,Y_test = train_test_split(X_new, Y, random_state=0, train_size = 0.75)"
   ]
  },
  {
   "cell_type": "code",
   "execution_count": 250,
   "id": "79383d06",
   "metadata": {},
   "outputs": [
    {
     "data": {
      "text/plain": [
       "(300, 10)"
      ]
     },
     "execution_count": 250,
     "metadata": {},
     "output_type": "execute_result"
    }
   ],
   "source": [
    "X_train.shape"
   ]
  },
  {
   "cell_type": "code",
   "execution_count": 251,
   "id": "e2ebabb9",
   "metadata": {},
   "outputs": [
    {
     "data": {
      "text/plain": [
       "(100, 10)"
      ]
     },
     "execution_count": 251,
     "metadata": {},
     "output_type": "execute_result"
    }
   ],
   "source": [
    "X_test.shape"
   ]
  },
  {
   "cell_type": "code",
   "execution_count": 252,
   "id": "b3c99caa",
   "metadata": {},
   "outputs": [
    {
     "data": {
      "text/plain": [
       "0    188\n",
       "1    112\n",
       "Name: class, dtype: int64"
      ]
     },
     "execution_count": 252,
     "metadata": {},
     "output_type": "execute_result"
    }
   ],
   "source": [
    "Y_train.value_counts()"
   ]
  },
  {
   "cell_type": "code",
   "execution_count": null,
   "id": "b8970a55",
   "metadata": {},
   "outputs": [],
   "source": []
  },
  {
   "cell_type": "code",
   "execution_count": 266,
   "id": "0e2ce807",
   "metadata": {},
   "outputs": [],
   "source": [
    "param = {\n",
    "    'learning_rate' : [0.05,0.20,0.25],\n",
    "    'max_depth' : [5,8,10,12],\n",
    "    'min_child_weight':[1,3,5,7],\n",
    "    'gamma':[0.0,0.1,0.2,0.4],\n",
    "    'colsample_bytree':[0.3,0.4,0.7] \n",
    "}"
   ]
  },
  {
   "cell_type": "code",
   "execution_count": 267,
   "id": "5fb53e93",
   "metadata": {},
   "outputs": [],
   "source": [
    "from sklearn.model_selection import RandomizedSearchCV"
   ]
  },
  {
   "cell_type": "code",
   "execution_count": 268,
   "id": "959eee9a",
   "metadata": {},
   "outputs": [],
   "source": [
    "from xgboost import XGBClassifier\n",
    "classifier = XGBClassifier()"
   ]
  },
  {
   "cell_type": "code",
   "execution_count": 269,
   "id": "0f5868c2",
   "metadata": {},
   "outputs": [],
   "source": [
    "import warnings\n",
    "from warnings import filterwarnings\n",
    "filterwarnings('ignore')"
   ]
  },
  {
   "cell_type": "code",
   "execution_count": 270,
   "id": "470bf8af",
   "metadata": {},
   "outputs": [],
   "source": [
    "rand_search=RandomizedSearchCV(classifier,param_distributions=param,n_iter=5,scoring='roc_auc',n_jobs=-1,cv=5,verbose=3)"
   ]
  },
  {
   "cell_type": "code",
   "execution_count": 271,
   "id": "71dc4dca",
   "metadata": {},
   "outputs": [
    {
     "name": "stdout",
     "output_type": "stream",
     "text": [
      "Fitting 5 folds for each of 5 candidates, totalling 25 fits\n"
     ]
    },
    {
     "data": {
      "text/plain": [
       "RandomizedSearchCV(cv=5,\n",
       "                   estimator=XGBClassifier(base_score=None, booster=None,\n",
       "                                           callbacks=None,\n",
       "                                           colsample_bylevel=None,\n",
       "                                           colsample_bynode=None,\n",
       "                                           colsample_bytree=None,\n",
       "                                           early_stopping_rounds=None,\n",
       "                                           enable_categorical=False,\n",
       "                                           eval_metric=None, feature_types=None,\n",
       "                                           gamma=None, gpu_id=None,\n",
       "                                           grow_policy=None,\n",
       "                                           importance_type=None,\n",
       "                                           interaction_constraints=None,\n",
       "                                           learning_rate...\n",
       "                                           min_child_weight=None, missing=nan,\n",
       "                                           monotone_constraints=None,\n",
       "                                           n_estimators=100, n_jobs=None,\n",
       "                                           num_parallel_tree=None,\n",
       "                                           predictor=None, random_state=None, ...),\n",
       "                   n_iter=5, n_jobs=-1,\n",
       "                   param_distributions={'colsample_bytree': [0.3, 0.4, 0.7],\n",
       "                                        'gamma': [0.0, 0.1, 0.2, 0.4],\n",
       "                                        'learning_rate': [0.05, 0.2, 0.25],\n",
       "                                        'max_depth': [5, 8, 10, 12],\n",
       "                                        'min_child_weight': [1, 3, 5, 7]},\n",
       "                   scoring='roc_auc', verbose=3)"
      ]
     },
     "execution_count": 271,
     "metadata": {},
     "output_type": "execute_result"
    }
   ],
   "source": [
    "rand_search.fit(X_train,Y_train)"
   ]
  },
  {
   "cell_type": "code",
   "execution_count": 273,
   "id": "97a167a4",
   "metadata": {},
   "outputs": [
    {
     "data": {
      "text/plain": [
       "{'min_child_weight': 1,\n",
       " 'max_depth': 10,\n",
       " 'learning_rate': 0.25,\n",
       " 'gamma': 0.1,\n",
       " 'colsample_bytree': 0.7}"
      ]
     },
     "execution_count": 273,
     "metadata": {},
     "output_type": "execute_result"
    }
   ],
   "source": [
    "rand_search.best_params_"
   ]
  },
  {
   "cell_type": "code",
   "execution_count": 274,
   "id": "c729f51f",
   "metadata": {},
   "outputs": [
    {
     "data": {
      "text/plain": [
       "XGBClassifier(base_score=None, booster=None, callbacks=None,\n",
       "              colsample_bylevel=None, colsample_bynode=None,\n",
       "              colsample_bytree=0.7, early_stopping_rounds=None,\n",
       "              enable_categorical=False, eval_metric=None, feature_types=None,\n",
       "              gamma=0.1, gpu_id=None, grow_policy=None, importance_type=None,\n",
       "              interaction_constraints=None, learning_rate=0.25, max_bin=None,\n",
       "              max_cat_threshold=None, max_cat_to_onehot=None,\n",
       "              max_delta_step=None, max_depth=10, max_leaves=None,\n",
       "              min_child_weight=1, missing=nan, monotone_constraints=None,\n",
       "              n_estimators=100, n_jobs=None, num_parallel_tree=None,\n",
       "              predictor=None, random_state=None, ...)"
      ]
     },
     "execution_count": 274,
     "metadata": {},
     "output_type": "execute_result"
    }
   ],
   "source": [
    "rand_search.best_estimator_"
   ]
  },
  {
   "cell_type": "code",
   "execution_count": 277,
   "id": "f97e96be",
   "metadata": {},
   "outputs": [],
   "source": [
    "classifier = XGBClassifier(base_score=0.5, booster='gbtree', colsample_bylevel=1,\n",
    "              colsample_bynode=1, colsample_bytree=0.4, gamma=0.0, gpu_id=-1,\n",
    "              importance_type='gain', interaction_constraints='',\n",
    "              learning_rate=0.25, max_delta_step=0, max_depth=5,\n",
    "              min_child_weight=1, monotone_constraints='()',\n",
    "              n_estimators=100, n_jobs=2, num_parallel_tree=1,\n",
    "              objective='binary:logistic', random_state=0, reg_alpha=0,\n",
    "              reg_lambda=1, scale_pos_weight=1, subsample=1,\n",
    "              tree_method='exact', validate_parameters=1, verbosity=None)"
   ]
  },
  {
   "cell_type": "code",
   "execution_count": 278,
   "id": "9e9c5d9b",
   "metadata": {},
   "outputs": [
    {
     "data": {
      "text/plain": [
       "XGBRFClassifier(base_score=0.5, booster='gbtree', callbacks=None,\n",
       "                colsample_bylevel=1, colsample_bynode=1, colsample_bytree=0.4,\n",
       "                early_stopping_rounds=None, enable_categorical=False,\n",
       "                eval_metric=None, feature_types=None, gamma=0.0, gpu_id=-1,\n",
       "                grow_policy=None, importance_type='gain',\n",
       "                interaction_constraints='', learning_rate=0.25, max_bin=None,\n",
       "                max_cat_threshold=None, max_cat_to_onehot=None,\n",
       "                max_delta_step=0, max_depth=5, max_leaves=None,\n",
       "                min_child_weight=1, missing=nan, monotone_constraints='()',\n",
       "                n_estimators=100, n_jobs=2, num_parallel_tree=1,\n",
       "                objective='binary:logistic', predictor=None, ...)"
      ]
     },
     "execution_count": 278,
     "metadata": {},
     "output_type": "execute_result"
    }
   ],
   "source": [
    "classifier.fit(X_train, Y_train)"
   ]
  },
  {
   "cell_type": "code",
   "execution_count": 279,
   "id": "87ef5e5a",
   "metadata": {},
   "outputs": [],
   "source": [
    "Y_pred=classifier.predict(X_test)"
   ]
  },
  {
   "cell_type": "code",
   "execution_count": 280,
   "id": "47d3f179",
   "metadata": {},
   "outputs": [],
   "source": [
    "from sklearn.metrics import confusion_matrix,accuracy_score"
   ]
  },
  {
   "cell_type": "code",
   "execution_count": 282,
   "id": "09ee8269",
   "metadata": {},
   "outputs": [
    {
     "data": {
      "text/plain": [
       "array([[58,  4],\n",
       "       [ 0, 38]], dtype=int64)"
      ]
     },
     "execution_count": 282,
     "metadata": {},
     "output_type": "execute_result"
    }
   ],
   "source": [
    "conf = confusion_matrix(Y_test,Y_pred)\n",
    "conf"
   ]
  },
  {
   "cell_type": "code",
   "execution_count": 407,
   "id": "0ee643cd",
   "metadata": {},
   "outputs": [
    {
     "data": {
      "text/plain": [
       "<matplotlib.image.AxesImage at 0x24545ee1c40>"
      ]
     },
     "execution_count": 407,
     "metadata": {},
     "output_type": "execute_result"
    },
    {
     "data": {
      "image/png": "[encoded data removed]",
      "text/plain": [
       "<Figure size 640x480 with 1 Axes>"
      ]
     },
     "metadata": {},
     "output_type": "display_data"
    }
   ],
   "source": [
    "plt.imshow(conf)"
   ]
  },
  {
   "cell_type": "code",
   "execution_count": 408,
   "id": "24ce7c8c",
   "metadata": {},
   "outputs": [
    {
     "data": {
      "text/plain": [
       "96.0"
      ]
     },
     "execution_count": 408,
     "metadata": {},
     "output_type": "execute_result"
    }
   ],
   "source": [
    "accuracy_score(Y_test, Y_pred)*100"
   ]
  },
  {
   "cell_type": "code",
   "execution_count": null,
   "id": "6658c575",
   "metadata": {},
   "outputs": [],
   "source": []
  }
 ],
 "metadata": {
  "kernelspec": {
   "display_name": "Python 3 (ipykernel)",
   "language": "python",
   "name": "python3"
  },
  "language_info": {
   "codemirror_mode": {
    "name": "ipython",
    "version": 3
   },
   "file_extension": ".py",
   "mimetype": "text/x-python",
   "name": "python",
   "nbconvert_exporter": "python",
   "pygments_lexer": "ipython3",
   "version": "3.9.13"
  }
 },
 "nbformat": 4,
 "nbformat_minor": 5
}
